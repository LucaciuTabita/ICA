{
 "cells": [
  {
   "cell_type": "code",
   "execution_count": 1,
   "id": "initial_id",
   "metadata": {
    "collapsed": true,
    "ExecuteTime": {
     "end_time": "2024-10-28T15:13:29.414472Z",
     "start_time": "2024-10-28T15:13:29.409654Z"
    }
   },
   "outputs": [
    {
     "name": "stdout",
     "output_type": "stream",
     "text": [
      "The approximate square root of 25 is: 5.0\n",
      "The actual square root of 25 is: 5.0\n",
      "Difference from actual: 0.0\n"
     ]
    }
   ],
   "source": [
    "# Newton's method to compute the square root of a positive number\n",
    "def newtons_sqrt(a, initial_guess=1.0, tolerance=1e-10, max_iterations=1000):\n",
    "    x_n = initial_guess\n",
    "    for _ in range(max_iterations):\n",
    "        x_next = 0.5 * (x_n + a / x_n)\n",
    "        \n",
    "        # Check if the result is within the desired tolerance\n",
    "        if abs(x_next - x_n) < tolerance:\n",
    "            return x_next\n",
    "        \n",
    "        x_n = x_next\n",
    "    \n",
    "    # If the loop completes without returning, return the approximation\n",
    "    return x_n\n",
    "\n",
    "# Example: Compute the square root of a positive number\n",
    "a = 25  # You can change this to any positive number\n",
    "approx_sqrt = newtons_sqrt(a)\n",
    "print(f\"The approximate square root of {a} is: {approx_sqrt}\")\n",
    "print(f\"The actual square root of {a} is: {a**0.5}\")\n",
    "print(f\"Difference from actual: {abs(approx_sqrt - a**0.5)}\")\n"
   ]
  },
  {
   "cell_type": "code",
   "outputs": [],
   "source": [],
   "metadata": {
    "collapsed": false
   },
   "id": "a99ee6e59ab1abaf"
  }
 ],
 "metadata": {
  "kernelspec": {
   "display_name": "Python 3",
   "language": "python",
   "name": "python3"
  },
  "language_info": {
   "codemirror_mode": {
    "name": "ipython",
    "version": 2
   },
   "file_extension": ".py",
   "mimetype": "text/x-python",
   "name": "python",
   "nbconvert_exporter": "python",
   "pygments_lexer": "ipython2",
   "version": "2.7.6"
  }
 },
 "nbformat": 4,
 "nbformat_minor": 5
}
