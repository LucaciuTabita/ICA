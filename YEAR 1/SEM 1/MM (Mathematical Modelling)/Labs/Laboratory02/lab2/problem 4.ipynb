{
 "cells": [
  {
   "cell_type": "code",
   "execution_count": 1,
   "id": "initial_id",
   "metadata": {
    "collapsed": true,
    "ExecuteTime": {
     "end_time": "2024-10-28T15:22:10.718279Z",
     "start_time": "2024-10-28T15:22:10.435615Z"
    }
   },
   "outputs": [
    {
     "name": "stdout",
     "output_type": "stream",
     "text": [
      "2-Periodic points: [-4.23606797749979, -1.00000000000000, 0.236067977499790, 1.00000000000000]\n",
      "\n",
      "Stability at each periodic point:\n",
      "Point -4.23606797749979: Unstable, |f'(x)| = 3.23606797749979\n",
      "Point -1.00000000000000: Stable, |f'(x)| = 0\n",
      "Point 0.236067977499790: Unstable, |f'(x)| = -1.23606797749979\n",
      "Point 1.00000000000000: Unstable, |f'(x)| = -2.00000000000000\n"
     ]
    }
   ],
   "source": [
    "import sympy as sp\n",
    "\n",
    "# Define the symbolic variable and function\n",
    "x = sp.symbols('x')\n",
    "f = -1/2 * x**2 - x + 1/2\n",
    "\n",
    "# Compute f(f(x)) to find the 2-periodic points\n",
    "f_f = f.subs(x, f)  # Applying f(f(x))\n",
    "periodic_points = sp.solve(sp.Eq(f_f, x), x)\n",
    "print(\"2-Periodic points:\", periodic_points)\n",
    "\n",
    "# Check stability by computing the derivative of f and evaluating at the periodic points\n",
    "f_prime = sp.diff(f, x)\n",
    "stability = {}\n",
    "for point in periodic_points:\n",
    "    derivative_value = abs(f_prime.subs(x, point))\n",
    "    stability[point] = derivative_value < 1\n",
    "\n",
    "print(\"\\nStability at each periodic point:\")\n",
    "for point, is_stable in stability.items():\n",
    "    stability_str = \"Stable\" if is_stable else \"Unstable\"\n",
    "    print(f\"Point {point}: {stability_str}, |f'(x)| = {f_prime.subs(x, point)}\")\n"
   ]
  },
  {
   "cell_type": "code",
   "outputs": [],
   "source": [],
   "metadata": {
    "collapsed": false
   },
   "id": "faf6fb7b4e99abce"
  }
 ],
 "metadata": {
  "kernelspec": {
   "display_name": "Python 3",
   "language": "python",
   "name": "python3"
  },
  "language_info": {
   "codemirror_mode": {
    "name": "ipython",
    "version": 2
   },
   "file_extension": ".py",
   "mimetype": "text/x-python",
   "name": "python",
   "nbconvert_exporter": "python",
   "pygments_lexer": "ipython2",
   "version": "2.7.6"
  }
 },
 "nbformat": 4,
 "nbformat_minor": 5
}
