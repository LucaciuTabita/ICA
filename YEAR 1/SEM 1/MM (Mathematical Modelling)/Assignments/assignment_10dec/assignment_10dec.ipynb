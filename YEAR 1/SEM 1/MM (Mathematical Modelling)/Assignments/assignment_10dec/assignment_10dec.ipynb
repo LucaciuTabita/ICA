{
 "cells": [
  {
   "cell_type": "markdown",
   "source": [
    "Assignment - 10th December"
   ],
   "metadata": {
    "collapsed": false
   },
   "id": "c4c1d6918ca17640"
  },
  {
   "cell_type": "code",
   "outputs": [],
   "source": [
    "# Import required libraries\n",
    "from sympy import Function, rsolve, sympify, Symbol, latex\n",
    "from sympy.abc import n\n",
    "from IPython.display import Math\n",
    "import matplotlib.pyplot as plt"
   ],
   "metadata": {
    "collapsed": false,
    "ExecuteTime": {
     "end_time": "2024-12-10T16:30:41.945162Z",
     "start_time": "2024-12-10T16:30:40.966539Z"
    }
   },
   "id": "d3abdf24d904222a",
   "execution_count": 4
  },
  {
   "cell_type": "code",
   "outputs": [],
   "source": [
    "# Define symbolic function x(n)\n",
    "x = Function('x')"
   ],
   "metadata": {
    "collapsed": false,
    "ExecuteTime": {
     "end_time": "2024-12-10T16:31:07.528810Z",
     "start_time": "2024-12-10T16:31:07.511854Z"
    }
   },
   "id": "7dcd432ad64a47d6",
   "execution_count": 6
  },
  {
   "cell_type": "code",
   "outputs": [],
   "source": [
    "# Define equation (a)\n",
    "f = x(n+1) - ((n+1)/(n+2))**2*x(n) - 1/(n+2)"
   ],
   "metadata": {
    "collapsed": false,
    "ExecuteTime": {
     "end_time": "2024-12-10T16:41:18.351051Z",
     "start_time": "2024-12-10T16:41:18.158168Z"
    }
   },
   "id": "8088398a3ab67b1d",
   "execution_count": 7
  },
  {
   "cell_type": "code",
   "outputs": [
    {
     "name": "stdout",
     "output_type": "stream",
     "text": [
      "symbolic solution:\n"
     ]
    },
    {
     "data": {
      "text/plain": "<IPython.core.display.Math object>",
      "text/latex": "$\\displaystyle \\frac{n \\left(n + 3\\right)}{2 \\left(n + 1\\right)^{2}}$"
     },
     "metadata": {},
     "output_type": "display_data"
    }
   ],
   "source": [
    "# Solve for x(n) with initial condition x(0) = 1\n",
    "sol = rsolve(f, x(n), {x(0):1})\n",
    "\n",
    "print(f\"symbolic solution:\")\n",
    "display(Math(latex(sol)))"
   ],
   "metadata": {
    "collapsed": false,
    "ExecuteTime": {
     "end_time": "2024-12-10T16:41:31.686295Z",
     "start_time": "2024-12-10T16:41:31.473326Z"
    }
   },
   "id": "2730aeb27814146f",
   "execution_count": 8
  },
  {
   "cell_type": "code",
   "outputs": [],
   "source": [],
   "metadata": {
    "collapsed": false,
    "ExecuteTime": {
     "end_time": "2024-12-10T16:42:09.483247Z",
     "start_time": "2024-12-10T16:42:09.474212Z"
    }
   },
   "id": "d6aee8b9c5bfde2c",
   "execution_count": 10
  },
  {
   "cell_type": "code",
   "outputs": [],
   "source": [],
   "metadata": {
    "collapsed": false
   },
   "id": "b06f7bf96c81bfa"
  }
 ],
 "metadata": {
  "kernelspec": {
   "display_name": "Python 3",
   "language": "python",
   "name": "python3"
  },
  "language_info": {
   "codemirror_mode": {
    "name": "ipython",
    "version": 2
   },
   "file_extension": ".py",
   "mimetype": "text/x-python",
   "name": "python",
   "nbconvert_exporter": "python",
   "pygments_lexer": "ipython2",
   "version": "2.7.6"
  }
 },
 "nbformat": 4,
 "nbformat_minor": 5
}
