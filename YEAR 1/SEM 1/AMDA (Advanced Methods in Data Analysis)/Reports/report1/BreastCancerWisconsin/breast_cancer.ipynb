{
 "cells": [
  {
   "cell_type": "code",
   "execution_count": 18,
   "id": "initial_id",
   "metadata": {
    "collapsed": true,
    "ExecuteTime": {
     "end_time": "2024-11-22T18:20:16.522233Z",
     "start_time": "2024-11-22T18:20:16.516623Z"
    }
   },
   "outputs": [],
   "source": [
    "import pandas as pd"
   ]
  },
  {
   "cell_type": "code",
   "outputs": [],
   "source": [
    "df = pd.read_csv('data.csv')"
   ],
   "metadata": {
    "collapsed": false,
    "ExecuteTime": {
     "end_time": "2024-11-22T18:20:16.773162Z",
     "start_time": "2024-11-22T18:20:16.745321Z"
    }
   },
   "id": "7632ca52b45925e8",
   "execution_count": 19
  },
  {
   "cell_type": "code",
   "outputs": [
    {
     "data": {
      "text/plain": "         id diagnosis  radius_mean  texture_mean  perimeter_mean  area_mean  \\\n0    842302         M        17.99         10.38          122.80     1001.0   \n1    842517         M        20.57         17.77          132.90     1326.0   \n2  84300903         M        19.69         21.25          130.00     1203.0   \n3  84348301         M        11.42         20.38           77.58      386.1   \n4  84358402         M        20.29         14.34          135.10     1297.0   \n\n   smoothness_mean  compactness_mean  concavity_mean  concave points_mean  \\\n0          0.11840           0.27760          0.3001              0.14710   \n1          0.08474           0.07864          0.0869              0.07017   \n2          0.10960           0.15990          0.1974              0.12790   \n3          0.14250           0.28390          0.2414              0.10520   \n4          0.10030           0.13280          0.1980              0.10430   \n\n   ...  texture_worst  perimeter_worst  area_worst  smoothness_worst  \\\n0  ...          17.33           184.60      2019.0            0.1622   \n1  ...          23.41           158.80      1956.0            0.1238   \n2  ...          25.53           152.50      1709.0            0.1444   \n3  ...          26.50            98.87       567.7            0.2098   \n4  ...          16.67           152.20      1575.0            0.1374   \n\n   compactness_worst  concavity_worst  concave points_worst  symmetry_worst  \\\n0             0.6656           0.7119                0.2654          0.4601   \n1             0.1866           0.2416                0.1860          0.2750   \n2             0.4245           0.4504                0.2430          0.3613   \n3             0.8663           0.6869                0.2575          0.6638   \n4             0.2050           0.4000                0.1625          0.2364   \n\n   fractal_dimension_worst  Unnamed: 32  \n0                  0.11890          NaN  \n1                  0.08902          NaN  \n2                  0.08758          NaN  \n3                  0.17300          NaN  \n4                  0.07678          NaN  \n\n[5 rows x 33 columns]",
      "text/html": "<div>\n<style scoped>\n    .dataframe tbody tr th:only-of-type {\n        vertical-align: middle;\n    }\n\n    .dataframe tbody tr th {\n        vertical-align: top;\n    }\n\n    .dataframe thead th {\n        text-align: right;\n    }\n</style>\n<table border=\"1\" class=\"dataframe\">\n  <thead>\n    <tr style=\"text-align: right;\">\n      <th></th>\n      <th>id</th>\n      <th>diagnosis</th>\n      <th>radius_mean</th>\n      <th>texture_mean</th>\n      <th>perimeter_mean</th>\n      <th>area_mean</th>\n      <th>smoothness_mean</th>\n      <th>compactness_mean</th>\n      <th>concavity_mean</th>\n      <th>concave points_mean</th>\n      <th>...</th>\n      <th>texture_worst</th>\n      <th>perimeter_worst</th>\n      <th>area_worst</th>\n      <th>smoothness_worst</th>\n      <th>compactness_worst</th>\n      <th>concavity_worst</th>\n      <th>concave points_worst</th>\n      <th>symmetry_worst</th>\n      <th>fractal_dimension_worst</th>\n      <th>Unnamed: 32</th>\n    </tr>\n  </thead>\n  <tbody>\n    <tr>\n      <th>0</th>\n      <td>842302</td>\n      <td>M</td>\n      <td>17.99</td>\n      <td>10.38</td>\n      <td>122.80</td>\n      <td>1001.0</td>\n      <td>0.11840</td>\n      <td>0.27760</td>\n      <td>0.3001</td>\n      <td>0.14710</td>\n      <td>...</td>\n      <td>17.33</td>\n      <td>184.60</td>\n      <td>2019.0</td>\n      <td>0.1622</td>\n      <td>0.6656</td>\n      <td>0.7119</td>\n      <td>0.2654</td>\n      <td>0.4601</td>\n      <td>0.11890</td>\n      <td>NaN</td>\n    </tr>\n    <tr>\n      <th>1</th>\n      <td>842517</td>\n      <td>M</td>\n      <td>20.57</td>\n      <td>17.77</td>\n      <td>132.90</td>\n      <td>1326.0</td>\n      <td>0.08474</td>\n      <td>0.07864</td>\n      <td>0.0869</td>\n      <td>0.07017</td>\n      <td>...</td>\n      <td>23.41</td>\n      <td>158.80</td>\n      <td>1956.0</td>\n      <td>0.1238</td>\n      <td>0.1866</td>\n      <td>0.2416</td>\n      <td>0.1860</td>\n      <td>0.2750</td>\n      <td>0.08902</td>\n      <td>NaN</td>\n    </tr>\n    <tr>\n      <th>2</th>\n      <td>84300903</td>\n      <td>M</td>\n      <td>19.69</td>\n      <td>21.25</td>\n      <td>130.00</td>\n      <td>1203.0</td>\n      <td>0.10960</td>\n      <td>0.15990</td>\n      <td>0.1974</td>\n      <td>0.12790</td>\n      <td>...</td>\n      <td>25.53</td>\n      <td>152.50</td>\n      <td>1709.0</td>\n      <td>0.1444</td>\n      <td>0.4245</td>\n      <td>0.4504</td>\n      <td>0.2430</td>\n      <td>0.3613</td>\n      <td>0.08758</td>\n      <td>NaN</td>\n    </tr>\n    <tr>\n      <th>3</th>\n      <td>84348301</td>\n      <td>M</td>\n      <td>11.42</td>\n      <td>20.38</td>\n      <td>77.58</td>\n      <td>386.1</td>\n      <td>0.14250</td>\n      <td>0.28390</td>\n      <td>0.2414</td>\n      <td>0.10520</td>\n      <td>...</td>\n      <td>26.50</td>\n      <td>98.87</td>\n      <td>567.7</td>\n      <td>0.2098</td>\n      <td>0.8663</td>\n      <td>0.6869</td>\n      <td>0.2575</td>\n      <td>0.6638</td>\n      <td>0.17300</td>\n      <td>NaN</td>\n    </tr>\n    <tr>\n      <th>4</th>\n      <td>84358402</td>\n      <td>M</td>\n      <td>20.29</td>\n      <td>14.34</td>\n      <td>135.10</td>\n      <td>1297.0</td>\n      <td>0.10030</td>\n      <td>0.13280</td>\n      <td>0.1980</td>\n      <td>0.10430</td>\n      <td>...</td>\n      <td>16.67</td>\n      <td>152.20</td>\n      <td>1575.0</td>\n      <td>0.1374</td>\n      <td>0.2050</td>\n      <td>0.4000</td>\n      <td>0.1625</td>\n      <td>0.2364</td>\n      <td>0.07678</td>\n      <td>NaN</td>\n    </tr>\n  </tbody>\n</table>\n<p>5 rows × 33 columns</p>\n</div>"
     },
     "execution_count": 20,
     "metadata": {},
     "output_type": "execute_result"
    }
   ],
   "source": [
    "df.head()"
   ],
   "metadata": {
    "collapsed": false,
    "ExecuteTime": {
     "end_time": "2024-11-22T18:20:17.042719Z",
     "start_time": "2024-11-22T18:20:17.027993Z"
    }
   },
   "id": "8515c548d7ff8d05",
   "execution_count": 20
  },
  {
   "cell_type": "code",
   "outputs": [],
   "source": [
    "import numpy as np\n",
    "from sklearn.model_selection import train_test_split\n",
    "from sklearn.preprocessing import StandardScaler, LabelEncoder\n",
    "from sklearn.metrics import classification_report, confusion_matrix\n",
    "import xgboost as xgb\n",
    "import matplotlib as plt\n",
    "import seaborn as sns"
   ],
   "metadata": {
    "collapsed": false,
    "ExecuteTime": {
     "end_time": "2024-11-22T18:20:17.303799Z",
     "start_time": "2024-11-22T18:20:17.301884Z"
    }
   },
   "id": "b78255bcc1c33a60",
   "execution_count": 21
  },
  {
   "cell_type": "code",
   "outputs": [],
   "source": [
    "# Drop id column and encode diagnosis\n",
    "X = df.drop(['id', 'diagnosis'], axis=1)\n",
    "y = df['diagnosis'].map({'M': 1, 'B': 0})"
   ],
   "metadata": {
    "collapsed": false,
    "ExecuteTime": {
     "end_time": "2024-11-22T18:20:17.602900Z",
     "start_time": "2024-11-22T18:20:17.596470Z"
    }
   },
   "id": "f450e6750f717b",
   "execution_count": 22
  },
  {
   "cell_type": "code",
   "outputs": [
    {
     "data": {
      "text/plain": "0      1\n1      1\n2      1\n3      1\n4      1\n      ..\n564    1\n565    1\n566    1\n567    1\n568    0\nName: diagnosis, Length: 569, dtype: int64"
     },
     "execution_count": 23,
     "metadata": {},
     "output_type": "execute_result"
    }
   ],
   "source": [
    "y"
   ],
   "metadata": {
    "collapsed": false,
    "ExecuteTime": {
     "end_time": "2024-11-22T18:20:17.821136Z",
     "start_time": "2024-11-22T18:20:17.816563Z"
    }
   },
   "id": "2ad140a513794089",
   "execution_count": 23
  },
  {
   "cell_type": "code",
   "outputs": [],
   "source": [
    "# Split data\n",
    "X_train, X_test, y_train, y_test = train_test_split(X, y, test_size=0.2, random_state=0)"
   ],
   "metadata": {
    "collapsed": false,
    "ExecuteTime": {
     "end_time": "2024-11-22T18:20:18.346409Z",
     "start_time": "2024-11-22T18:20:18.330900Z"
    }
   },
   "id": "d87e9afbbf8ebc39",
   "execution_count": 24
  },
  {
   "cell_type": "code",
   "outputs": [],
   "source": [
    "# Train XGBoost model\n",
    "model = xgb.XGBClassifier(\n",
    "    learning_rate=0.01,\n",
    "    n_estimators=200,\n",
    "    max_depth=4,\n",
    "    min_child_weight=2,\n",
    "    subsample=0.8,\n",
    "    colsample_bytree=0.8,\n",
    "    random_state=42\n",
    ")"
   ],
   "metadata": {
    "collapsed": false,
    "ExecuteTime": {
     "end_time": "2024-11-22T18:20:18.807873Z",
     "start_time": "2024-11-22T18:20:18.793457Z"
    }
   },
   "id": "3564a573ebcc0012",
   "execution_count": 25
  },
  {
   "cell_type": "code",
   "outputs": [],
   "source": [
    "model.fit(X_train, y_train)\n",
    "y_pred = model.predict(X_test)"
   ],
   "metadata": {
    "collapsed": false,
    "ExecuteTime": {
     "end_time": "2024-11-22T18:20:19.601617Z",
     "start_time": "2024-11-22T18:20:19.429753Z"
    }
   },
   "id": "f25801cb5d37ac6d",
   "execution_count": 26
  },
  {
   "cell_type": "code",
   "outputs": [
    {
     "name": "stdout",
     "output_type": "stream",
     "text": [
      "Classification Report:\n",
      "              precision    recall  f1-score   support\n",
      "\n",
      "           0       0.96      0.99      0.97        67\n",
      "           1       0.98      0.94      0.96        47\n",
      "\n",
      "    accuracy                           0.96       114\n",
      "   macro avg       0.97      0.96      0.96       114\n",
      "weighted avg       0.97      0.96      0.96       114\n"
     ]
    }
   ],
   "source": [
    "# Evaluate model\n",
    "print(\"Classification Report:\")\n",
    "print(classification_report(y_test, y_pred))"
   ],
   "metadata": {
    "collapsed": false,
    "ExecuteTime": {
     "end_time": "2024-11-22T18:20:19.890749Z",
     "start_time": "2024-11-22T18:20:19.871725Z"
    }
   },
   "id": "89f9dd9a094b62ae",
   "execution_count": 27
  },
  {
   "cell_type": "code",
   "outputs": [
    {
     "name": "stdout",
     "output_type": "stream",
     "text": [
      "\n",
      "Top 5 Important Features:\n",
      "                 feature  importance\n",
      "7    concave points_mean    0.241216\n",
      "22       perimeter_worst    0.181556\n",
      "27  concave points_worst    0.155799\n",
      "20          radius_worst    0.069744\n",
      "23            area_worst    0.057086\n"
     ]
    }
   ],
   "source": [
    "# Feature importance\n",
    "importance_df = pd.DataFrame({\n",
    "    'feature': X_train.columns,\n",
    "    'importance': model.feature_importances_\n",
    "}).sort_values('importance', ascending=False)\n",
    "\n",
    "print(\"\\nTop 5 Important Features:\")\n",
    "print(importance_df.head())"
   ],
   "metadata": {
    "collapsed": false,
    "ExecuteTime": {
     "end_time": "2024-11-22T18:20:20.744046Z",
     "start_time": "2024-11-22T18:20:20.723980Z"
    }
   },
   "id": "ec603de537adf1e6",
   "execution_count": 28
  },
  {
   "cell_type": "code",
   "outputs": [
    {
     "data": {
      "text/plain": "<Figure size 1000x800 with 2 Axes>",
      "image/png": "[encoded data removed]"
     },
     "metadata": {},
     "output_type": "display_data"
    }
   ],
   "source": [
    "import matplotlib.pyplot as plt\n",
    "# Plot confusion matrix\n",
    "plt.figure(figsize=(10,8))\n",
    "sns.heatmap(confusion_matrix(y_test, y_pred), annot=True, fmt='d', cmap='Blues')\n",
    "plt.title('Confusion Matrix')\n",
    "plt.ylabel('True Label')\n",
    "plt.xlabel('Predicted Label')\n",
    "plt.show()"
   ],
   "metadata": {
    "collapsed": false,
    "ExecuteTime": {
     "end_time": "2024-11-22T18:22:30.277873Z",
     "start_time": "2024-11-22T18:22:30.034053Z"
    }
   },
   "id": "1d73d4d309977655",
   "execution_count": 31
  },
  {
   "cell_type": "code",
   "outputs": [],
   "source": [
    "from sklearn.model_selection import cross_validate\n",
    "from sklearn.metrics import mean_squared_error, confusion_matrix, classification_report, r2_score\n",
    "\n",
    "r2 = r2_score(y_test, y_pred)\n",
    "rmse = np.sqrt(mean_squared_error(y_test, y_pred))\n",
    "cross_val_scores = cross_validate(model, X, y, cv=5, scoring=['r2', 'neg_root_mean_squared_error'])"
   ],
   "metadata": {
    "collapsed": false,
    "ExecuteTime": {
     "end_time": "2024-11-23T11:50:59.146476Z",
     "start_time": "2024-11-23T11:50:58.209887Z"
    }
   },
   "id": "abd1561b50b17978",
   "execution_count": 32
  },
  {
   "cell_type": "code",
   "outputs": [
    {
     "data": {
      "text/plain": "{'model': 'XGBoost',\n 'R2': 0.8551921244839632,\n 'RMSE': 0.1873171623163388,\n 'Cross Validation R2': 0.8125364590644641,\n 'Cross Validation RMSE': 0.20229621787341956}"
     },
     "execution_count": 37,
     "metadata": {},
     "output_type": "execute_result"
    }
   ],
   "source": [
    "results = {\n",
    "            \"model\": \"XGBoost\",\n",
    "            \"R2\": r2,\n",
    "            \"RMSE\": rmse,\n",
    "            \"Cross Validation R2\": cross_val_scores['test_r2'].mean(),\n",
    "            \"Cross Validation RMSE\": np.mean(-cross_val_scores['test_neg_root_mean_squared_error'])\n",
    "        }\n",
    "        \n",
    "results"
   ],
   "metadata": {
    "collapsed": false,
    "ExecuteTime": {
     "end_time": "2024-11-23T11:52:39.297730Z",
     "start_time": "2024-11-23T11:52:39.285955Z"
    }
   },
   "id": "b70e207c9f25cfeb",
   "execution_count": 37
  },
  {
   "cell_type": "code",
   "outputs": [
    {
     "name": "stdout",
     "output_type": "stream",
     "text": [
      "Model Performance Metrics:\n",
      "\n",
      "1. Accuracy:\n",
      "   - Test set: 0.965\n",
      "   - Cross-validation: 0.956 (±0.023)\n",
      "   Interpretation: The model correctly classifies 96.5% of the cases.\n",
      "\n",
      "2. Mean Absolute Error (MAE):\n",
      "   - Test set: 0.035\n",
      "   Interpretation: On average, the predicted probabilities deviate by 0.035 from the true labels.\n",
      "\n",
      "Cross-validation Analysis:\n",
      "- The model achieves 95.6% accuracy across different data splits\n",
      "- Standard deviation of 0.023 indicates model stability\n",
      "\n",
      "Additional Classification Metrics:\n",
      "- Precision: 0.978 (accuracy of positive predictions)\n",
      "- Recall: 0.936 (fraction of positives correctly identified)\n",
      "- F1 Score: 0.957 (harmonic mean of precision and recall)\n"
     ]
    },
    {
     "data": {
      "text/plain": "{'model': 'XGBoost',\n 'Accuracy': 0.9649122807017544,\n 'MAE': 0.03508771929824561,\n 'Cross Validation Accuracy': 0.9560937742586555,\n 'Cross Validation Std': 0.02283883380490945}"
     },
     "execution_count": 41,
     "metadata": {},
     "output_type": "execute_result"
    }
   ],
   "source": [
    "from sklearn.model_selection import cross_val_score\n",
    "from sklearn.metrics import mean_absolute_error, r2_score, mean_squared_error, accuracy_score\n",
    "import numpy as np\n",
    "\n",
    "# Calculate metrics\n",
    "mae = mean_absolute_error(y_test, y_pred)\n",
    "\n",
    "# For classification, we'll use different cross-validation scoring metrics\n",
    "cv_scores = cross_val_score(model, X, y, cv=5, scoring='accuracy')\n",
    "\n",
    "results = {\n",
    "    \"model\": \"XGBoost\",\n",
    "    \"Accuracy\": accuracy_score(y_test, y_pred),\n",
    "    \"MAE\": mae,\n",
    "    \"Cross Validation Accuracy\": cv_scores.mean(),\n",
    "    \"Cross Validation Std\": cv_scores.std()\n",
    "}\n",
    "\n",
    "# Create a formatted display of results with interpretations\n",
    "print(\"Model Performance Metrics:\\n\")\n",
    "print(f\"1. Accuracy:\")\n",
    "print(f\"   - Test set: {results['Accuracy']:.3f}\")\n",
    "print(f\"   - Cross-validation: {results['Cross Validation Accuracy']:.3f} (±{results['Cross Validation Std']:.3f})\")\n",
    "print(f\"   Interpretation: The model correctly classifies {results['Accuracy']*100:.1f}% of the cases.\\n\")\n",
    "\n",
    "print(f\"2. Mean Absolute Error (MAE):\")\n",
    "print(f\"   - Test set: {results['MAE']:.3f}\")\n",
    "print(f\"   Interpretation: On average, the predicted probabilities deviate by {results['MAE']:.3f} from the true labels.\\n\")\n",
    "\n",
    "print(\"Cross-validation Analysis:\")\n",
    "print(f\"- The model achieves {results['Cross Validation Accuracy']*100:.1f}% accuracy across different data splits\")\n",
    "print(f\"- Standard deviation of {results['Cross Validation Std']:.3f} indicates model stability\")\n",
    "\n",
    "# Additional context for binary classification\n",
    "from sklearn.metrics import precision_score, recall_score, f1_score\n",
    "\n",
    "precision = precision_score(y_test, y_pred)\n",
    "recall = recall_score(y_test, y_pred)\n",
    "f1 = f1_score(y_test, y_pred)\n",
    "\n",
    "print(\"\\nAdditional Classification Metrics:\")\n",
    "print(f\"- Precision: {precision:.3f} (accuracy of positive predictions)\")\n",
    "print(f\"- Recall: {recall:.3f} (fraction of positives correctly identified)\")\n",
    "print(f\"- F1 Score: {f1:.3f} (harmonic mean of precision and recall)\")\n",
    "\n",
    "results  # Return the dictionary of results"
   ],
   "metadata": {
    "collapsed": false,
    "ExecuteTime": {
     "end_time": "2024-11-23T11:56:06.573262Z",
     "start_time": "2024-11-23T11:56:05.672295Z"
    }
   },
   "id": "d85d3858ad112d00",
   "execution_count": 41
  }
 ],
 "metadata": {
  "kernelspec": {
   "display_name": "Python 3",
   "language": "python",
   "name": "python3"
  },
  "language_info": {
   "codemirror_mode": {
    "name": "ipython",
    "version": 2
   },
   "file_extension": ".py",
   "mimetype": "text/x-python",
   "name": "python",
   "nbconvert_exporter": "python",
   "pygments_lexer": "ipython2",
   "version": "2.7.6"
  }
 },
 "nbformat": 4,
 "nbformat_minor": 5
}
