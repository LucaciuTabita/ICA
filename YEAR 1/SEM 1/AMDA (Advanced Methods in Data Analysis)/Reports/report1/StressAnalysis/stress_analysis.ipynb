{
 "cells": [
  {
   "cell_type": "code",
   "execution_count": 1,
   "id": "initial_id",
   "metadata": {
    "collapsed": true,
    "ExecuteTime": {
     "end_time": "2024-11-20T13:38:33.813198Z",
     "start_time": "2024-11-20T13:38:33.811765Z"
    }
   },
   "outputs": [],
   "source": [
    "import pandas as pd"
   ]
  },
  {
   "cell_type": "code",
   "outputs": [],
   "source": [
    "df = pd.read_csv('stress_detection.csv')"
   ],
   "metadata": {
    "collapsed": false,
    "ExecuteTime": {
     "end_time": "2024-11-20T13:39:50.850135Z",
     "start_time": "2024-11-20T13:39:50.824885Z"
    }
   },
   "id": "d3fcc9363e2742ad",
   "execution_count": 2
  },
  {
   "cell_type": "code",
   "outputs": [
    {
     "data": {
      "text/plain": "   participant_id  day  PSS_score  Openness  Conscientiousness  Extraversion  \\\n0               1    1         34  2.322732           4.332193      1.185878   \n1               1    2         37  1.761436           3.254120      3.907281   \n2               1    3         30  3.025887           1.855002      2.045900   \n3               1    4         16  1.948370           4.966676      3.345225   \n4               1    5         32  3.343484           2.065936      3.137843   \n\n   Agreeableness  Neuroticism  sleep_time  wake_time  sleep_duration  \\\n0       1.570213     3.782094    7.726792   5.190660        6.572069   \n1       4.072512     1.997145    7.312674   6.170717        8.030168   \n2       2.317493     3.619225    6.992060   5.318825        7.102420   \n3       1.607756     3.583524    8.886914   8.061075        8.123294   \n4       2.118061     2.567347    7.811705   7.312145        7.785143   \n\n   PSQI_score  call_duration  num_calls  num_sms  screen_on_time  \\\n0           1       3.924527         12       32       10.703714   \n1           4      58.318004          3       41       11.012939   \n2           1       4.941043          4       48        4.877372   \n3           3       0.295373         11       38        3.462956   \n4           3      22.300571         17       17        4.861046   \n\n   skin_conductance  accelerometer  mobility_radius  mobility_distance  \n0          3.115730       0.161717         1.145179           2.196851  \n1          0.959144       0.985587         1.021133           0.737825  \n2          3.311629       1.877445         0.478179           0.911673  \n3          0.625721       0.494921         0.630549           3.911418  \n4          0.622609       1.342600         0.254090           1.605132  ",
      "text/html": "<div>\n<style scoped>\n    .dataframe tbody tr th:only-of-type {\n        vertical-align: middle;\n    }\n\n    .dataframe tbody tr th {\n        vertical-align: top;\n    }\n\n    .dataframe thead th {\n        text-align: right;\n    }\n</style>\n<table border=\"1\" class=\"dataframe\">\n  <thead>\n    <tr style=\"text-align: right;\">\n      <th></th>\n      <th>participant_id</th>\n      <th>day</th>\n      <th>PSS_score</th>\n      <th>Openness</th>\n      <th>Conscientiousness</th>\n      <th>Extraversion</th>\n      <th>Agreeableness</th>\n      <th>Neuroticism</th>\n      <th>sleep_time</th>\n      <th>wake_time</th>\n      <th>sleep_duration</th>\n      <th>PSQI_score</th>\n      <th>call_duration</th>\n      <th>num_calls</th>\n      <th>num_sms</th>\n      <th>screen_on_time</th>\n      <th>skin_conductance</th>\n      <th>accelerometer</th>\n      <th>mobility_radius</th>\n      <th>mobility_distance</th>\n    </tr>\n  </thead>\n  <tbody>\n    <tr>\n      <th>0</th>\n      <td>1</td>\n      <td>1</td>\n      <td>34</td>\n      <td>2.322732</td>\n      <td>4.332193</td>\n      <td>1.185878</td>\n      <td>1.570213</td>\n      <td>3.782094</td>\n      <td>7.726792</td>\n      <td>5.190660</td>\n      <td>6.572069</td>\n      <td>1</td>\n      <td>3.924527</td>\n      <td>12</td>\n      <td>32</td>\n      <td>10.703714</td>\n      <td>3.115730</td>\n      <td>0.161717</td>\n      <td>1.145179</td>\n      <td>2.196851</td>\n    </tr>\n    <tr>\n      <th>1</th>\n      <td>1</td>\n      <td>2</td>\n      <td>37</td>\n      <td>1.761436</td>\n      <td>3.254120</td>\n      <td>3.907281</td>\n      <td>4.072512</td>\n      <td>1.997145</td>\n      <td>7.312674</td>\n      <td>6.170717</td>\n      <td>8.030168</td>\n      <td>4</td>\n      <td>58.318004</td>\n      <td>3</td>\n      <td>41</td>\n      <td>11.012939</td>\n      <td>0.959144</td>\n      <td>0.985587</td>\n      <td>1.021133</td>\n      <td>0.737825</td>\n    </tr>\n    <tr>\n      <th>2</th>\n      <td>1</td>\n      <td>3</td>\n      <td>30</td>\n      <td>3.025887</td>\n      <td>1.855002</td>\n      <td>2.045900</td>\n      <td>2.317493</td>\n      <td>3.619225</td>\n      <td>6.992060</td>\n      <td>5.318825</td>\n      <td>7.102420</td>\n      <td>1</td>\n      <td>4.941043</td>\n      <td>4</td>\n      <td>48</td>\n      <td>4.877372</td>\n      <td>3.311629</td>\n      <td>1.877445</td>\n      <td>0.478179</td>\n      <td>0.911673</td>\n    </tr>\n    <tr>\n      <th>3</th>\n      <td>1</td>\n      <td>4</td>\n      <td>16</td>\n      <td>1.948370</td>\n      <td>4.966676</td>\n      <td>3.345225</td>\n      <td>1.607756</td>\n      <td>3.583524</td>\n      <td>8.886914</td>\n      <td>8.061075</td>\n      <td>8.123294</td>\n      <td>3</td>\n      <td>0.295373</td>\n      <td>11</td>\n      <td>38</td>\n      <td>3.462956</td>\n      <td>0.625721</td>\n      <td>0.494921</td>\n      <td>0.630549</td>\n      <td>3.911418</td>\n    </tr>\n    <tr>\n      <th>4</th>\n      <td>1</td>\n      <td>5</td>\n      <td>32</td>\n      <td>3.343484</td>\n      <td>2.065936</td>\n      <td>3.137843</td>\n      <td>2.118061</td>\n      <td>2.567347</td>\n      <td>7.811705</td>\n      <td>7.312145</td>\n      <td>7.785143</td>\n      <td>3</td>\n      <td>22.300571</td>\n      <td>17</td>\n      <td>17</td>\n      <td>4.861046</td>\n      <td>0.622609</td>\n      <td>1.342600</td>\n      <td>0.254090</td>\n      <td>1.605132</td>\n    </tr>\n  </tbody>\n</table>\n</div>"
     },
     "execution_count": 3,
     "metadata": {},
     "output_type": "execute_result"
    }
   ],
   "source": [
    "df.head()"
   ],
   "metadata": {
    "collapsed": false,
    "ExecuteTime": {
     "end_time": "2024-11-20T13:39:56.382402Z",
     "start_time": "2024-11-20T13:39:56.363843Z"
    }
   },
   "id": "46a9b3d2089af5ea",
   "execution_count": 3
  },
  {
   "cell_type": "code",
   "outputs": [],
   "source": [
    "# Import required libraries\n",
    "import pandas as pd\n",
    "import numpy as np\n",
    "from sklearn.model_selection import train_test_split\n",
    "from sklearn.preprocessing import StandardScaler, LabelEncoder\n",
    "from xgboost import XGBClassifier\n",
    "from sklearn.metrics import classification_report, confusion_matrix\n",
    "import matplotlib.pyplot as plt\n",
    "import seaborn as sns"
   ],
   "metadata": {
    "collapsed": false,
    "ExecuteTime": {
     "end_time": "2024-11-20T13:56:20.161786Z",
     "start_time": "2024-11-20T13:56:20.155545Z"
    }
   },
   "id": "79b51ccfb6555ed2",
   "execution_count": 15
  },
  {
   "cell_type": "code",
   "outputs": [
    {
     "data": {
      "text/plain": "0            no stress\n1         interruption\n2         interruption\n3            no stress\n4            no stress\n              ...     \n369284       no stress\n369285       no stress\n369286       no stress\n369287       no stress\n369288       no stress\nName: condition, Length: 369289, dtype: object"
     },
     "execution_count": 12,
     "metadata": {},
     "output_type": "execute_result"
    }
   ],
   "source": [
    "# Load SWELL dataset\n",
    "data = pd.read_csv('train.csv')\n",
    "data['condition']"
   ],
   "metadata": {
    "collapsed": false,
    "ExecuteTime": {
     "end_time": "2024-11-20T13:53:57.306937Z",
     "start_time": "2024-11-20T13:53:56.014139Z"
    }
   },
   "id": "5225f3590ffed299",
   "execution_count": 12
  },
  {
   "cell_type": "code",
   "outputs": [
    {
     "data": {
      "text/plain": "array([[ 0.30904143,  0.08916087,  0.41002947, ..., -0.67275865,\n         0.37334785, -0.30240555],\n       [ 0.74456201,  0.80404558, -0.36353616, ..., -0.92307306,\n         0.54119807, -1.56903886],\n       [ 0.41359844,  0.49153993, -0.32230664, ..., -0.76971081,\n         0.35207093, -0.09611535],\n       ...,\n       [ 1.43534642,  1.38302122, -0.18210442, ..., -0.94848808,\n         0.73996194, -0.67629604],\n       [-0.38944985, -0.29025121, -0.40072444, ..., -0.24349624,\n         0.1408559 , -0.00571249],\n       [-0.25858914, -0.20244055, -0.5401557 , ..., -0.26188235,\n         0.70397363,  0.83281311]])"
     },
     "execution_count": 16,
     "metadata": {},
     "output_type": "execute_result"
    }
   ],
   "source": [
    "# Load train and test data\n",
    "train_data = pd.read_csv('train.csv')\n",
    "test_data = pd.read_csv('test.csv')\n",
    "\n",
    "# Separate features and target\n",
    "X_train = train_data.drop(['condition', 'datasetId'], axis=1)\n",
    "y_train = train_data['condition']\n",
    "X_test = test_data.drop(['condition', 'datasetId'], axis=1)\n",
    "y_test = test_data['condition']\n",
    "\n",
    "# Encode labels\n",
    "le = LabelEncoder()\n",
    "y_train = le.fit_transform(y_train)\n",
    "y_test = le.transform(y_test)\n",
    "\n",
    "# Scale the features\n",
    "scaler = StandardScaler()\n",
    "X_train_scaled = scaler.fit_transform(X_train)\n",
    "X_test_scaled = scaler.transform(X_test)\n",
    "\n",
    "X_train_scaled"
   ],
   "metadata": {
    "collapsed": false,
    "ExecuteTime": {
     "end_time": "2024-11-20T13:56:47.511618Z",
     "start_time": "2024-11-20T13:56:46.013266Z"
    }
   },
   "id": "36abea8b742ed50d",
   "execution_count": 16
  },
  {
   "cell_type": "code",
   "outputs": [],
   "source": [
    "# Train XGBoost model\n",
    "model = XGBClassifier(\n",
    "    learning_rate=0.1,\n",
    "    n_estimators=100,\n",
    "    max_depth=5,\n",
    "    min_child_weight=1,\n",
    "    gamma=0,\n",
    "    subsample=0.8,\n",
    "    colsample_bytree=0.8,\n",
    "    objective='multi:softprob',\n",
    "    random_state=42\n",
    ")"
   ],
   "metadata": {
    "collapsed": false,
    "ExecuteTime": {
     "end_time": "2024-11-20T13:54:21.910772Z",
     "start_time": "2024-11-20T13:54:21.903914Z"
    }
   },
   "id": "d13101428681538b",
   "execution_count": 13
  },
  {
   "cell_type": "code",
   "outputs": [
    {
     "data": {
      "text/plain": "XGBClassifier(base_score=None, booster=None, callbacks=None,\n              colsample_bylevel=None, colsample_bynode=None,\n              colsample_bytree=0.8, device=None, early_stopping_rounds=None,\n              enable_categorical=False, eval_metric=None, feature_types=None,\n              gamma=0, grow_policy=None, importance_type=None,\n              interaction_constraints=None, learning_rate=0.1, max_bin=None,\n              max_cat_threshold=None, max_cat_to_onehot=None,\n              max_delta_step=None, max_depth=5, max_leaves=None,\n              min_child_weight=1, missing=nan, monotone_constraints=None,\n              multi_strategy=None, n_estimators=100, n_jobs=None,\n              num_parallel_tree=None, objective='multi:softprob', ...)",
      "text/html": "<style>#sk-container-id-1 {color: black;}#sk-container-id-1 pre{padding: 0;}#sk-container-id-1 div.sk-toggleable {background-color: white;}#sk-container-id-1 label.sk-toggleable__label {cursor: pointer;display: block;width: 100%;margin-bottom: 0;padding: 0.3em;box-sizing: border-box;text-align: center;}#sk-container-id-1 label.sk-toggleable__label-arrow:before {content: \"▸\";float: left;margin-right: 0.25em;color: #696969;}#sk-container-id-1 label.sk-toggleable__label-arrow:hover:before {color: black;}#sk-container-id-1 div.sk-estimator:hover label.sk-toggleable__label-arrow:before {color: black;}#sk-container-id-1 div.sk-toggleable__content {max-height: 0;max-width: 0;overflow: hidden;text-align: left;background-color: #f0f8ff;}#sk-container-id-1 div.sk-toggleable__content pre {margin: 0.2em;color: black;border-radius: 0.25em;background-color: #f0f8ff;}#sk-container-id-1 input.sk-toggleable__control:checked~div.sk-toggleable__content {max-height: 200px;max-width: 100%;overflow: auto;}#sk-container-id-1 input.sk-toggleable__control:checked~label.sk-toggleable__label-arrow:before {content: \"▾\";}#sk-container-id-1 div.sk-estimator input.sk-toggleable__control:checked~label.sk-toggleable__label {background-color: #d4ebff;}#sk-container-id-1 div.sk-label input.sk-toggleable__control:checked~label.sk-toggleable__label {background-color: #d4ebff;}#sk-container-id-1 input.sk-hidden--visually {border: 0;clip: rect(1px 1px 1px 1px);clip: rect(1px, 1px, 1px, 1px);height: 1px;margin: -1px;overflow: hidden;padding: 0;position: absolute;width: 1px;}#sk-container-id-1 div.sk-estimator {font-family: monospace;background-color: #f0f8ff;border: 1px dotted black;border-radius: 0.25em;box-sizing: border-box;margin-bottom: 0.5em;}#sk-container-id-1 div.sk-estimator:hover {background-color: #d4ebff;}#sk-container-id-1 div.sk-parallel-item::after {content: \"\";width: 100%;border-bottom: 1px solid gray;flex-grow: 1;}#sk-container-id-1 div.sk-label:hover label.sk-toggleable__label {background-color: #d4ebff;}#sk-container-id-1 div.sk-serial::before {content: \"\";position: absolute;border-left: 1px solid gray;box-sizing: border-box;top: 0;bottom: 0;left: 50%;z-index: 0;}#sk-container-id-1 div.sk-serial {display: flex;flex-direction: column;align-items: center;background-color: white;padding-right: 0.2em;padding-left: 0.2em;position: relative;}#sk-container-id-1 div.sk-item {position: relative;z-index: 1;}#sk-container-id-1 div.sk-parallel {display: flex;align-items: stretch;justify-content: center;background-color: white;position: relative;}#sk-container-id-1 div.sk-item::before, #sk-container-id-1 div.sk-parallel-item::before {content: \"\";position: absolute;border-left: 1px solid gray;box-sizing: border-box;top: 0;bottom: 0;left: 50%;z-index: -1;}#sk-container-id-1 div.sk-parallel-item {display: flex;flex-direction: column;z-index: 1;position: relative;background-color: white;}#sk-container-id-1 div.sk-parallel-item:first-child::after {align-self: flex-end;width: 50%;}#sk-container-id-1 div.sk-parallel-item:last-child::after {align-self: flex-start;width: 50%;}#sk-container-id-1 div.sk-parallel-item:only-child::after {width: 0;}#sk-container-id-1 div.sk-dashed-wrapped {border: 1px dashed gray;margin: 0 0.4em 0.5em 0.4em;box-sizing: border-box;padding-bottom: 0.4em;background-color: white;}#sk-container-id-1 div.sk-label label {font-family: monospace;font-weight: bold;display: inline-block;line-height: 1.2em;}#sk-container-id-1 div.sk-label-container {text-align: center;}#sk-container-id-1 div.sk-container {/* jupyter's `normalize.less` sets `[hidden] { display: none; }` but bootstrap.min.css set `[hidden] { display: none !important; }` so we also need the `!important` here to be able to override the default hidden behavior on the sphinx rendered scikit-learn.org. See: https://github.com/scikit-learn/scikit-learn/issues/21755 */display: inline-block !important;position: relative;}#sk-container-id-1 div.sk-text-repr-fallback {display: none;}</style><div id=\"sk-container-id-1\" class=\"sk-top-container\"><div class=\"sk-text-repr-fallback\"><pre>XGBClassifier(base_score=None, booster=None, callbacks=None,\n              colsample_bylevel=None, colsample_bynode=None,\n              colsample_bytree=0.8, device=None, early_stopping_rounds=None,\n              enable_categorical=False, eval_metric=None, feature_types=None,\n              gamma=0, grow_policy=None, importance_type=None,\n              interaction_constraints=None, learning_rate=0.1, max_bin=None,\n              max_cat_threshold=None, max_cat_to_onehot=None,\n              max_delta_step=None, max_depth=5, max_leaves=None,\n              min_child_weight=1, missing=nan, monotone_constraints=None,\n              multi_strategy=None, n_estimators=100, n_jobs=None,\n              num_parallel_tree=None, objective=&#x27;multi:softprob&#x27;, ...)</pre><b>In a Jupyter environment, please rerun this cell to show the HTML representation or trust the notebook. <br />On GitHub, the HTML representation is unable to render, please try loading this page with nbviewer.org.</b></div><div class=\"sk-container\" hidden><div class=\"sk-item\"><div class=\"sk-estimator sk-toggleable\"><input class=\"sk-toggleable__control sk-hidden--visually\" id=\"sk-estimator-id-1\" type=\"checkbox\" checked><label for=\"sk-estimator-id-1\" class=\"sk-toggleable__label sk-toggleable__label-arrow\">XGBClassifier</label><div class=\"sk-toggleable__content\"><pre>XGBClassifier(base_score=None, booster=None, callbacks=None,\n              colsample_bylevel=None, colsample_bynode=None,\n              colsample_bytree=0.8, device=None, early_stopping_rounds=None,\n              enable_categorical=False, eval_metric=None, feature_types=None,\n              gamma=0, grow_policy=None, importance_type=None,\n              interaction_constraints=None, learning_rate=0.1, max_bin=None,\n              max_cat_threshold=None, max_cat_to_onehot=None,\n              max_delta_step=None, max_depth=5, max_leaves=None,\n              min_child_weight=1, missing=nan, monotone_constraints=None,\n              multi_strategy=None, n_estimators=100, n_jobs=None,\n              num_parallel_tree=None, objective=&#x27;multi:softprob&#x27;, ...)</pre></div></div></div></div></div>"
     },
     "execution_count": 17,
     "metadata": {},
     "output_type": "execute_result"
    }
   ],
   "source": [
    "model.fit(X_train_scaled, y_train)"
   ],
   "metadata": {
    "collapsed": false,
    "ExecuteTime": {
     "end_time": "2024-11-20T13:56:55.869390Z",
     "start_time": "2024-11-20T13:56:52.261145Z"
    }
   },
   "id": "98008a6ebfa6d5a5",
   "execution_count": 17
  },
  {
   "cell_type": "code",
   "outputs": [
    {
     "name": "stdout",
     "output_type": "stream",
     "text": [
      "\n",
      "Classification Report:\n",
      "              precision    recall  f1-score   support\n",
      "\n",
      "           0       0.99      0.98      0.99     11782\n",
      "           1       0.98      1.00      0.99     22158\n",
      "           2       0.99      0.98      0.98      7093\n",
      "\n",
      "    accuracy                           0.99     41033\n",
      "   macro avg       0.99      0.98      0.99     41033\n",
      "weighted avg       0.99      0.99      0.99     41033\n"
     ]
    },
    {
     "data": {
      "text/plain": "<Figure size 1000x800 with 2 Axes>",
      "image/png": "[encoded data removed]"
     },
     "metadata": {},
     "output_type": "display_data"
    },
    {
     "name": "stdout",
     "output_type": "stream",
     "text": [
      "\n",
      "Top 10 Important Features:\n",
      "          feature  importance\n",
      "31          HF_LF    0.079879\n",
      "6              HR    0.072772\n",
      "7           pNN25    0.043097\n",
      "10            SD2    0.039257\n",
      "14  MEDIAN_REL_RR    0.036456\n",
      "27         HF_PCT    0.036265\n",
      "4            SDSD    0.035536\n",
      "1       MEDIAN_RR    0.035192\n",
      "29             TP    0.034056\n",
      "23             LF    0.032934\n"
     ]
    }
   ],
   "source": [
    "# Make predictions and evaluate\n",
    "y_pred = model.predict(X_test_scaled)\n",
    "print(\"\\nClassification Report:\")\n",
    "print(classification_report(y_test, y_pred))\n",
    "\n",
    "# Plot confusion matrix\n",
    "plt.figure(figsize=(10,8))\n",
    "sns.heatmap(confusion_matrix(y_test, y_pred), annot=True, fmt='d', cmap='Blues')\n",
    "plt.title('Confusion Matrix')\n",
    "plt.ylabel('True Label')\n",
    "plt.xlabel('Predicted Label')\n",
    "plt.show()\n",
    "\n",
    "# Feature importance\n",
    "feature_importance = pd.DataFrame({\n",
    "    'feature': X.columns,\n",
    "    'importance': model.feature_importances_\n",
    "}).sort_values('importance', ascending=False)\n",
    "print(\"\\nTop 10 Important Features:\")\n",
    "print(feature_importance.head(10))"
   ],
   "metadata": {
    "collapsed": false,
    "ExecuteTime": {
     "end_time": "2024-11-20T13:57:07.693640Z",
     "start_time": "2024-11-20T13:57:07.312907Z"
    }
   },
   "id": "a0a5bb9c285321a0",
   "execution_count": 18
  },
  {
   "cell_type": "code",
   "outputs": [
    {
     "name": "stdout",
     "output_type": "stream",
     "text": [
      "RMSE: 8.634794344712981\n",
      "R2 Score: -0.05728408076414171\n",
      "\n",
      "Top 10 Important Features:\n",
      "       feature  importance\n",
      "14  Feature_14    0.064823\n",
      "9    Feature_9    0.059539\n",
      "15  Feature_15    0.059301\n",
      "17  Feature_17    0.058283\n",
      "11  Feature_11    0.058049\n",
      "7    Feature_7    0.057897\n",
      "16  Feature_16    0.056903\n",
      "18  Feature_18    0.056538\n",
      "12  Feature_12    0.056125\n",
      "5    Feature_5    0.055592\n"
     ]
    }
   ],
   "source": [
    "# Load data\n",
    "from xgboost import XGBRegressor\n",
    "\n",
    "data = pd.read_csv('stress_detection.csv', skiprows=1, header=None)  # Skip header row\n",
    "X = data.drop(columns=[2])  # Drop PSS_score column\n",
    "y = data[2]  # PSS_score column\n",
    "\n",
    "# Split data\n",
    "X_train, X_test, y_train, y_test = train_test_split(X, y, test_size=0.2, random_state=42)\n",
    "\n",
    "# Scale features\n",
    "scaler = StandardScaler()\n",
    "X_train_scaled = scaler.fit_transform(X_train)\n",
    "X_test_scaled = scaler.transform(X_test)\n",
    "\n",
    "model = XGBRegressor(\n",
    "    learning_rate=0.1,\n",
    "    n_estimators=100,\n",
    "    max_depth=5,\n",
    "    random_state=42\n",
    ")\n",
    "model.fit(X_train_scaled, y_train)\n",
    "\n",
    "# Evaluate with regression metrics\n",
    "from sklearn.metrics import mean_squared_error, r2_score\n",
    "y_pred = model.predict(X_test_scaled)\n",
    "print(f\"RMSE: {np.sqrt(mean_squared_error(y_test, y_pred))}\")\n",
    "print(f\"R2 Score: {r2_score(y_test, y_pred)}\")\n",
    "\n",
    "# Feature Importance\n",
    "feature_importance = pd.DataFrame({\n",
    "    'feature': [f'Feature_{i}' for i in range(X.shape[1])],\n",
    "    'importance': model.feature_importances_\n",
    "}).sort_values('importance', ascending=False)\n",
    "print(\"\\nTop 10 Important Features:\")\n",
    "print(feature_importance.head(10))"
   ],
   "metadata": {
    "collapsed": false,
    "ExecuteTime": {
     "end_time": "2024-11-20T18:13:39.195611Z",
     "start_time": "2024-11-20T18:13:39.002937Z"
    }
   },
   "id": "cbf6e929d1ead947",
   "execution_count": 25
  },
  {
   "cell_type": "code",
   "outputs": [
    {
     "data": {
      "text/plain": "      0   1            3            4            5            6            7   \\\n700   24  10  3.113322027  1.696272611  2.149447896   2.93675355  3.231972868   \n226    8  16  3.223773482  1.447728216  3.785424247  2.472640843  1.835241866   \n1697  57  17  4.954580381  1.629318865  1.691266249  2.274107163  3.791837964   \n1010  34  20  3.379184783  3.232057635  4.002714189  4.019821423  2.915855527   \n1572  53  12  3.750308255   1.37480466  2.535557617  4.325785315  1.979645396   \n...   ..  ..          ...          ...          ...          ...          ...   \n1638  55  18  2.502803838  1.536011556   3.06061877   3.98654581  1.884305781   \n1095  37  15  2.464203583  3.925254434  2.435725617  3.884898986   3.38367077   \n1130  38  20  3.370388665  3.940080804  3.932316906  2.670797751  2.206598547   \n1294  44   4   4.11115978  1.809274718  4.816831511  3.838151254  4.776670438   \n860   29  20  3.069972183   3.73332161  2.001016163  4.798236175  1.661819843   \n\n               8            9            10 11           12  13  14  \\\n700   5.795282187  5.383591491  8.256840006  2  8.672701948   2  25   \n226   6.333718109  5.525123574  7.498682405  4  54.18465959  15  32   \n1697  6.099924946  6.962894733  6.422528337  4    38.219016   9   0   \n1010  6.587542682  8.429951295  8.266764633  3  52.98947684  12  24   \n1572   7.44493988  7.421476632  7.271671542  4  29.87617298  14  39   \n...           ...          ...          ... ..          ...  ..  ..   \n1638  6.791659448  7.242508269  8.239988544  3  18.07446286  19   2   \n1095  7.600720415  8.535551997  7.394922958  2  19.03391394  14  32   \n1130  6.984798983  8.947025348  8.461584444  2  0.579233531   5  18   \n1294  7.255908168  8.143339618  8.194082253  1  43.69821797  12  10   \n860   8.101319164  7.298126213  6.186076739  2  31.25123229   1  13   \n\n               15           16           17           18           19  \n700   1.311283354  2.326536805   0.38620677  0.620774261  3.866265914  \n226   2.938070407  4.549555082  1.192996069  1.158386078  0.780193946  \n1697  4.050605921  4.137093865  1.919329195  0.433854134  1.297203475  \n1010  7.061120884  3.447035111  1.642794555  0.859069733  1.685212403  \n1572  1.204168839  2.938927295  0.584730024  0.804807229  2.419041111  \n...           ...          ...          ...          ...          ...  \n1638  6.061576167  4.660806604  0.451893012  0.274839056   3.16046819  \n1095  7.486315056  4.552906193  0.980618179  1.242259638  4.555926471  \n1130   3.10271264  2.244798768  0.459959163  1.453678886  3.909384305  \n1294  3.348135174   4.90840557  1.897266838  0.691842723  1.885321455  \n860   11.39395308  3.905082086  0.253136246  0.849167512   2.12307984  \n\n[2400 rows x 19 columns]",
      "text/html": "<div>\n<style scoped>\n    .dataframe tbody tr th:only-of-type {\n        vertical-align: middle;\n    }\n\n    .dataframe tbody tr th {\n        vertical-align: top;\n    }\n\n    .dataframe thead th {\n        text-align: right;\n    }\n</style>\n<table border=\"1\" class=\"dataframe\">\n  <thead>\n    <tr style=\"text-align: right;\">\n      <th></th>\n      <th>0</th>\n      <th>1</th>\n      <th>3</th>\n      <th>4</th>\n      <th>5</th>\n      <th>6</th>\n      <th>7</th>\n      <th>8</th>\n      <th>9</th>\n      <th>10</th>\n      <th>11</th>\n      <th>12</th>\n      <th>13</th>\n      <th>14</th>\n      <th>15</th>\n      <th>16</th>\n      <th>17</th>\n      <th>18</th>\n      <th>19</th>\n    </tr>\n  </thead>\n  <tbody>\n    <tr>\n      <th>700</th>\n      <td>24</td>\n      <td>10</td>\n      <td>3.113322027</td>\n      <td>1.696272611</td>\n      <td>2.149447896</td>\n      <td>2.93675355</td>\n      <td>3.231972868</td>\n      <td>5.795282187</td>\n      <td>5.383591491</td>\n      <td>8.256840006</td>\n      <td>2</td>\n      <td>8.672701948</td>\n      <td>2</td>\n      <td>25</td>\n      <td>1.311283354</td>\n      <td>2.326536805</td>\n      <td>0.38620677</td>\n      <td>0.620774261</td>\n      <td>3.866265914</td>\n    </tr>\n    <tr>\n      <th>226</th>\n      <td>8</td>\n      <td>16</td>\n      <td>3.223773482</td>\n      <td>1.447728216</td>\n      <td>3.785424247</td>\n      <td>2.472640843</td>\n      <td>1.835241866</td>\n      <td>6.333718109</td>\n      <td>5.525123574</td>\n      <td>7.498682405</td>\n      <td>4</td>\n      <td>54.18465959</td>\n      <td>15</td>\n      <td>32</td>\n      <td>2.938070407</td>\n      <td>4.549555082</td>\n      <td>1.192996069</td>\n      <td>1.158386078</td>\n      <td>0.780193946</td>\n    </tr>\n    <tr>\n      <th>1697</th>\n      <td>57</td>\n      <td>17</td>\n      <td>4.954580381</td>\n      <td>1.629318865</td>\n      <td>1.691266249</td>\n      <td>2.274107163</td>\n      <td>3.791837964</td>\n      <td>6.099924946</td>\n      <td>6.962894733</td>\n      <td>6.422528337</td>\n      <td>4</td>\n      <td>38.219016</td>\n      <td>9</td>\n      <td>0</td>\n      <td>4.050605921</td>\n      <td>4.137093865</td>\n      <td>1.919329195</td>\n      <td>0.433854134</td>\n      <td>1.297203475</td>\n    </tr>\n    <tr>\n      <th>1010</th>\n      <td>34</td>\n      <td>20</td>\n      <td>3.379184783</td>\n      <td>3.232057635</td>\n      <td>4.002714189</td>\n      <td>4.019821423</td>\n      <td>2.915855527</td>\n      <td>6.587542682</td>\n      <td>8.429951295</td>\n      <td>8.266764633</td>\n      <td>3</td>\n      <td>52.98947684</td>\n      <td>12</td>\n      <td>24</td>\n      <td>7.061120884</td>\n      <td>3.447035111</td>\n      <td>1.642794555</td>\n      <td>0.859069733</td>\n      <td>1.685212403</td>\n    </tr>\n    <tr>\n      <th>1572</th>\n      <td>53</td>\n      <td>12</td>\n      <td>3.750308255</td>\n      <td>1.37480466</td>\n      <td>2.535557617</td>\n      <td>4.325785315</td>\n      <td>1.979645396</td>\n      <td>7.44493988</td>\n      <td>7.421476632</td>\n      <td>7.271671542</td>\n      <td>4</td>\n      <td>29.87617298</td>\n      <td>14</td>\n      <td>39</td>\n      <td>1.204168839</td>\n      <td>2.938927295</td>\n      <td>0.584730024</td>\n      <td>0.804807229</td>\n      <td>2.419041111</td>\n    </tr>\n    <tr>\n      <th>...</th>\n      <td>...</td>\n      <td>...</td>\n      <td>...</td>\n      <td>...</td>\n      <td>...</td>\n      <td>...</td>\n      <td>...</td>\n      <td>...</td>\n      <td>...</td>\n      <td>...</td>\n      <td>...</td>\n      <td>...</td>\n      <td>...</td>\n      <td>...</td>\n      <td>...</td>\n      <td>...</td>\n      <td>...</td>\n      <td>...</td>\n      <td>...</td>\n    </tr>\n    <tr>\n      <th>1638</th>\n      <td>55</td>\n      <td>18</td>\n      <td>2.502803838</td>\n      <td>1.536011556</td>\n      <td>3.06061877</td>\n      <td>3.98654581</td>\n      <td>1.884305781</td>\n      <td>6.791659448</td>\n      <td>7.242508269</td>\n      <td>8.239988544</td>\n      <td>3</td>\n      <td>18.07446286</td>\n      <td>19</td>\n      <td>2</td>\n      <td>6.061576167</td>\n      <td>4.660806604</td>\n      <td>0.451893012</td>\n      <td>0.274839056</td>\n      <td>3.16046819</td>\n    </tr>\n    <tr>\n      <th>1095</th>\n      <td>37</td>\n      <td>15</td>\n      <td>2.464203583</td>\n      <td>3.925254434</td>\n      <td>2.435725617</td>\n      <td>3.884898986</td>\n      <td>3.38367077</td>\n      <td>7.600720415</td>\n      <td>8.535551997</td>\n      <td>7.394922958</td>\n      <td>2</td>\n      <td>19.03391394</td>\n      <td>14</td>\n      <td>32</td>\n      <td>7.486315056</td>\n      <td>4.552906193</td>\n      <td>0.980618179</td>\n      <td>1.242259638</td>\n      <td>4.555926471</td>\n    </tr>\n    <tr>\n      <th>1130</th>\n      <td>38</td>\n      <td>20</td>\n      <td>3.370388665</td>\n      <td>3.940080804</td>\n      <td>3.932316906</td>\n      <td>2.670797751</td>\n      <td>2.206598547</td>\n      <td>6.984798983</td>\n      <td>8.947025348</td>\n      <td>8.461584444</td>\n      <td>2</td>\n      <td>0.579233531</td>\n      <td>5</td>\n      <td>18</td>\n      <td>3.10271264</td>\n      <td>2.244798768</td>\n      <td>0.459959163</td>\n      <td>1.453678886</td>\n      <td>3.909384305</td>\n    </tr>\n    <tr>\n      <th>1294</th>\n      <td>44</td>\n      <td>4</td>\n      <td>4.11115978</td>\n      <td>1.809274718</td>\n      <td>4.816831511</td>\n      <td>3.838151254</td>\n      <td>4.776670438</td>\n      <td>7.255908168</td>\n      <td>8.143339618</td>\n      <td>8.194082253</td>\n      <td>1</td>\n      <td>43.69821797</td>\n      <td>12</td>\n      <td>10</td>\n      <td>3.348135174</td>\n      <td>4.90840557</td>\n      <td>1.897266838</td>\n      <td>0.691842723</td>\n      <td>1.885321455</td>\n    </tr>\n    <tr>\n      <th>860</th>\n      <td>29</td>\n      <td>20</td>\n      <td>3.069972183</td>\n      <td>3.73332161</td>\n      <td>2.001016163</td>\n      <td>4.798236175</td>\n      <td>1.661819843</td>\n      <td>8.101319164</td>\n      <td>7.298126213</td>\n      <td>6.186076739</td>\n      <td>2</td>\n      <td>31.25123229</td>\n      <td>1</td>\n      <td>13</td>\n      <td>11.39395308</td>\n      <td>3.905082086</td>\n      <td>0.253136246</td>\n      <td>0.849167512</td>\n      <td>2.12307984</td>\n    </tr>\n  </tbody>\n</table>\n<p>2400 rows × 19 columns</p>\n</div>"
     },
     "execution_count": 20,
     "metadata": {},
     "output_type": "execute_result"
    }
   ],
   "source": [
    "X_train"
   ],
   "metadata": {
    "collapsed": false,
    "ExecuteTime": {
     "end_time": "2024-11-20T14:04:49.141902Z",
     "start_time": "2024-11-20T14:04:49.125819Z"
    }
   },
   "id": "ee98bb222c88a401",
   "execution_count": 20
  },
  {
   "cell_type": "code",
   "outputs": [],
   "source": [],
   "metadata": {
    "collapsed": false
   },
   "id": "d0335033fb1e006c"
  }
 ],
 "metadata": {
  "kernelspec": {
   "display_name": "Python 3",
   "language": "python",
   "name": "python3"
  },
  "language_info": {
   "codemirror_mode": {
    "name": "ipython",
    "version": 2
   },
   "file_extension": ".py",
   "mimetype": "text/x-python",
   "name": "python",
   "nbconvert_exporter": "python",
   "pygments_lexer": "ipython2",
   "version": "2.7.6"
  }
 },
 "nbformat": 4,
 "nbformat_minor": 5
}
