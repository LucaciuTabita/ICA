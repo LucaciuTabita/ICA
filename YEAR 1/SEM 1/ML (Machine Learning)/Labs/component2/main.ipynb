{
 "cells": [
  {
   "cell_type": "markdown",
   "source": [
    "# Correlation between price and other features"
   ],
   "metadata": {
    "collapsed": false
   },
   "id": "153dd40f8a86c737"
  },
  {
   "cell_type": "code",
   "outputs": [],
   "source": [],
   "metadata": {
    "collapsed": false
   },
   "id": "6d3665674dbdb259"
  }
 ],
 "metadata": {
  "kernelspec": {
   "display_name": "Python 3",
   "language": "python",
   "name": "python3"
  },
  "language_info": {
   "codemirror_mode": {
    "name": "ipython",
    "version": 2
   },
   "file_extension": ".py",
   "mimetype": "text/x-python",
   "name": "python",
   "nbconvert_exporter": "python",
   "pygments_lexer": "ipython2",
   "version": "2.7.6"
  }
 },
 "nbformat": 4,
 "nbformat_minor": 5
}
