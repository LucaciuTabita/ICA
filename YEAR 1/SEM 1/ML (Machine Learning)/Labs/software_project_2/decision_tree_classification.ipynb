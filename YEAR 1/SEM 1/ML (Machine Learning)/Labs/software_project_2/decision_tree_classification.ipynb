{
 "cells": [
  {
   "cell_type": "markdown",
   "source": [
    "## Decision Tree Classifier from Scratch"
   ],
   "metadata": {
    "collapsed": false
   },
   "id": "7feebd9055c2cfa"
  },
  {
   "cell_type": "code",
   "outputs": [],
   "source": [
    "import numpy as np\n",
    "import pandas as pd\n",
    "from datetime import datetime\n",
    "from pandas.plotting._matplotlib import tools"
   ],
   "metadata": {
    "collapsed": false,
    "ExecuteTime": {
     "end_time": "2025-01-05T10:09:55.105831Z",
     "start_time": "2025-01-05T10:09:51.646852Z"
    }
   },
   "id": "418cbdab6a1786ee",
   "execution_count": 1
  },
  {
   "cell_type": "code",
   "outputs": [],
   "source": [
    "class DecisionTreeClassifier:\n",
    "    def __init__(self, max_depth=5, min_samples=2, max_thresholds=10):\n",
    "        self.max_depth = max_depth\n",
    "        self.min_samples = min_samples\n",
    "        self.max_thresholds = max_thresholds\n",
    "        self.root = None\n",
    "        \n",
    "    def entropy(self, y):\n",
    "        \"\"\"Calculate entropy of a node\"\"\"\n",
    "        _, counts = np.unique(y, return_counts=True)\n",
    "        probabilities = counts / len(y)\n",
    "        return -np.sum(probabilities * np.log2(probabilities + 1e-10))\n",
    "    \n",
    "    def find_best_split(self, X, y):\n",
    "        \"\"\"Optimized best split finder using percentile-based thresholds\"\"\"\n",
    "        best_gain = -1\n",
    "        best_feature = None\n",
    "        best_threshold = None\n",
    "        \n",
    "        n_features = X.shape[1]\n",
    "        \n",
    "        for feature in range(n_features):\n",
    "            # Sample threshold values using percentiles\n",
    "            feature_values = X[:, feature]\n",
    "            percentiles = np.linspace(0, 100, self.max_thresholds)\n",
    "            thresholds = np.percentile(feature_values, percentiles)\n",
    "            \n",
    "            for threshold in thresholds:\n",
    "                left_mask = X[:, feature] <= threshold\n",
    "                right_mask = ~left_mask\n",
    "                \n",
    "                n_left = np.sum(left_mask)\n",
    "                n_right = np.sum(right_mask)\n",
    "                \n",
    "                if n_left < self.min_samples or n_right < self.min_samples:\n",
    "                    continue\n",
    "                \n",
    "                # Calculate information gain\n",
    "                gain = self.entropy(y) - (\n",
    "                    (n_left / len(y)) * self.entropy(y[left_mask]) +\n",
    "                    (n_right / len(y)) * self.entropy(y[right_mask])\n",
    "                )\n",
    "                \n",
    "                if gain > best_gain:\n",
    "                    best_gain = gain\n",
    "                    best_feature = feature\n",
    "                    best_threshold = threshold\n",
    "        \n",
    "        return best_feature, best_threshold\n",
    "\n",
    "    def build_tree(self, X, y, depth=0):\n",
    "        n_samples = len(y)\n",
    "        \n",
    "        # Create node\n",
    "        node = {\n",
    "            'feature': None,\n",
    "            'threshold': None,\n",
    "            'left': None,\n",
    "            'right': None,\n",
    "            'value': None,\n",
    "            'is_leaf': False\n",
    "        }\n",
    "        \n",
    "        # Check stopping criteria\n",
    "        if (depth >= self.max_depth or \n",
    "            n_samples < self.min_samples or \n",
    "            len(np.unique(y)) == 1):\n",
    "            node['is_leaf'] = True\n",
    "            node['value'] = np.bincount(y).argmax()\n",
    "            return node\n",
    "        \n",
    "        # Find best split\n",
    "        feature, threshold = self.find_best_split(X, y)\n",
    "        \n",
    "        if feature is None:\n",
    "            node['is_leaf'] = True\n",
    "            node['value'] = np.bincount(y).argmax()\n",
    "            return node\n",
    "        \n",
    "        # Split the node\n",
    "        left_mask = X[:, feature] <= threshold\n",
    "        \n",
    "        node['feature'] = feature\n",
    "        node['threshold'] = threshold\n",
    "        node['left'] = self.build_tree(X[left_mask], y[left_mask], depth + 1)\n",
    "        node['right'] = self.build_tree(X[~left_mask], y[~left_mask], depth + 1)\n",
    "        \n",
    "        return node\n",
    "    \n",
    "    def fit(self, X, y):\n",
    "        \"\"\"Train the decision tree\"\"\"\n",
    "        self.root = self.build_tree(X, y)\n",
    "        return self\n",
    "    \n",
    "    def predict_one(self, x, node=None):\n",
    "        \"\"\"Predict class for a single sample\"\"\"\n",
    "        if node is None:\n",
    "            node = self.root\n",
    "            \n",
    "        if node['is_leaf']:\n",
    "            return node['value']\n",
    "            \n",
    "        if x[node['feature']] <= node['threshold']:\n",
    "            return self.predict_one(x, node['left'])\n",
    "        return self.predict_one(x, node['right'])\n",
    "    \n",
    "    def predict(self, X):\n",
    "        \"\"\"Predict classes for multiple samples\"\"\"\n",
    "        predictions = np.array([self.predict_one(x) for x in X])\n",
    "        return predictions"
   ],
   "metadata": {
    "collapsed": false,
    "ExecuteTime": {
     "end_time": "2025-01-06T14:43:03.913242Z",
     "start_time": "2025-01-06T14:43:02.071954Z"
    }
   },
   "id": "a1ce05973a2c4972",
   "execution_count": 142
  },
  {
   "cell_type": "markdown",
   "source": [
    "Data Preprocessing"
   ],
   "metadata": {
    "collapsed": false
   },
   "id": "c48462185ac506b8"
  },
  {
   "cell_type": "code",
   "outputs": [],
   "source": [
    "# Read data\n",
    "df = pd.read_csv(\"car_prices_cleaned.csv\")"
   ],
   "metadata": {
    "collapsed": false,
    "ExecuteTime": {
     "end_time": "2025-01-06T14:20:07.189266Z",
     "start_time": "2025-01-06T14:20:06.292810Z"
    }
   },
   "id": "606b756b1cf30919",
   "execution_count": 119
  },
  {
   "cell_type": "code",
   "outputs": [
    {
     "name": "stdout",
     "output_type": "stream",
     "text": [
      "<class 'pandas.core.frame.DataFrame'>\n",
      "RangeIndex: 440393 entries, 0 to 440392\n",
      "Data columns (total 16 columns):\n",
      " #   Column        Non-Null Count   Dtype  \n",
      "---  ------        --------------   -----  \n",
      " 0   year          440393 non-null  int64  \n",
      " 1   make          440393 non-null  object \n",
      " 2   model         440393 non-null  object \n",
      " 3   trim          440393 non-null  object \n",
      " 4   body          440393 non-null  object \n",
      " 5   transmission  440393 non-null  object \n",
      " 6   vin           440393 non-null  object \n",
      " 7   state         440393 non-null  object \n",
      " 8   condition     440393 non-null  float64\n",
      " 9   odometer      440393 non-null  float64\n",
      " 10  color         440393 non-null  object \n",
      " 11  interior      440393 non-null  object \n",
      " 12  seller        440393 non-null  object \n",
      " 13  mmr           440393 non-null  float64\n",
      " 14  sellingprice  440393 non-null  float64\n",
      " 15  saledate      440393 non-null  object \n",
      "dtypes: float64(4), int64(1), object(11)\n",
      "memory usage: 53.8+ MB\n"
     ]
    }
   ],
   "source": [
    "df.info()"
   ],
   "metadata": {
    "collapsed": false,
    "ExecuteTime": {
     "end_time": "2025-01-06T14:20:07.330334Z",
     "start_time": "2025-01-06T14:20:07.191222Z"
    }
   },
   "id": "788939d15ad79f86",
   "execution_count": 120
  },
  {
   "cell_type": "code",
   "outputs": [],
   "source": [
    "# Convert saledate to datetime with proper format\n",
    "df['saledate'] = pd.to_datetime(df['saledate'].str.split('GMT').str[0].str.strip(), \n",
    "                                  format='%a %b %d %Y %H:%M:%S')"
   ],
   "metadata": {
    "collapsed": false,
    "ExecuteTime": {
     "end_time": "2025-01-06T14:20:11.054461Z",
     "start_time": "2025-01-06T14:20:08.955277Z"
    }
   },
   "id": "468763f553aa8484",
   "execution_count": 121
  },
  {
   "cell_type": "code",
   "outputs": [],
   "source": [
    "# Calculate features\n",
    "df['age_at_sale'] = df['saledate'].dt.year - df['year']\n",
    "df['price_ratio'] = df['sellingprice'] / df['mmr']\n",
    "df['make_encoded'] = pd.Categorical(df['make']).codes\n",
    "df['transmission_encoded'] = pd.Categorical(df['transmission']).codes\n",
    "df['body_encoded'] = pd.Categorical(df['body']).codes    "
   ],
   "metadata": {
    "collapsed": false,
    "ExecuteTime": {
     "end_time": "2025-01-06T14:20:11.973050Z",
     "start_time": "2025-01-06T14:20:11.881746Z"
    }
   },
   "id": "c00a68eddf35dfb3",
   "execution_count": 122
  },
  {
   "cell_type": "code",
   "outputs": [],
   "source": [
    "# Create feature matrix\n",
    "X = df[['odometer', 'price_ratio', 'make_encoded', 'age_at_sale', 'transmission_encoded', 'body_encoded']].values    "
   ],
   "metadata": {
    "collapsed": false,
    "ExecuteTime": {
     "end_time": "2025-01-06T14:20:13.875660Z",
     "start_time": "2025-01-06T14:20:13.757961Z"
    }
   },
   "id": "e27b8731c8cfac4f",
   "execution_count": 123
  },
  {
   "cell_type": "code",
   "outputs": [
    {
     "data": {
      "text/plain": "(440393, 6)"
     },
     "execution_count": 124,
     "metadata": {},
     "output_type": "execute_result"
    }
   ],
   "source": [
    "X.shape"
   ],
   "metadata": {
    "collapsed": false,
    "ExecuteTime": {
     "end_time": "2025-01-06T14:20:14.532992Z",
     "start_time": "2025-01-06T14:20:14.502343Z"
    }
   },
   "id": "aae23efb54122469",
   "execution_count": 124
  },
  {
   "cell_type": "code",
   "outputs": [],
   "source": [
    "import pandas as pd"
   ],
   "metadata": {
    "collapsed": false,
    "ExecuteTime": {
     "end_time": "2025-01-06T14:23:17.002437Z",
     "start_time": "2025-01-06T14:23:16.982080Z"
    }
   },
   "id": "5c32124b9356d2d7",
   "execution_count": 127
  },
  {
   "cell_type": "code",
   "outputs": [
    {
     "data": {
      "text/plain": "    odometer  price_ratio  make_encoded  age_at_sale  transmission_encoded  \\\n0 16639.0000       1.0488       24.0000      -1.0000                0.0000   \n1  9393.0000       1.0337       24.0000      -1.0000                0.0000   \n2  1331.0000       0.9404        3.0000       1.0000                0.0000   \n3 14282.0000       1.0091       51.0000       0.0000                0.0000   \n4  2641.0000       1.0152        3.0000       0.0000                0.0000   \n5  5554.0000       0.7101       36.0000      -1.0000                0.0000   \n6 14943.0000       0.9420        3.0000       0.0000                0.0000   \n7 28617.0000       0.8235        7.0000       0.0000                0.0000   \n8  9557.0000       1.0047        2.0000       0.0000                0.0000   \n9  4809.0000       0.6654        7.0000       1.0000                0.0000   \n\n   body_encoded  \n0       34.0000  \n1       34.0000  \n2       35.0000  \n3       35.0000  \n4       35.0000  \n5       35.0000  \n6       35.0000  \n7       35.0000  \n8       35.0000  \n9        9.0000  ",
      "text/html": "<div>\n<style scoped>\n    .dataframe tbody tr th:only-of-type {\n        vertical-align: middle;\n    }\n\n    .dataframe tbody tr th {\n        vertical-align: top;\n    }\n\n    .dataframe thead th {\n        text-align: right;\n    }\n</style>\n<table border=\"1\" class=\"dataframe\">\n  <thead>\n    <tr style=\"text-align: right;\">\n      <th></th>\n      <th>odometer</th>\n      <th>price_ratio</th>\n      <th>make_encoded</th>\n      <th>age_at_sale</th>\n      <th>transmission_encoded</th>\n      <th>body_encoded</th>\n    </tr>\n  </thead>\n  <tbody>\n    <tr>\n      <th>0</th>\n      <td>16639.0000</td>\n      <td>1.0488</td>\n      <td>24.0000</td>\n      <td>-1.0000</td>\n      <td>0.0000</td>\n      <td>34.0000</td>\n    </tr>\n    <tr>\n      <th>1</th>\n      <td>9393.0000</td>\n      <td>1.0337</td>\n      <td>24.0000</td>\n      <td>-1.0000</td>\n      <td>0.0000</td>\n      <td>34.0000</td>\n    </tr>\n    <tr>\n      <th>2</th>\n      <td>1331.0000</td>\n      <td>0.9404</td>\n      <td>3.0000</td>\n      <td>1.0000</td>\n      <td>0.0000</td>\n      <td>35.0000</td>\n    </tr>\n    <tr>\n      <th>3</th>\n      <td>14282.0000</td>\n      <td>1.0091</td>\n      <td>51.0000</td>\n      <td>0.0000</td>\n      <td>0.0000</td>\n      <td>35.0000</td>\n    </tr>\n    <tr>\n      <th>4</th>\n      <td>2641.0000</td>\n      <td>1.0152</td>\n      <td>3.0000</td>\n      <td>0.0000</td>\n      <td>0.0000</td>\n      <td>35.0000</td>\n    </tr>\n    <tr>\n      <th>5</th>\n      <td>5554.0000</td>\n      <td>0.7101</td>\n      <td>36.0000</td>\n      <td>-1.0000</td>\n      <td>0.0000</td>\n      <td>35.0000</td>\n    </tr>\n    <tr>\n      <th>6</th>\n      <td>14943.0000</td>\n      <td>0.9420</td>\n      <td>3.0000</td>\n      <td>0.0000</td>\n      <td>0.0000</td>\n      <td>35.0000</td>\n    </tr>\n    <tr>\n      <th>7</th>\n      <td>28617.0000</td>\n      <td>0.8235</td>\n      <td>7.0000</td>\n      <td>0.0000</td>\n      <td>0.0000</td>\n      <td>35.0000</td>\n    </tr>\n    <tr>\n      <th>8</th>\n      <td>9557.0000</td>\n      <td>1.0047</td>\n      <td>2.0000</td>\n      <td>0.0000</td>\n      <td>0.0000</td>\n      <td>35.0000</td>\n    </tr>\n    <tr>\n      <th>9</th>\n      <td>4809.0000</td>\n      <td>0.6654</td>\n      <td>7.0000</td>\n      <td>1.0000</td>\n      <td>0.0000</td>\n      <td>9.0000</td>\n    </tr>\n  </tbody>\n</table>\n</div>"
     },
     "execution_count": 129,
     "metadata": {},
     "output_type": "execute_result"
    }
   ],
   "source": [
    "# Definim numele coloanelor pentru claritate\n",
    "columns = ['odometer', 'price_ratio', 'make_encoded', 'age_at_sale', 'transmission_encoded', 'body_encoded']\n",
    "\n",
    "# Convertim numpy array X într-un DataFrame Pandas\n",
    "df_X = pd.DataFrame(X, columns=columns)\n",
    "\n",
    "# Afișăm primele 10 rânduri pentru verificare\n",
    "df_X.head(10)\n"
   ],
   "metadata": {
    "collapsed": false,
    "ExecuteTime": {
     "end_time": "2025-01-06T14:23:37.235464Z",
     "start_time": "2025-01-06T14:23:37.197638Z"
    }
   },
   "id": "2b54dedae2477a6a",
   "execution_count": 129
  },
  {
   "cell_type": "code",
   "outputs": [
    {
     "data": {
      "text/plain": "<Figure size 1200x800 with 6 Axes>",
      "image/png": "[encoded data removed]"
     },
     "metadata": {},
     "output_type": "display_data"
    }
   ],
   "source": [
    "import matplotlib.pyplot as plt\n",
    "\n",
    "# Define the feature names\n",
    "feature_names = ['odometer', 'price_ratio', 'make_encoded', 'age_at_sale', 'transmission_encoded', 'body_encoded']\n",
    "\n",
    "# Convert to a DataFrame with column names\n",
    "X_df = pd.DataFrame(X, columns=feature_names)\n",
    "\n",
    "# Plot histograms with feature names\n",
    "X_df.hist(figsize=(12, 8), bins=10)\n",
    "plt.show()"
   ],
   "metadata": {
    "collapsed": false,
    "ExecuteTime": {
     "end_time": "2025-01-06T13:31:13.821753Z",
     "start_time": "2025-01-06T13:31:13.276530Z"
    }
   },
   "id": "22cc59e2b1956488",
   "execution_count": 88
  },
  {
   "cell_type": "code",
   "outputs": [],
   "source": [
    "# Create target variable\n",
    "def categorize_condition(score):\n",
    "    if score <= 10:\n",
    "        return 1  # Poor\n",
    "    elif score <= 20:\n",
    "        return 2  # Fair\n",
    "    elif score <= 30:\n",
    "        return 3  # Good\n",
    "    elif score <= 40:\n",
    "        return 4  # Very Good\n",
    "    else:\n",
    "        return 5  # Excellent"
   ],
   "metadata": {
    "collapsed": false,
    "ExecuteTime": {
     "end_time": "2025-01-05T11:32:44.257143Z",
     "start_time": "2025-01-05T11:32:44.243165Z"
    }
   },
   "id": "d94a21d772e1214c",
   "execution_count": 38
  },
  {
   "cell_type": "code",
   "outputs": [],
   "source": [
    "y = df['condition'].apply(categorize_condition).values"
   ],
   "metadata": {
    "collapsed": false,
    "ExecuteTime": {
     "end_time": "2025-01-05T11:32:44.867591Z",
     "start_time": "2025-01-05T11:32:44.766442Z"
    }
   },
   "id": "d25a58563b42b6d9",
   "execution_count": 39
  },
  {
   "cell_type": "code",
   "outputs": [
    {
     "data": {
      "text/plain": "array([1, 1, 5, ..., 5, 4, 4])"
     },
     "execution_count": 40,
     "metadata": {},
     "output_type": "execute_result"
    }
   ],
   "source": [
    "y"
   ],
   "metadata": {
    "collapsed": false,
    "ExecuteTime": {
     "end_time": "2025-01-05T11:32:45.220316Z",
     "start_time": "2025-01-05T11:32:45.216736Z"
    }
   },
   "id": "8a216b98712271b6",
   "execution_count": 40
  },
  {
   "cell_type": "markdown",
   "source": [
    "Evaluation Metrics"
   ],
   "metadata": {
    "collapsed": false
   },
   "id": "6117e9108d08e301"
  },
  {
   "cell_type": "code",
   "outputs": [],
   "source": [
    "def evaluate_metrics(y_true, y_pred):\n",
    "    \"\"\"\n",
    "    Calculate all evaluation metrics including:\n",
    "    - Accuracy\n",
    "    - Precision\n",
    "    - Recall (Sensitivity)\n",
    "    - F-measure (F1-score)\n",
    "    - AUC (Area under ROC curve)\n",
    "    - AUPRC (Area under Precision-Recall curve)\n",
    "    \"\"\"\n",
    "    metrics = {}\n",
    "    \n",
    "    # Basic metrics\n",
    "    classes = np.unique(y_true)\n",
    "    n_classes = len(classes)\n",
    "    \n",
    "    # Initialize per-class metrics\n",
    "    precisions = []\n",
    "    recalls = []  # same as sensitivity\n",
    "    f1_scores = []  # same as f-measure\n",
    "    aucs = []\n",
    "    auprcs = []\n",
    "    \n",
    "    # Convert predictions to one-hot encoding for AUC calculation\n",
    "    y_true_onehot = np.zeros((len(y_true), n_classes))\n",
    "    y_pred_onehot = np.zeros((len(y_pred), n_classes))\n",
    "    \n",
    "    for i, c in enumerate(classes):\n",
    "        y_true_onehot[:, i] = (y_true == c)\n",
    "        y_pred_onehot[:, i] = (y_pred == c)\n",
    "    \n",
    "    # Calculate metrics for each class\n",
    "    for c in classes:\n",
    "        # True positives, false positives, false negatives\n",
    "        tp = np.sum((y_true == c) & (y_pred == c))\n",
    "        fp = np.sum((y_true != c) & (y_pred == c))\n",
    "        fn = np.sum((y_true == c) & (y_pred != c))\n",
    "        tn = np.sum((y_true != c) & (y_pred != c))\n",
    "        \n",
    "        # Precision\n",
    "        precision = tp / (tp + fp) if (tp + fp) > 0 else 0\n",
    "        precisions.append(precision)\n",
    "        \n",
    "        # Recall (Sensitivity)\n",
    "        recall = tp / (tp + fn) if (tp + fn) > 0 else 0\n",
    "        recalls.append(recall)\n",
    "        \n",
    "        # F-measure (F1-score)\n",
    "        f1 = 2 * (precision * recall) / (precision + recall) if (precision + recall) > 0 else 0\n",
    "        f1_scores.append(f1)\n",
    "        \n",
    "        # Calculate ROC curve and AUC\n",
    "        # For binary classification of current class vs rest\n",
    "        y_true_binary = (y_true == c).astype(int)\n",
    "        y_pred_binary = (y_pred == c).astype(float)\n",
    "        \n",
    "        # Sort predictions and corresponding true values\n",
    "        sorted_indices = np.argsort(y_pred_binary)[::-1]\n",
    "        y_true_binary = y_true_binary[sorted_indices]\n",
    "        \n",
    "        # Calculate TPR and FPR at different thresholds\n",
    "        tpr = np.zeros(len(y_true_binary) + 1)\n",
    "        fpr = np.zeros(len(y_true_binary) + 1)\n",
    "        \n",
    "        for i in range(len(y_true_binary)):\n",
    "            threshold_tpr = np.sum(y_true_binary[:i+1]) / np.sum(y_true_binary)\n",
    "            threshold_fpr = np.sum(~y_true_binary.astype(bool)[:i+1]) / np.sum(~y_true_binary.astype(bool))\n",
    "            tpr[i+1] = threshold_tpr\n",
    "            fpr[i+1] = threshold_fpr\n",
    "        \n",
    "        # Calculate AUC using trapezoid rule\n",
    "        auc = np.trapezoid(tpr, fpr)\n",
    "        aucs.append(auc)\n",
    "        \n",
    "        # Calculate Precision-Recall curve and AUPRC\n",
    "        # Sort by prediction scores\n",
    "        precision_curve = []\n",
    "        recall_curve = []\n",
    "        \n",
    "        for i in range(len(y_true_binary)):\n",
    "            threshold_tp = np.sum(y_true_binary[:i+1])\n",
    "            threshold_fp = i + 1 - threshold_tp\n",
    "            threshold_fn = np.sum(y_true_binary[i+1:])\n",
    "            \n",
    "            threshold_precision = threshold_tp / (threshold_tp + threshold_fp) if (threshold_tp + threshold_fp) > 0 else 1\n",
    "            threshold_recall = threshold_tp / (threshold_tp + threshold_fn) if (threshold_tp + threshold_fn) > 0 else 0\n",
    "            \n",
    "            precision_curve.append(threshold_precision)\n",
    "            recall_curve.append(threshold_recall)\n",
    "        \n",
    "        # Calculate AUPRC using trapezoid rule\n",
    "        auprc = np.trapezoid(precision_curve, recall_curve)\n",
    "        auprcs.append(auprc)\n",
    "    \n",
    "    # Calculate final metrics\n",
    "    metrics['accuracy'] = np.mean(y_true == y_pred)\n",
    "    metrics['precision'] = np.mean(precisions)\n",
    "    metrics['recall'] = np.mean(recalls)\n",
    "    metrics['sensitivity'] = np.mean(recalls)  # Same as recall\n",
    "    metrics['f1_score'] = np.mean(f1_scores)\n",
    "    metrics['auc'] = np.mean(aucs)\n",
    "    metrics['auprc'] = np.mean(auprcs)\n",
    "    \n",
    "    return metrics"
   ],
   "metadata": {
    "collapsed": false,
    "ExecuteTime": {
     "end_time": "2025-01-05T11:40:12.562470Z",
     "start_time": "2025-01-05T11:40:12.548533Z"
    }
   },
   "id": "56e38ac5d6c13b1a",
   "execution_count": 56
  },
  {
   "cell_type": "code",
   "outputs": [
    {
     "name": "stdout",
     "output_type": "stream",
     "text": [
      "\n",
      "Class distribution:\n",
      "Class 1: 54744\n",
      "Class 2: 36111\n",
      "Class 3: 92472\n",
      "Class 4: 132076\n",
      "Class 5: 124990\n"
     ]
    }
   ],
   "source": [
    "# Print dataset information\n",
    "print(\"\\nClass distribution:\")\n",
    "for cls in range(1, 6):\n",
    "    print(f\"Class {cls}: {np.sum(y == cls)}\")"
   ],
   "metadata": {
    "collapsed": false,
    "ExecuteTime": {
     "end_time": "2025-01-05T11:32:55.541292Z",
     "start_time": "2025-01-05T11:32:55.533560Z"
    }
   },
   "id": "fc1966e2bbf2ef03",
   "execution_count": 42
  },
  {
   "cell_type": "code",
   "outputs": [],
   "source": [
    "# Split data (70-30 split)\n",
    "np.random.seed(42)\n",
    "indices = np.random.permutation(len(X))\n",
    "split = int(0.7 * len(X))\n",
    "train_idx, test_idx = indices[:split], indices[split:]\n",
    "    \n",
    "X_train, X_test = X[train_idx], X[test_idx]\n",
    "y_train, y_test = y[train_idx], y[test_idx]"
   ],
   "metadata": {
    "collapsed": false,
    "ExecuteTime": {
     "end_time": "2025-01-05T11:32:58.627991Z",
     "start_time": "2025-01-05T11:32:58.572514Z"
    }
   },
   "id": "d9dff08b993943aa",
   "execution_count": 43
  },
  {
   "cell_type": "code",
   "outputs": [],
   "source": [
    "# Train model with optimized classifier\n",
    "clf = DecisionTreeClassifier(max_depth=5, min_samples=2, max_thresholds=10)\n",
    "clf.fit(X_train, y_train);"
   ],
   "metadata": {
    "collapsed": false,
    "ExecuteTime": {
     "end_time": "2025-01-05T11:33:04.691900Z",
     "start_time": "2025-01-05T11:32:58.882571Z"
    }
   },
   "id": "c4e7209ba8d06920",
   "execution_count": 44
  },
  {
   "cell_type": "code",
   "outputs": [],
   "source": [
    "# Make predictions\n",
    "y_pred = clf.predict(X_test)"
   ],
   "metadata": {
    "collapsed": false,
    "ExecuteTime": {
     "end_time": "2025-01-05T11:33:04.821639Z",
     "start_time": "2025-01-05T11:33:04.694592Z"
    }
   },
   "id": "e286766d0d1a647",
   "execution_count": 45
  },
  {
   "cell_type": "code",
   "outputs": [
    {
     "name": "stdout",
     "output_type": "stream",
     "text": [
      "Metrics calculation completed!\n"
     ]
    }
   ],
   "source": [
    "# Calculate metrics\n",
    "metrics = evaluate_metrics(y_test, y_pred)"
   ],
   "metadata": {
    "collapsed": false,
    "ExecuteTime": {
     "end_time": "2025-01-05T11:34:36.398598Z",
     "start_time": "2025-01-05T11:33:04.823093Z"
    }
   },
   "id": "e8d6516ec8deced2",
   "execution_count": 46
  },
  {
   "cell_type": "code",
   "outputs": [
    {
     "name": "stdout",
     "output_type": "stream",
     "text": [
      "\n",
      "Evaluation Metrics:\n",
      "accuracy: 0.4715\n",
      "precision: 0.4700\n",
      "recall: 0.4086\n",
      "sensitivity: 0.4086\n",
      "f1_score: 0.4178\n",
      "auc: 0.6327\n",
      "auprc: 0.3296\n"
     ]
    }
   ],
   "source": [
    "# Print results\n",
    "print(\"\\nEvaluation Metrics:\")\n",
    "for metric, value in metrics.items():\n",
    "    print(f\"{metric}: {value:.4f}\")"
   ],
   "metadata": {
    "collapsed": false,
    "ExecuteTime": {
     "end_time": "2025-01-05T11:34:36.416115Z",
     "start_time": "2025-01-05T11:34:36.403940Z"
    }
   },
   "id": "56ee1628e5565e72",
   "execution_count": 47
  },
  {
   "cell_type": "code",
   "outputs": [],
   "source": [
    "from sklearn.model_selection import KFold"
   ],
   "metadata": {
    "collapsed": false,
    "ExecuteTime": {
     "end_time": "2025-01-05T11:36:18.533715Z",
     "start_time": "2025-01-05T11:36:18.525737Z"
    }
   },
   "id": "f3a0c81bc1a30b41",
   "execution_count": 51
  },
  {
   "cell_type": "code",
   "outputs": [],
   "source": [
    "def cross_validate(model, X, y, n_splits=5):\n",
    "    \"\"\"\n",
    "    Perform K-Fold Cross-Validation on the model.\n",
    "    Returns average metrics across all folds.\n",
    "    \"\"\"\n",
    "    kf = KFold(n_splits=n_splits, shuffle=True, random_state=42)\n",
    "    all_metrics = []\n",
    "\n",
    "    for train_index, test_index in kf.split(X):\n",
    "        # Împărțim datele în train/test pentru acest fold\n",
    "        X_train, X_test = X[train_index], X[test_index]\n",
    "        y_train, y_test = y[train_index], y[test_index]\n",
    "\n",
    "        # Antrenăm modelul pe fold-ul curent\n",
    "        model.fit(X_train, y_train)\n",
    "\n",
    "        # Realizăm predicții pe setul de test al acestui fold\n",
    "        y_pred = model.predict(X_test)\n",
    "\n",
    "        # Calculăm metricile\n",
    "        fold_metrics = evaluate_metrics(y_test, y_pred)\n",
    "        all_metrics.append(fold_metrics)\n",
    "\n",
    "    # Calculăm media metricilor pe toate foldurile\n",
    "    avg_metrics = {metric: np.mean([fold[metric] for fold in all_metrics]) for metric in all_metrics[0].keys()}\n",
    "    return avg_metrics"
   ],
   "metadata": {
    "collapsed": false,
    "ExecuteTime": {
     "end_time": "2025-01-05T11:36:19.120987Z",
     "start_time": "2025-01-05T11:36:19.117393Z"
    }
   },
   "id": "b9a10910eb48a162",
   "execution_count": 52
  },
  {
   "cell_type": "code",
   "outputs": [],
   "source": [
    "clf = DecisionTreeClassifier(max_depth=5, min_samples=2, max_thresholds=10)"
   ],
   "metadata": {
    "collapsed": false,
    "ExecuteTime": {
     "end_time": "2025-01-05T11:36:19.972401Z",
     "start_time": "2025-01-05T11:36:19.955812Z"
    }
   },
   "id": "ef87586ba4ad9484",
   "execution_count": 53
  },
  {
   "cell_type": "code",
   "outputs": [
    {
     "name": "stdout",
     "output_type": "stream",
     "text": [
      "Performing Cross-Validation...\n",
      "Metrics calculation completed!\n",
      "Metrics calculation completed!\n",
      "Metrics calculation completed!\n",
      "Metrics calculation completed!\n",
      "Metrics calculation completed!\n"
     ]
    }
   ],
   "source": [
    "# Cross-Validation\n",
    "print(\"Performing Cross-Validation...\")\n",
    "metrics = cross_validate(clf, X, y, n_splits=5)"
   ],
   "metadata": {
    "collapsed": false,
    "ExecuteTime": {
     "end_time": "2025-01-05T11:40:12.537205Z",
     "start_time": "2025-01-05T11:36:20.613445Z"
    }
   },
   "id": "6779f9bbb53d3063",
   "execution_count": 54
  },
  {
   "cell_type": "code",
   "outputs": [
    {
     "name": "stdout",
     "output_type": "stream",
     "text": [
      "\n",
      "Average Metrics across all folds:\n",
      "accuracy: 0.4725\n",
      "precision: 0.4694\n",
      "recall: 0.4103\n",
      "sensitivity: 0.4103\n",
      "f1_score: 0.4198\n",
      "auc: 0.6364\n",
      "auprc: 0.3312\n"
     ]
    }
   ],
   "source": [
    "print(\"\\nAverage Metrics across all folds:\")\n",
    "for metric, value in metrics.items():\n",
    "    print(f\"{metric}: {value:.4f}\")"
   ],
   "metadata": {
    "collapsed": false,
    "ExecuteTime": {
     "end_time": "2025-01-05T11:40:12.546648Z",
     "start_time": "2025-01-05T11:40:12.540521Z"
    }
   },
   "id": "f6855194db016554",
   "execution_count": 55
  },
  {
   "cell_type": "code",
   "outputs": [],
   "source": [
    "from sklearn.model_selection import StratifiedKFold\n",
    "\n",
    "def cross_validate_stratified(model, X, y, n_splits=5):\n",
    "    \"\"\"Perform Stratified K-Fold Cross-Validation on the model.\"\"\"\n",
    "    kf = StratifiedKFold(n_splits=n_splits, shuffle=True, random_state=42)\n",
    "    all_metrics = []\n",
    "\n",
    "    for train_index, test_index in kf.split(X, y):  # Pass both X and y\n",
    "        X_train, X_test = X[train_index], X[test_index]\n",
    "        y_train, y_test = y[train_index], y[test_index]\n",
    "\n",
    "        # Reinitialize model for each fold\n",
    "        model_fold = DecisionTreeClassifier(max_depth=model.max_depth, \n",
    "                                            min_samples=model.min_samples, \n",
    "                                            max_thresholds=model.max_thresholds)\n",
    "        model_fold.fit(X_train, y_train)\n",
    "        y_pred = model_fold.predict(X_test)\n",
    "\n",
    "        # Compute evaluation metrics\n",
    "        fold_metrics = evaluate_metrics(y_test, y_pred)\n",
    "        all_metrics.append(fold_metrics)\n",
    "\n",
    "    # Compute the average across all folds\n",
    "    avg_metrics = {metric: np.mean([fold[metric] for fold in all_metrics]) for metric in all_metrics[0].keys()}\n",
    "    return avg_metrics"
   ],
   "metadata": {
    "collapsed": false,
    "ExecuteTime": {
     "end_time": "2025-01-05T12:01:21.194949Z",
     "start_time": "2025-01-05T12:01:21.182908Z"
    }
   },
   "id": "db8149592161ffba",
   "execution_count": 58
  },
  {
   "cell_type": "code",
   "outputs": [],
   "source": [
    "clf = DecisionTreeClassifier(max_depth=5, min_samples=2, max_thresholds=10)"
   ],
   "metadata": {
    "collapsed": false,
    "ExecuteTime": {
     "end_time": "2025-01-05T12:01:49.708030Z",
     "start_time": "2025-01-05T12:01:49.699460Z"
    }
   },
   "id": "d2d8b2913c393cae",
   "execution_count": 59
  },
  {
   "cell_type": "code",
   "outputs": [
    {
     "name": "stdout",
     "output_type": "stream",
     "text": [
      "Performing Cross-Validation...\n"
     ]
    }
   ],
   "source": [
    "# Cross-Validation\n",
    "print(\"Performing Cross-Validation...\")\n",
    "metrics = cross_validate_stratified(clf, X, y, n_splits=5)"
   ],
   "metadata": {
    "collapsed": false,
    "ExecuteTime": {
     "end_time": "2025-01-05T12:05:55.284180Z",
     "start_time": "2025-01-05T12:02:07.842333Z"
    }
   },
   "id": "6b6901d0eb24684c",
   "execution_count": 60
  },
  {
   "cell_type": "code",
   "outputs": [
    {
     "name": "stdout",
     "output_type": "stream",
     "text": [
      "\n",
      "Average Metrics across all folds:\n",
      "accuracy: 0.4724\n",
      "precision: 0.4697\n",
      "recall: 0.4100\n",
      "sensitivity: 0.4100\n",
      "f1_score: 0.4190\n",
      "auc: 0.6361\n",
      "auprc: 0.3315\n"
     ]
    }
   ],
   "source": [
    "print(\"\\nAverage Metrics across all folds:\")\n",
    "for metric, value in metrics.items():\n",
    "    print(f\"{metric}: {value:.4f}\")"
   ],
   "metadata": {
    "collapsed": false,
    "ExecuteTime": {
     "end_time": "2025-01-05T12:05:55.290488Z",
     "start_time": "2025-01-05T12:05:55.286292Z"
    }
   },
   "id": "b048d137c156cec5",
   "execution_count": 61
  },
  {
   "cell_type": "code",
   "outputs": [
    {
     "name": "stdout",
     "output_type": "stream",
     "text": [
      "Performing Cross-Validation...\n"
     ]
    }
   ],
   "source": [
    "# Cross-Validation\n",
    "print(\"Performing Cross-Validation...\")\n",
    "metrics = cross_validate_stratified(clf, X, y, n_splits=10)"
   ],
   "metadata": {
    "collapsed": false,
    "ExecuteTime": {
     "end_time": "2025-01-05T12:28:46.671227Z",
     "start_time": "2025-01-05T12:26:00.953975Z"
    }
   },
   "id": "6da74936e8656666",
   "execution_count": 62
  },
  {
   "cell_type": "code",
   "outputs": [
    {
     "name": "stdout",
     "output_type": "stream",
     "text": [
      "\n",
      "Average Metrics across all folds:\n",
      "accuracy: 0.4724\n",
      "precision: 0.4699\n",
      "recall: 0.4092\n",
      "sensitivity: 0.4092\n",
      "f1_score: 0.4181\n",
      "auc: 0.6352\n",
      "auprc: 0.3300\n"
     ]
    }
   ],
   "source": [
    "print(\"\\nAverage Metrics across all folds:\")\n",
    "for metric, value in metrics.items():\n",
    "    print(f\"{metric}: {value:.4f}\")"
   ],
   "metadata": {
    "collapsed": false,
    "ExecuteTime": {
     "end_time": "2025-01-05T12:28:46.682831Z",
     "start_time": "2025-01-05T12:28:46.676606Z"
    }
   },
   "id": "90ba424652d72b7c",
   "execution_count": 63
  },
  {
   "cell_type": "markdown",
   "source": [
    "Hyperparameter Optimization"
   ],
   "metadata": {
    "collapsed": false
   },
   "id": "d76f178512c5f80d"
  },
  {
   "cell_type": "code",
   "outputs": [],
   "source": [
    "from sklearn.model_selection import KFold\n",
    "import numpy as np\n",
    "from itertools import product\n",
    "import time"
   ],
   "metadata": {
    "collapsed": false,
    "ExecuteTime": {
     "end_time": "2025-01-05T12:35:55.053559Z",
     "start_time": "2025-01-05T12:35:55.037547Z"
    }
   },
   "id": "3ac5aed5c11a8f2e",
   "execution_count": 64
  },
  {
   "cell_type": "code",
   "outputs": [],
   "source": [
    "def grid_search_cv(model_class, param_grid, X, y, n_splits=5, random_state=42):\n",
    "    \"\"\"\n",
    "    Perform grid search with cross-validation for hyperparameter optimization.\n",
    "    \"\"\"\n",
    "    # Create all possible combinations of parameters\n",
    "    param_combinations = [dict(zip(param_grid.keys(), v)) \n",
    "                         for v in product(*param_grid.values())]\n",
    "    \n",
    "    # Initialize variables to store best results\n",
    "    best_score = -np.inf\n",
    "    best_params = None\n",
    "    best_metrics = None\n",
    "    \n",
    "    # Create K-fold cross-validator\n",
    "    kf = KFold(n_splits=n_splits, shuffle=True, random_state=random_state)\n",
    "    \n",
    "    start_time = time.time()\n",
    "    total_combinations = len(param_combinations)\n",
    "    \n",
    "    print(f\"Starting grid search with {total_combinations} parameter combinations...\")\n",
    "    \n",
    "    # Iterate through all parameter combinations\n",
    "    for i, params in enumerate(param_combinations, 1):\n",
    "        print(f\"\\nTesting combination {i}/{total_combinations}:\")\n",
    "        print(f\"Parameters: {params}\")\n",
    "        \n",
    "        # Store metrics for all folds\n",
    "        fold_metrics = []\n",
    "        \n",
    "        # Perform k-fold cross-validation\n",
    "        for fold, (train_idx, val_idx) in enumerate(kf.split(X), 1):\n",
    "            X_train, X_val = X[train_idx], X[val_idx]\n",
    "            y_train, y_val = y[train_idx], y[val_idx]\n",
    "            \n",
    "            # Initialize and train model with current parameters\n",
    "            model = model_class(**params)\n",
    "            model.fit(X_train, y_train)\n",
    "            \n",
    "            # Make predictions\n",
    "            y_pred = model.predict(X_val)\n",
    "            \n",
    "            # Calculate metrics\n",
    "            metrics = evaluate_metrics(y_val, y_pred)\n",
    "            fold_metrics.append(metrics)\n",
    "        \n",
    "        # Calculate average metrics across folds\n",
    "        avg_metrics = {metric: np.mean([fold[metric] for fold in fold_metrics]) \n",
    "                      for metric in fold_metrics[0].keys()}\n",
    "        \n",
    "        # Calculate a weighted composite score using multiple metrics\n",
    "        # Weights can be adjusted based on importance of each metric\n",
    "        composite_score = (\n",
    "            0.3 * avg_metrics['accuracy'] +    # Overall accuracy\n",
    "            0.2 * avg_metrics['f1_score'] +    # Balance between precision and recall\n",
    "            0.2 * avg_metrics['auc'] +         # Discrimination ability\n",
    "            0.15 * avg_metrics['precision'] +  # Precision importance\n",
    "            0.15 * avg_metrics['recall']       # Recall importance\n",
    "        )\n",
    "        current_score = composite_score\n",
    "        \n",
    "        print(f\"Average metrics for this combination:\")\n",
    "        for metric, value in avg_metrics.items():\n",
    "            print(f\"{metric}: {value:.4f}\")\n",
    "        \n",
    "        # Update best parameters if current score is better\n",
    "        if current_score > best_score:\n",
    "            best_score = current_score\n",
    "            best_params = params\n",
    "            best_metrics = avg_metrics\n",
    "            print(\"\\nNew best combination found!\")\n",
    "            print(f\"Best score so far: {best_score:.4f}\")\n",
    "    \n",
    "    # Calculate total time taken\n",
    "    total_time = time.time() - start_time\n",
    "    print(f\"\\nGrid search completed in {total_time:.2f} seconds\")\n",
    "    \n",
    "    return {\n",
    "        'best_params': best_params,\n",
    "        'best_metrics': best_metrics\n",
    "    }"
   ],
   "metadata": {
    "collapsed": false,
    "ExecuteTime": {
     "end_time": "2025-01-05T13:52:38.171611Z",
     "start_time": "2025-01-05T13:52:38.153950Z"
    }
   },
   "id": "a508f2ae24a6573b",
   "execution_count": 69
  },
  {
   "cell_type": "code",
   "outputs": [],
   "source": [
    "# Define Parameter Grid\n",
    "param_grid = {\n",
    "    'max_depth': [3, 5, 7, 10],\n",
    "    'min_samples': [2, 5, 10, 20],\n",
    "    'max_thresholds': [5, 10, 20, 30]\n",
    "}"
   ],
   "metadata": {
    "collapsed": false,
    "ExecuteTime": {
     "end_time": "2025-01-05T13:52:39.868260Z",
     "start_time": "2025-01-05T13:52:39.856400Z"
    }
   },
   "id": "4606c0045aa62717",
   "execution_count": 70
  },
  {
   "cell_type": "code",
   "outputs": [
    {
     "name": "stdout",
     "output_type": "stream",
     "text": [
      "Starting grid search with 64 parameter combinations...\n",
      "\n",
      "Testing combination 1/64:\n",
      "Parameters: {'max_depth': 3, 'min_samples': 2, 'max_thresholds': 5}\n",
      "Average metrics for this combination:\n",
      "accuracy: 0.4427\n",
      "precision: 0.4120\n",
      "recall: 0.3622\n",
      "sensitivity: 0.3622\n",
      "f1_score: 0.3577\n",
      "auc: 0.6087\n",
      "auprc: 0.2945\n",
      "\n",
      "New best combination found!\n",
      "Best F1-score so far: 0.4422\n",
      "\n",
      "Testing combination 2/64:\n",
      "Parameters: {'max_depth': 3, 'min_samples': 2, 'max_thresholds': 10}\n",
      "Average metrics for this combination:\n",
      "accuracy: 0.4389\n",
      "precision: 0.3690\n",
      "recall: 0.3560\n",
      "sensitivity: 0.3560\n",
      "f1_score: 0.3441\n",
      "auc: 0.6041\n",
      "auprc: 0.2935\n",
      "\n",
      "Testing combination 3/64:\n",
      "Parameters: {'max_depth': 3, 'min_samples': 2, 'max_thresholds': 20}\n",
      "Average metrics for this combination:\n",
      "accuracy: 0.4325\n",
      "precision: 0.4043\n",
      "recall: 0.3504\n",
      "sensitivity: 0.3504\n",
      "f1_score: 0.3479\n",
      "auc: 0.6001\n",
      "auprc: 0.2918\n",
      "\n",
      "Testing combination 4/64:\n",
      "Parameters: {'max_depth': 3, 'min_samples': 2, 'max_thresholds': 30}\n",
      "Average metrics for this combination:\n",
      "accuracy: 0.4355\n",
      "precision: 0.4165\n",
      "recall: 0.3543\n",
      "sensitivity: 0.3543\n",
      "f1_score: 0.3559\n",
      "auc: 0.6025\n",
      "auprc: 0.2943\n",
      "\n",
      "Testing combination 5/64:\n",
      "Parameters: {'max_depth': 3, 'min_samples': 5, 'max_thresholds': 5}\n",
      "Average metrics for this combination:\n",
      "accuracy: 0.4427\n",
      "precision: 0.4120\n",
      "recall: 0.3622\n",
      "sensitivity: 0.3622\n",
      "f1_score: 0.3577\n",
      "auc: 0.6087\n",
      "auprc: 0.2945\n",
      "\n",
      "Testing combination 6/64:\n",
      "Parameters: {'max_depth': 3, 'min_samples': 5, 'max_thresholds': 10}\n",
      "Average metrics for this combination:\n",
      "accuracy: 0.4389\n",
      "precision: 0.3690\n",
      "recall: 0.3560\n",
      "sensitivity: 0.3560\n",
      "f1_score: 0.3441\n",
      "auc: 0.6041\n",
      "auprc: 0.2935\n",
      "\n",
      "Testing combination 7/64:\n",
      "Parameters: {'max_depth': 3, 'min_samples': 5, 'max_thresholds': 20}\n",
      "Average metrics for this combination:\n",
      "accuracy: 0.4325\n",
      "precision: 0.4043\n",
      "recall: 0.3504\n",
      "sensitivity: 0.3504\n",
      "f1_score: 0.3479\n",
      "auc: 0.6001\n",
      "auprc: 0.2918\n",
      "\n",
      "Testing combination 8/64:\n",
      "Parameters: {'max_depth': 3, 'min_samples': 5, 'max_thresholds': 30}\n",
      "Average metrics for this combination:\n",
      "accuracy: 0.4355\n",
      "precision: 0.4165\n",
      "recall: 0.3543\n",
      "sensitivity: 0.3543\n",
      "f1_score: 0.3559\n",
      "auc: 0.6025\n",
      "auprc: 0.2943\n",
      "\n",
      "Testing combination 9/64:\n",
      "Parameters: {'max_depth': 3, 'min_samples': 10, 'max_thresholds': 5}\n",
      "Average metrics for this combination:\n",
      "accuracy: 0.4427\n",
      "precision: 0.4120\n",
      "recall: 0.3622\n",
      "sensitivity: 0.3622\n",
      "f1_score: 0.3577\n",
      "auc: 0.6087\n",
      "auprc: 0.2945\n",
      "\n",
      "Testing combination 10/64:\n",
      "Parameters: {'max_depth': 3, 'min_samples': 10, 'max_thresholds': 10}\n",
      "Average metrics for this combination:\n",
      "accuracy: 0.4389\n",
      "precision: 0.3690\n",
      "recall: 0.3560\n",
      "sensitivity: 0.3560\n",
      "f1_score: 0.3441\n",
      "auc: 0.6041\n",
      "auprc: 0.2935\n",
      "\n",
      "Testing combination 11/64:\n",
      "Parameters: {'max_depth': 3, 'min_samples': 10, 'max_thresholds': 20}\n",
      "Average metrics for this combination:\n",
      "accuracy: 0.4325\n",
      "precision: 0.4043\n",
      "recall: 0.3504\n",
      "sensitivity: 0.3504\n",
      "f1_score: 0.3479\n",
      "auc: 0.6001\n",
      "auprc: 0.2918\n",
      "\n",
      "Testing combination 12/64:\n",
      "Parameters: {'max_depth': 3, 'min_samples': 10, 'max_thresholds': 30}\n",
      "Average metrics for this combination:\n",
      "accuracy: 0.4355\n",
      "precision: 0.4165\n",
      "recall: 0.3543\n",
      "sensitivity: 0.3543\n",
      "f1_score: 0.3559\n",
      "auc: 0.6025\n",
      "auprc: 0.2943\n",
      "\n",
      "Testing combination 13/64:\n",
      "Parameters: {'max_depth': 3, 'min_samples': 20, 'max_thresholds': 5}\n",
      "Average metrics for this combination:\n",
      "accuracy: 0.4427\n",
      "precision: 0.4120\n",
      "recall: 0.3622\n",
      "sensitivity: 0.3622\n",
      "f1_score: 0.3577\n",
      "auc: 0.6087\n",
      "auprc: 0.2945\n",
      "\n",
      "Testing combination 14/64:\n",
      "Parameters: {'max_depth': 3, 'min_samples': 20, 'max_thresholds': 10}\n",
      "Average metrics for this combination:\n",
      "accuracy: 0.4389\n",
      "precision: 0.3690\n",
      "recall: 0.3560\n",
      "sensitivity: 0.3560\n",
      "f1_score: 0.3441\n",
      "auc: 0.6041\n",
      "auprc: 0.2935\n",
      "\n",
      "Testing combination 15/64:\n",
      "Parameters: {'max_depth': 3, 'min_samples': 20, 'max_thresholds': 20}\n",
      "Average metrics for this combination:\n",
      "accuracy: 0.4325\n",
      "precision: 0.4043\n",
      "recall: 0.3504\n",
      "sensitivity: 0.3504\n",
      "f1_score: 0.3479\n",
      "auc: 0.6001\n",
      "auprc: 0.2918\n",
      "\n",
      "Testing combination 16/64:\n",
      "Parameters: {'max_depth': 3, 'min_samples': 20, 'max_thresholds': 30}\n",
      "Average metrics for this combination:\n",
      "accuracy: 0.4355\n",
      "precision: 0.4165\n",
      "recall: 0.3543\n",
      "sensitivity: 0.3543\n",
      "f1_score: 0.3559\n",
      "auc: 0.6025\n",
      "auprc: 0.2943\n",
      "\n",
      "Testing combination 17/64:\n",
      "Parameters: {'max_depth': 5, 'min_samples': 2, 'max_thresholds': 5}\n",
      "Average metrics for this combination:\n",
      "accuracy: 0.4701\n",
      "precision: 0.4677\n",
      "recall: 0.3996\n",
      "sensitivity: 0.3996\n",
      "f1_score: 0.4080\n",
      "auc: 0.6306\n",
      "auprc: 0.3268\n",
      "\n",
      "New best combination found!\n",
      "Best F1-score so far: 0.4789\n",
      "\n",
      "Testing combination 18/64:\n",
      "Parameters: {'max_depth': 5, 'min_samples': 2, 'max_thresholds': 10}\n",
      "Average metrics for this combination:\n",
      "accuracy: 0.4725\n",
      "precision: 0.4694\n",
      "recall: 0.4103\n",
      "sensitivity: 0.4103\n",
      "f1_score: 0.4198\n",
      "auc: 0.6364\n",
      "auprc: 0.3312\n",
      "\n",
      "New best combination found!\n",
      "Best F1-score so far: 0.4850\n",
      "\n",
      "Testing combination 19/64:\n",
      "Parameters: {'max_depth': 5, 'min_samples': 2, 'max_thresholds': 20}\n",
      "Average metrics for this combination:\n",
      "accuracy: 0.4744\n",
      "precision: 0.4716\n",
      "recall: 0.4250\n",
      "sensitivity: 0.4250\n",
      "f1_score: 0.4374\n",
      "auc: 0.6435\n",
      "auprc: 0.3402\n",
      "\n",
      "New best combination found!\n",
      "Best F1-score so far: 0.4930\n",
      "\n",
      "Testing combination 20/64:\n",
      "Parameters: {'max_depth': 5, 'min_samples': 2, 'max_thresholds': 30}\n",
      "Average metrics for this combination:\n",
      "accuracy: 0.4739\n",
      "precision: 0.4688\n",
      "recall: 0.4244\n",
      "sensitivity: 0.4244\n",
      "f1_score: 0.4369\n",
      "auc: 0.6432\n",
      "auprc: 0.3393\n",
      "\n",
      "Testing combination 21/64:\n",
      "Parameters: {'max_depth': 5, 'min_samples': 5, 'max_thresholds': 5}\n",
      "Average metrics for this combination:\n",
      "accuracy: 0.4701\n",
      "precision: 0.4677\n",
      "recall: 0.3996\n",
      "sensitivity: 0.3996\n",
      "f1_score: 0.4080\n",
      "auc: 0.6306\n",
      "auprc: 0.3268\n",
      "\n",
      "Testing combination 22/64:\n",
      "Parameters: {'max_depth': 5, 'min_samples': 5, 'max_thresholds': 10}\n",
      "Average metrics for this combination:\n",
      "accuracy: 0.4725\n",
      "precision: 0.4694\n",
      "recall: 0.4103\n",
      "sensitivity: 0.4103\n",
      "f1_score: 0.4198\n",
      "auc: 0.6364\n",
      "auprc: 0.3312\n",
      "\n",
      "Testing combination 23/64:\n",
      "Parameters: {'max_depth': 5, 'min_samples': 5, 'max_thresholds': 20}\n",
      "Average metrics for this combination:\n",
      "accuracy: 0.4744\n",
      "precision: 0.4716\n",
      "recall: 0.4250\n",
      "sensitivity: 0.4250\n",
      "f1_score: 0.4374\n",
      "auc: 0.6435\n",
      "auprc: 0.3402\n",
      "\n",
      "Testing combination 24/64:\n",
      "Parameters: {'max_depth': 5, 'min_samples': 5, 'max_thresholds': 30}\n",
      "Average metrics for this combination:\n",
      "accuracy: 0.4739\n",
      "precision: 0.4688\n",
      "recall: 0.4244\n",
      "sensitivity: 0.4244\n",
      "f1_score: 0.4369\n",
      "auc: 0.6432\n",
      "auprc: 0.3393\n",
      "\n",
      "Testing combination 25/64:\n",
      "Parameters: {'max_depth': 5, 'min_samples': 10, 'max_thresholds': 5}\n",
      "Average metrics for this combination:\n",
      "accuracy: 0.4701\n",
      "precision: 0.4677\n",
      "recall: 0.3996\n",
      "sensitivity: 0.3996\n",
      "f1_score: 0.4080\n",
      "auc: 0.6306\n",
      "auprc: 0.3268\n",
      "\n",
      "Testing combination 26/64:\n",
      "Parameters: {'max_depth': 5, 'min_samples': 10, 'max_thresholds': 10}\n",
      "Average metrics for this combination:\n",
      "accuracy: 0.4725\n",
      "precision: 0.4694\n",
      "recall: 0.4103\n",
      "sensitivity: 0.4103\n",
      "f1_score: 0.4198\n",
      "auc: 0.6364\n",
      "auprc: 0.3312\n",
      "\n",
      "Testing combination 27/64:\n",
      "Parameters: {'max_depth': 5, 'min_samples': 10, 'max_thresholds': 20}\n",
      "Average metrics for this combination:\n",
      "accuracy: 0.4744\n",
      "precision: 0.4716\n",
      "recall: 0.4250\n",
      "sensitivity: 0.4250\n",
      "f1_score: 0.4374\n",
      "auc: 0.6435\n",
      "auprc: 0.3402\n",
      "\n",
      "Testing combination 28/64:\n",
      "Parameters: {'max_depth': 5, 'min_samples': 10, 'max_thresholds': 30}\n",
      "Average metrics for this combination:\n",
      "accuracy: 0.4739\n",
      "precision: 0.4688\n",
      "recall: 0.4244\n",
      "sensitivity: 0.4244\n",
      "f1_score: 0.4369\n",
      "auc: 0.6432\n",
      "auprc: 0.3393\n",
      "\n",
      "Testing combination 29/64:\n",
      "Parameters: {'max_depth': 5, 'min_samples': 20, 'max_thresholds': 5}\n",
      "Average metrics for this combination:\n",
      "accuracy: 0.4701\n",
      "precision: 0.4677\n",
      "recall: 0.3996\n",
      "sensitivity: 0.3996\n",
      "f1_score: 0.4080\n",
      "auc: 0.6306\n",
      "auprc: 0.3268\n",
      "\n",
      "Testing combination 30/64:\n",
      "Parameters: {'max_depth': 5, 'min_samples': 20, 'max_thresholds': 10}\n",
      "Average metrics for this combination:\n",
      "accuracy: 0.4725\n",
      "precision: 0.4694\n",
      "recall: 0.4103\n",
      "sensitivity: 0.4103\n",
      "f1_score: 0.4198\n",
      "auc: 0.6364\n",
      "auprc: 0.3312\n",
      "\n",
      "Testing combination 31/64:\n",
      "Parameters: {'max_depth': 5, 'min_samples': 20, 'max_thresholds': 20}\n",
      "Average metrics for this combination:\n",
      "accuracy: 0.4744\n",
      "precision: 0.4716\n",
      "recall: 0.4250\n",
      "sensitivity: 0.4250\n",
      "f1_score: 0.4374\n",
      "auc: 0.6435\n",
      "auprc: 0.3402\n",
      "\n",
      "Testing combination 32/64:\n",
      "Parameters: {'max_depth': 5, 'min_samples': 20, 'max_thresholds': 30}\n",
      "Average metrics for this combination:\n",
      "accuracy: 0.4739\n",
      "precision: 0.4688\n",
      "recall: 0.4244\n",
      "sensitivity: 0.4244\n",
      "f1_score: 0.4369\n",
      "auc: 0.6432\n",
      "auprc: 0.3393\n",
      "\n",
      "Testing combination 33/64:\n",
      "Parameters: {'max_depth': 7, 'min_samples': 2, 'max_thresholds': 5}\n",
      "Average metrics for this combination:\n",
      "accuracy: 0.4809\n",
      "precision: 0.4844\n",
      "recall: 0.4232\n",
      "sensitivity: 0.4232\n",
      "f1_score: 0.4371\n",
      "auc: 0.6435\n",
      "auprc: 0.3429\n",
      "\n",
      "New best combination found!\n",
      "Best F1-score so far: 0.4965\n",
      "\n",
      "Testing combination 34/64:\n",
      "Parameters: {'max_depth': 7, 'min_samples': 2, 'max_thresholds': 10}\n",
      "Average metrics for this combination:\n",
      "accuracy: 0.4860\n",
      "precision: 0.4911\n",
      "recall: 0.4288\n",
      "sensitivity: 0.4288\n",
      "f1_score: 0.4430\n",
      "auc: 0.6466\n",
      "auprc: 0.3468\n",
      "\n",
      "New best combination found!\n",
      "Best F1-score so far: 0.5017\n",
      "\n",
      "Testing combination 35/64:\n",
      "Parameters: {'max_depth': 7, 'min_samples': 2, 'max_thresholds': 20}\n",
      "Average metrics for this combination:\n",
      "accuracy: 0.4843\n",
      "precision: 0.4915\n",
      "recall: 0.4291\n",
      "sensitivity: 0.4291\n",
      "f1_score: 0.4430\n",
      "auc: 0.6466\n",
      "auprc: 0.3471\n",
      "\n",
      "Testing combination 36/64:\n",
      "Parameters: {'max_depth': 7, 'min_samples': 2, 'max_thresholds': 30}\n",
      "Average metrics for this combination:\n",
      "accuracy: 0.4848\n",
      "precision: 0.4886\n",
      "recall: 0.4283\n",
      "sensitivity: 0.4283\n",
      "f1_score: 0.4427\n",
      "auc: 0.6464\n",
      "auprc: 0.3466\n",
      "\n",
      "Testing combination 37/64:\n",
      "Parameters: {'max_depth': 7, 'min_samples': 5, 'max_thresholds': 5}\n",
      "Average metrics for this combination:\n",
      "accuracy: 0.4809\n",
      "precision: 0.4844\n",
      "recall: 0.4232\n",
      "sensitivity: 0.4232\n",
      "f1_score: 0.4371\n",
      "auc: 0.6435\n",
      "auprc: 0.3429\n",
      "\n",
      "Testing combination 38/64:\n",
      "Parameters: {'max_depth': 7, 'min_samples': 5, 'max_thresholds': 10}\n",
      "Average metrics for this combination:\n",
      "accuracy: 0.4860\n",
      "precision: 0.4911\n",
      "recall: 0.4288\n",
      "sensitivity: 0.4288\n",
      "f1_score: 0.4430\n",
      "auc: 0.6466\n",
      "auprc: 0.3468\n",
      "\n",
      "Testing combination 39/64:\n",
      "Parameters: {'max_depth': 7, 'min_samples': 5, 'max_thresholds': 20}\n",
      "Average metrics for this combination:\n",
      "accuracy: 0.4843\n",
      "precision: 0.4915\n",
      "recall: 0.4291\n",
      "sensitivity: 0.4291\n",
      "f1_score: 0.4430\n",
      "auc: 0.6466\n",
      "auprc: 0.3471\n",
      "\n",
      "Testing combination 40/64:\n",
      "Parameters: {'max_depth': 7, 'min_samples': 5, 'max_thresholds': 30}\n",
      "Average metrics for this combination:\n",
      "accuracy: 0.4848\n",
      "precision: 0.4886\n",
      "recall: 0.4283\n",
      "sensitivity: 0.4283\n",
      "f1_score: 0.4427\n",
      "auc: 0.6464\n",
      "auprc: 0.3466\n",
      "\n",
      "Testing combination 41/64:\n",
      "Parameters: {'max_depth': 7, 'min_samples': 10, 'max_thresholds': 5}\n",
      "Average metrics for this combination:\n",
      "accuracy: 0.4809\n",
      "precision: 0.4843\n",
      "recall: 0.4232\n",
      "sensitivity: 0.4232\n",
      "f1_score: 0.4371\n",
      "auc: 0.6435\n",
      "auprc: 0.3430\n",
      "\n",
      "Testing combination 42/64:\n",
      "Parameters: {'max_depth': 7, 'min_samples': 10, 'max_thresholds': 10}\n",
      "Average metrics for this combination:\n",
      "accuracy: 0.4860\n",
      "precision: 0.4911\n",
      "recall: 0.4288\n",
      "sensitivity: 0.4288\n",
      "f1_score: 0.4430\n",
      "auc: 0.6466\n",
      "auprc: 0.3468\n",
      "\n",
      "Testing combination 43/64:\n",
      "Parameters: {'max_depth': 7, 'min_samples': 10, 'max_thresholds': 20}\n",
      "Average metrics for this combination:\n",
      "accuracy: 0.4843\n",
      "precision: 0.4915\n",
      "recall: 0.4291\n",
      "sensitivity: 0.4291\n",
      "f1_score: 0.4430\n",
      "auc: 0.6466\n",
      "auprc: 0.3471\n",
      "\n",
      "Testing combination 44/64:\n",
      "Parameters: {'max_depth': 7, 'min_samples': 10, 'max_thresholds': 30}\n",
      "Average metrics for this combination:\n",
      "accuracy: 0.4848\n",
      "precision: 0.4886\n",
      "recall: 0.4283\n",
      "sensitivity: 0.4283\n",
      "f1_score: 0.4427\n",
      "auc: 0.6464\n",
      "auprc: 0.3465\n",
      "\n",
      "Testing combination 45/64:\n",
      "Parameters: {'max_depth': 7, 'min_samples': 20, 'max_thresholds': 5}\n",
      "Average metrics for this combination:\n",
      "accuracy: 0.4809\n",
      "precision: 0.4843\n",
      "recall: 0.4232\n",
      "sensitivity: 0.4232\n",
      "f1_score: 0.4371\n",
      "auc: 0.6435\n",
      "auprc: 0.3430\n",
      "\n",
      "Testing combination 46/64:\n",
      "Parameters: {'max_depth': 7, 'min_samples': 20, 'max_thresholds': 10}\n",
      "Average metrics for this combination:\n",
      "accuracy: 0.4860\n",
      "precision: 0.4911\n",
      "recall: 0.4288\n",
      "sensitivity: 0.4288\n",
      "f1_score: 0.4430\n",
      "auc: 0.6466\n",
      "auprc: 0.3470\n",
      "\n",
      "Testing combination 47/64:\n",
      "Parameters: {'max_depth': 7, 'min_samples': 20, 'max_thresholds': 20}\n",
      "Average metrics for this combination:\n",
      "accuracy: 0.4843\n",
      "precision: 0.4915\n",
      "recall: 0.4291\n",
      "sensitivity: 0.4291\n",
      "f1_score: 0.4431\n",
      "auc: 0.6467\n",
      "auprc: 0.3472\n",
      "\n",
      "Testing combination 48/64:\n",
      "Parameters: {'max_depth': 7, 'min_samples': 20, 'max_thresholds': 30}\n",
      "Average metrics for this combination:\n",
      "accuracy: 0.4848\n",
      "precision: 0.4885\n",
      "recall: 0.4283\n",
      "sensitivity: 0.4283\n",
      "f1_score: 0.4427\n",
      "auc: 0.6463\n",
      "auprc: 0.3459\n",
      "\n",
      "Testing combination 49/64:\n",
      "Parameters: {'max_depth': 10, 'min_samples': 2, 'max_thresholds': 5}\n",
      "Average metrics for this combination:\n",
      "accuracy: 0.4881\n",
      "precision: 0.4957\n",
      "recall: 0.4298\n",
      "sensitivity: 0.4298\n",
      "f1_score: 0.4436\n",
      "auc: 0.6476\n",
      "auprc: 0.3485\n",
      "\n",
      "New best combination found!\n",
      "Best F1-score so far: 0.5035\n",
      "\n",
      "Testing combination 50/64:\n",
      "Parameters: {'max_depth': 10, 'min_samples': 2, 'max_thresholds': 10}\n",
      "Average metrics for this combination:\n",
      "accuracy: 0.4909\n",
      "precision: 0.4982\n",
      "recall: 0.4342\n",
      "sensitivity: 0.4342\n",
      "f1_score: 0.4488\n",
      "auc: 0.6501\n",
      "auprc: 0.3522\n",
      "\n",
      "New best combination found!\n",
      "Best F1-score so far: 0.5069\n",
      "\n",
      "Testing combination 51/64:\n",
      "Parameters: {'max_depth': 10, 'min_samples': 2, 'max_thresholds': 20}\n",
      "Average metrics for this combination:\n",
      "accuracy: 0.4903\n",
      "precision: 0.4951\n",
      "recall: 0.4361\n",
      "sensitivity: 0.4361\n",
      "f1_score: 0.4500\n",
      "auc: 0.6514\n",
      "auprc: 0.3535\n",
      "\n",
      "New best combination found!\n",
      "Best F1-score so far: 0.5071\n",
      "\n",
      "Testing combination 52/64:\n",
      "Parameters: {'max_depth': 10, 'min_samples': 2, 'max_thresholds': 30}\n",
      "Average metrics for this combination:\n",
      "accuracy: 0.4911\n",
      "precision: 0.4967\n",
      "recall: 0.4364\n",
      "sensitivity: 0.4364\n",
      "f1_score: 0.4505\n",
      "auc: 0.6515\n",
      "auprc: 0.3527\n",
      "\n",
      "New best combination found!\n",
      "Best F1-score so far: 0.5077\n",
      "\n",
      "Testing combination 53/64:\n",
      "Parameters: {'max_depth': 10, 'min_samples': 5, 'max_thresholds': 5}\n",
      "Average metrics for this combination:\n",
      "accuracy: 0.4881\n",
      "precision: 0.4957\n",
      "recall: 0.4298\n",
      "sensitivity: 0.4298\n",
      "f1_score: 0.4436\n",
      "auc: 0.6477\n",
      "auprc: 0.3491\n",
      "\n",
      "Testing combination 54/64:\n",
      "Parameters: {'max_depth': 10, 'min_samples': 5, 'max_thresholds': 10}\n",
      "Average metrics for this combination:\n",
      "accuracy: 0.4909\n",
      "precision: 0.4981\n",
      "recall: 0.4342\n",
      "sensitivity: 0.4342\n",
      "f1_score: 0.4487\n",
      "auc: 0.6501\n",
      "auprc: 0.3514\n",
      "\n",
      "Testing combination 55/64:\n",
      "Parameters: {'max_depth': 10, 'min_samples': 5, 'max_thresholds': 20}\n",
      "Average metrics for this combination:\n",
      "accuracy: 0.4903\n",
      "precision: 0.4949\n",
      "recall: 0.4361\n",
      "sensitivity: 0.4361\n",
      "f1_score: 0.4500\n",
      "auc: 0.6512\n",
      "auprc: 0.3526\n",
      "\n",
      "Testing combination 56/64:\n",
      "Parameters: {'max_depth': 10, 'min_samples': 5, 'max_thresholds': 30}\n",
      "Average metrics for this combination:\n",
      "accuracy: 0.4910\n",
      "precision: 0.4965\n",
      "recall: 0.4363\n",
      "sensitivity: 0.4363\n",
      "f1_score: 0.4503\n",
      "auc: 0.6514\n",
      "auprc: 0.3530\n",
      "\n",
      "Testing combination 57/64:\n",
      "Parameters: {'max_depth': 10, 'min_samples': 10, 'max_thresholds': 5}\n",
      "Average metrics for this combination:\n",
      "accuracy: 0.4881\n",
      "precision: 0.4955\n",
      "recall: 0.4296\n",
      "sensitivity: 0.4296\n",
      "f1_score: 0.4433\n",
      "auc: 0.6476\n",
      "auprc: 0.3482\n",
      "\n",
      "Testing combination 58/64:\n",
      "Parameters: {'max_depth': 10, 'min_samples': 10, 'max_thresholds': 10}\n",
      "Average metrics for this combination:\n",
      "accuracy: 0.4908\n",
      "precision: 0.4980\n",
      "recall: 0.4340\n",
      "sensitivity: 0.4340\n",
      "f1_score: 0.4486\n",
      "auc: 0.6500\n",
      "auprc: 0.3509\n",
      "\n",
      "Testing combination 59/64:\n",
      "Parameters: {'max_depth': 10, 'min_samples': 10, 'max_thresholds': 20}\n",
      "Average metrics for this combination:\n",
      "accuracy: 0.4904\n",
      "precision: 0.4952\n",
      "recall: 0.4362\n",
      "sensitivity: 0.4362\n",
      "f1_score: 0.4502\n",
      "auc: 0.6513\n",
      "auprc: 0.3518\n",
      "\n",
      "Testing combination 60/64:\n",
      "Parameters: {'max_depth': 10, 'min_samples': 10, 'max_thresholds': 30}\n",
      "Average metrics for this combination:\n",
      "accuracy: 0.4909\n",
      "precision: 0.4963\n",
      "recall: 0.4363\n",
      "sensitivity: 0.4363\n",
      "f1_score: 0.4503\n",
      "auc: 0.6515\n",
      "auprc: 0.3535\n",
      "\n",
      "Testing combination 61/64:\n",
      "Parameters: {'max_depth': 10, 'min_samples': 20, 'max_thresholds': 5}\n",
      "Average metrics for this combination:\n",
      "accuracy: 0.4881\n",
      "precision: 0.4953\n",
      "recall: 0.4296\n",
      "sensitivity: 0.4296\n",
      "f1_score: 0.4434\n",
      "auc: 0.6475\n",
      "auprc: 0.3478\n",
      "\n",
      "Testing combination 62/64:\n",
      "Parameters: {'max_depth': 10, 'min_samples': 20, 'max_thresholds': 10}\n",
      "Average metrics for this combination:\n",
      "accuracy: 0.4908\n",
      "precision: 0.4983\n",
      "recall: 0.4340\n",
      "sensitivity: 0.4340\n",
      "f1_score: 0.4485\n",
      "auc: 0.6502\n",
      "auprc: 0.3520\n",
      "\n",
      "Testing combination 63/64:\n",
      "Parameters: {'max_depth': 10, 'min_samples': 20, 'max_thresholds': 20}\n",
      "Average metrics for this combination:\n",
      "accuracy: 0.4902\n",
      "precision: 0.4949\n",
      "recall: 0.4359\n",
      "sensitivity: 0.4359\n",
      "f1_score: 0.4499\n",
      "auc: 0.6512\n",
      "auprc: 0.3521\n",
      "\n",
      "Testing combination 64/64:\n",
      "Parameters: {'max_depth': 10, 'min_samples': 20, 'max_thresholds': 30}\n",
      "Average metrics for this combination:\n",
      "accuracy: 0.4909\n",
      "precision: 0.4964\n",
      "recall: 0.4362\n",
      "sensitivity: 0.4362\n",
      "f1_score: 0.4502\n",
      "auc: 0.6513\n",
      "auprc: 0.3532\n",
      "\n",
      "Grid search completed in 22078.79 seconds\n"
     ]
    }
   ],
   "source": [
    "# Run Grid Search\n",
    "results = grid_search_cv(DecisionTreeClassifier, param_grid, X, y)"
   ],
   "metadata": {
    "collapsed": false,
    "ExecuteTime": {
     "end_time": "2025-01-05T20:00:40.059023Z",
     "start_time": "2025-01-05T13:52:41.243726Z"
    }
   },
   "id": "9c3e795d4d1bdca4",
   "execution_count": 71
  },
  {
   "cell_type": "code",
   "outputs": [
    {
     "name": "stdout",
     "output_type": "stream",
     "text": [
      "\n",
      "Best parameters found:\n",
      "{'max_depth': 10, 'min_samples': 2, 'max_thresholds': 30}\n",
      "\n",
      "Best metrics achieved:\n",
      "accuracy: 0.4911\n",
      "precision: 0.4967\n",
      "recall: 0.4364\n",
      "sensitivity: 0.4364\n",
      "f1_score: 0.4505\n",
      "auc: 0.6515\n",
      "auprc: 0.3527\n"
     ]
    }
   ],
   "source": [
    "# Print Results\n",
    "print(\"\\nBest parameters found:\")\n",
    "print(results['best_params'])\n",
    "print(\"\\nBest metrics achieved:\")\n",
    "for metric, value in results['best_metrics'].items():\n",
    "    print(f\"{metric}: {value:.4f}\")"
   ],
   "metadata": {
    "collapsed": false,
    "ExecuteTime": {
     "end_time": "2025-01-05T20:00:40.087463Z",
     "start_time": "2025-01-05T20:00:40.069320Z"
    }
   },
   "id": "709f36ad840cbdc8",
   "execution_count": 72
  },
  {
   "cell_type": "code",
   "outputs": [
    {
     "name": "stdout",
     "output_type": "stream",
     "text": [
      "\n",
      "Final Test Set Metrics:\n",
      "accuracy: 0.4887\n",
      "precision: 0.4935\n",
      "recall: 0.4300\n",
      "sensitivity: 0.4300\n",
      "f1_score: 0.4446\n",
      "auc: 0.6454\n",
      "auprc: 0.3490\n"
     ]
    }
   ],
   "source": [
    "# Create and train model with best parameters\n",
    "best_model = DecisionTreeClassifier(**results['best_params'])\n",
    "best_model.fit(X_train, y_train)\n",
    "\n",
    "# Make predictions\n",
    "y_pred = best_model.predict(X_test)\n",
    "\n",
    "# Calculate and print final metrics\n",
    "final_metrics = evaluate_metrics(y_test, y_pred)\n",
    "print(\"\\nFinal Test Set Metrics:\")\n",
    "for metric, value in final_metrics.items():\n",
    "    print(f\"{metric}: {value:.4f}\")"
   ],
   "metadata": {
    "collapsed": false,
    "ExecuteTime": {
     "end_time": "2025-01-05T20:02:12.349215Z",
     "start_time": "2025-01-05T20:00:40.088434Z"
    }
   },
   "id": "5a9b594fe391d21d",
   "execution_count": 73
  },
  {
   "cell_type": "markdown",
   "source": [
    "Statistical Analysis (Confidence Intervals & Standard Deviation)"
   ],
   "metadata": {
    "collapsed": false
   },
   "id": "c29b77443dd6f379"
  },
  {
   "cell_type": "code",
   "outputs": [],
   "source": [
    "from scipy import stats\n",
    "import numpy as np\n",
    "import pandas as pd\n",
    "\n",
    "def analyze_best_model_stats(model_class, best_params, X, y, n_splits=5, confidence=0.95):\n",
    "    \"\"\"\n",
    "    Perform statistical analysis on the best model from grid search.\n",
    "    \"\"\"\n",
    "    kf = KFold(n_splits=n_splits, shuffle=True, random_state=42)\n",
    "    fold_metrics = []\n",
    "    \n",
    "    print(\"Performing statistical analysis on best model...\")\n",
    "    print(f\"Best parameters being analyzed: {best_params}\")\n",
    "    \n",
    "    # Perform cross-validation with the best parameters\n",
    "    for fold, (train_idx, test_idx) in enumerate(kf.split(X), 1):\n",
    "        # Split data\n",
    "        X_train, X_test = X[train_idx], X[test_idx]\n",
    "        y_train, y_test = y[train_idx], y[test_idx]\n",
    "        \n",
    "        # Train and evaluate model\n",
    "        model = model_class(**best_params)\n",
    "        model.fit(X_train, y_train)\n",
    "        y_pred = model.predict(X_test)\n",
    "        \n",
    "        # Calculate metrics for this fold\n",
    "        metrics = evaluate_metrics(y_test, y_pred)\n",
    "        fold_metrics.append(metrics)\n",
    "        \n",
    "        print(f\"Completed fold {fold}/{n_splits}\")\n",
    "    \n",
    "    # Calculate statistics for each metric\n",
    "    stats_results = {}\n",
    "    for metric in fold_metrics[0].keys():\n",
    "        values = [fold[metric] for fold in fold_metrics]\n",
    "        mean = np.mean(values)\n",
    "        std_dev = np.std(values, ddof=1)  # Using sample standard deviation\n",
    "        \n",
    "        # Calculate confidence interval\n",
    "        n = len(values)\n",
    "        t_value = stats.t.ppf((1 + confidence) / 2, n - 1)\n",
    "        ci_half_width = t_value * (std_dev / np.sqrt(n))\n",
    "        ci = (mean - ci_half_width, mean + ci_half_width)\n",
    "        \n",
    "        # Store results\n",
    "        stats_results[metric] = {\n",
    "            \"Values\": values,\n",
    "            \"Mean\": mean,\n",
    "            \"Standard Deviation\": std_dev,\n",
    "            \"Confidence Interval\": ci,\n",
    "            \"CV (%)\": (std_dev / mean) * 100 if mean != 0 else np.inf\n",
    "        }\n",
    "    \n",
    "    return stats_results"
   ],
   "metadata": {
    "collapsed": false,
    "ExecuteTime": {
     "end_time": "2025-01-06T13:01:03.695337Z",
     "start_time": "2025-01-06T13:01:03.652116Z"
    }
   },
   "id": "b879f5e73c7f82ce",
   "execution_count": 81
  },
  {
   "cell_type": "code",
   "outputs": [],
   "source": [
    "def display_model_statistics(stats_results):\n",
    "    \"\"\"\n",
    "    Display the statistical analysis results in a formatted way.\n",
    "    \"\"\"\n",
    "    print(\"\\n\" + \"=\"*60)\n",
    "    print(\"Statistical Analysis of Best Model Performance\")\n",
    "    print(\"=\"*60 + \"\\n\")\n",
    "    \n",
    "    # Create DataFrame for clean display\n",
    "    stats_df = pd.DataFrame(columns=['Mean', 'Std Dev', 'CV (%)', 'CI Lower', 'CI Upper'])\n",
    "    \n",
    "    for metric, stats in stats_results.items():\n",
    "        stats_df.loc[metric] = [\n",
    "            stats['Mean'],\n",
    "            stats['Standard Deviation'],\n",
    "            stats['CV (%)'],\n",
    "            stats['Confidence Interval'][0],\n",
    "            stats['Confidence Interval'][1]\n",
    "        ]\n",
    "    \n",
    "    # Format and display results\n",
    "    pd.set_option('display.float_format', lambda x: f'{x:.4f}')\n",
    "    print(stats_df)\n",
    "    \n",
    "    # Print detailed analysis\n",
    "    print(\"\\nDetailed Analysis:\")\n",
    "    print(\"-\"*60)\n",
    "    for metric, stats in stats_results.items():\n",
    "        print(f\"\\n📊 {metric.upper()}\")\n",
    "        print(f\"   ├ Mean                : {stats['Mean']:.4f}\")\n",
    "        print(f\"   ├ Standard Deviation  : {stats['Standard Deviation']:.4f}\")\n",
    "        print(f\"   ├ CV (%)             : {stats['CV (%)']:.2f}\")\n",
    "        print(f\"   └ 95% CI             : ({stats['Confidence Interval'][0]:.4f}, \"\n",
    "              f\"{stats['Confidence Interval'][1]:.4f})\")"
   ],
   "metadata": {
    "collapsed": false,
    "ExecuteTime": {
     "end_time": "2025-01-06T13:01:12.758119Z",
     "start_time": "2025-01-06T13:01:12.751065Z"
    }
   },
   "id": "742d9b48b8802b9e",
   "execution_count": 82
  },
  {
   "cell_type": "code",
   "outputs": [
    {
     "name": "stdout",
     "output_type": "stream",
     "text": [
      "Performing statistical analysis on best model...\n",
      "Best parameters being analyzed: {'max_depth': 10, 'min_samples': 2, 'max_thresholds': 30}\n",
      "Completed fold 1/5\n",
      "Completed fold 2/5\n",
      "Completed fold 3/5\n",
      "Completed fold 4/5\n",
      "Completed fold 5/5\n"
     ]
    }
   ],
   "source": [
    "best_model_stats = analyze_best_model_stats(\n",
    "    DecisionTreeClassifier,\n",
    "    results['best_params'],  # From your grid search\n",
    "    X,\n",
    "    y,\n",
    "    n_splits=5\n",
    ")"
   ],
   "metadata": {
    "collapsed": false,
    "ExecuteTime": {
     "end_time": "2025-01-06T13:06:05.431277Z",
     "start_time": "2025-01-06T13:01:23.422263Z"
    }
   },
   "id": "1e4ab7ba3f33a8be",
   "execution_count": 83
  },
  {
   "cell_type": "code",
   "outputs": [
    {
     "name": "stdout",
     "output_type": "stream",
     "text": [
      "\n",
      "============================================================\n",
      "Statistical Analysis of Best Model Performance\n",
      "============================================================\n",
      "\n",
      "              Mean  Std Dev  CV (%)  CI Lower  CI Upper\n",
      "accuracy    0.4911   0.0005  0.1062    0.4904    0.4917\n",
      "precision   0.4967   0.0021  0.4297    0.4941    0.4994\n",
      "recall      0.4364   0.0014  0.3177    0.4347    0.4381\n",
      "sensitivity 0.4364   0.0014  0.3177    0.4347    0.4381\n",
      "f1_score    0.4505   0.0013  0.2909    0.4488    0.4521\n",
      "auc         0.6515   0.0006  0.0930    0.6508    0.6523\n",
      "auprc       0.3527   0.0007  0.2044    0.3518    0.3536\n",
      "\n",
      "Detailed Analysis:\n",
      "------------------------------------------------------------\n",
      "\n",
      "📊 ACCURACY\n",
      "   ├ Mean                : 0.4911\n",
      "   ├ Standard Deviation  : 0.0005\n",
      "   ├ CV (%)             : 0.11\n",
      "   └ 95% CI             : (0.4904, 0.4917)\n",
      "\n",
      "📊 PRECISION\n",
      "   ├ Mean                : 0.4967\n",
      "   ├ Standard Deviation  : 0.0021\n",
      "   ├ CV (%)             : 0.43\n",
      "   └ 95% CI             : (0.4941, 0.4994)\n",
      "\n",
      "📊 RECALL\n",
      "   ├ Mean                : 0.4364\n",
      "   ├ Standard Deviation  : 0.0014\n",
      "   ├ CV (%)             : 0.32\n",
      "   └ 95% CI             : (0.4347, 0.4381)\n",
      "\n",
      "📊 SENSITIVITY\n",
      "   ├ Mean                : 0.4364\n",
      "   ├ Standard Deviation  : 0.0014\n",
      "   ├ CV (%)             : 0.32\n",
      "   └ 95% CI             : (0.4347, 0.4381)\n",
      "\n",
      "📊 F1_SCORE\n",
      "   ├ Mean                : 0.4505\n",
      "   ├ Standard Deviation  : 0.0013\n",
      "   ├ CV (%)             : 0.29\n",
      "   └ 95% CI             : (0.4488, 0.4521)\n",
      "\n",
      "📊 AUC\n",
      "   ├ Mean                : 0.6515\n",
      "   ├ Standard Deviation  : 0.0006\n",
      "   ├ CV (%)             : 0.09\n",
      "   └ 95% CI             : (0.6508, 0.6523)\n",
      "\n",
      "📊 AUPRC\n",
      "   ├ Mean                : 0.3527\n",
      "   ├ Standard Deviation  : 0.0007\n",
      "   ├ CV (%)             : 0.20\n",
      "   └ 95% CI             : (0.3518, 0.3536)\n"
     ]
    }
   ],
   "source": [
    "display_model_statistics(best_model_stats)"
   ],
   "metadata": {
    "collapsed": false,
    "ExecuteTime": {
     "end_time": "2025-01-06T13:06:05.477533Z",
     "start_time": "2025-01-06T13:06:05.435681Z"
    }
   },
   "id": "6a77c83bd920a69d",
   "execution_count": 84
  },
  {
   "cell_type": "code",
   "outputs": [],
   "source": [
    "import pandas as pd\n",
    "\n",
    "# Funcție de normalizare min-max fără librării externe\n",
    "def min_max_normalize(df):\n",
    "    df_normalized = df.copy()\n",
    "    \n",
    "    for column in df.columns:\n",
    "        if df[column].dtype in ['int64', 'float64']:  # Verifică dacă este coloană numerică\n",
    "            min_val = df[column].min()\n",
    "            max_val = df[column].max()\n",
    "            if max_val != min_val:  # Evită împărțirea la zero\n",
    "                df_normalized[column] = (df[column] - min_val) / (max_val - min_val)\n",
    "            else:\n",
    "                df_normalized[column] = 0  # Dacă toate valorile sunt egale, normalizăm la 0\n",
    "    \n",
    "    return df_normalized\n",
    "\n",
    "# Aplicare pe DataFrame-ul tău\n",
    "df_normalized = min_max_normalize(df)"
   ],
   "metadata": {
    "collapsed": false,
    "ExecuteTime": {
     "end_time": "2025-01-06T13:36:23.273434Z",
     "start_time": "2025-01-06T13:36:23.083099Z"
    }
   },
   "id": "edc4828ec0dd958",
   "execution_count": 92
  },
  {
   "cell_type": "code",
   "outputs": [
    {
     "data": {
      "text/plain": "         year    make                model         trim       body  \\\n0      1.0000     Kia              Sorento           LX        SUV   \n1      1.0000     Kia              Sorento           LX        SUV   \n2      0.9600     BMW             3 Series   328i SULEV      Sedan   \n3      1.0000   Volvo                  S60           T5      Sedan   \n4      0.9600     BMW  6 Series Gran Coupe         650i      Sedan   \n...       ...     ...                  ...          ...        ...   \n440388 0.8400     BMW             5 Series         528i      Sedan   \n440389 0.8800     Ram                 2500  Power Wagon   Crew Cab   \n440390 0.8800     BMW                   X5    xDrive35d        SUV   \n440391 1.0000  Nissan               Altima        2.5 S      sedan   \n440392 0.9600    Ford                F-150          XLT  SuperCrew   \n\n       transmission                vin state  condition  odometer  ...  \\\n0         automatic  5xyktca69fg566472    ca     0.0833    0.0166  ...   \n1         automatic  5xyktca69fg561319    ca     0.0833    0.0094  ...   \n2         automatic  wba3c1c51ek116351    ca     0.9167    0.0013  ...   \n3         automatic  yv1612tb4f1310987    ca     0.8333    0.0143  ...   \n4         automatic  wba6b2c57ed129731    ca     0.8750    0.0026  ...   \n...             ...                ...   ...        ...       ...  ...   \n440388    automatic  wbafr1c53bc744672    fl     0.7917    0.0664  ...   \n440389    automatic  3c6td5et6cg112407    wa     0.0833    0.0544  ...   \n440390    automatic  5uxzw0c58cl668465    ca     0.9792    0.0506  ...   \n440391    automatic  1n4al3ap0fc216050    ga     0.7708    0.0167  ...   \n440392    automatic  1ftfw1et2eke87277    ca     0.6875    0.0150  ...   \n\n       interior                                             seller    mmr  \\\n0         black                            kia motors america  inc 0.1125   \n1         beige                            kia motors america  inc 0.1142   \n2         black             financial services remarketing (lease) 0.1752   \n3         black                            volvo na rep/world omni 0.1510   \n4         black             financial services remarketing (lease) 0.3625   \n...         ...                                                ...    ...   \n440388    brown           lauderdale imports ltd bmw pembrok pines 0.1114   \n440389    black                                    i -5 uhlmann rv 0.1658   \n440390    black             financial services remarketing (lease) 0.1636   \n440391    black  enterprise vehicle exchange / tra / rental / t... 0.0828   \n440392     gray                   ford motor credit company llc pd 0.1625   \n\n        sellingprice            saledate age_at_sale  price_ratio  \\\n0             0.0935 2014-12-16 12:30:00      0.0000       0.0129   \n1             0.0935 2014-12-16 12:30:00      0.0000       0.0127   \n2             0.1304 2015-01-15 04:30:00      0.0769       0.0116   \n3             0.1206 2015-01-29 04:30:00      0.0385       0.0124   \n4             0.2913 2014-12-18 12:30:00      0.0385       0.0125   \n...              ...                 ...         ...          ...   \n440388        0.0991 2015-07-07 06:15:00      0.1923       0.0138   \n440389        0.1339 2015-07-08 09:30:00      0.1538       0.0125   \n440390        0.1478 2015-07-08 09:30:00      0.1538       0.0140   \n440391        0.0483 2015-07-09 06:45:00      0.0385       0.0090   \n440392        0.1161 2015-05-28 05:30:00      0.0769       0.0111   \n\n        make_encoded  transmission_encoded  body_encoded  \n0                 24                     0            34  \n1                 24                     0            34  \n2                  3                     0            35  \n3                 51                     0            35  \n4                  3                     0            35  \n...              ...                   ...           ...  \n440388             3                     0            35  \n440389            41                     0            11  \n440390             3                     0            34  \n440391            36                     0            75  \n440392            14                     0            37  \n\n[440393 rows x 21 columns]",
      "text/html": "<div>\n<style scoped>\n    .dataframe tbody tr th:only-of-type {\n        vertical-align: middle;\n    }\n\n    .dataframe tbody tr th {\n        vertical-align: top;\n    }\n\n    .dataframe thead th {\n        text-align: right;\n    }\n</style>\n<table border=\"1\" class=\"dataframe\">\n  <thead>\n    <tr style=\"text-align: right;\">\n      <th></th>\n      <th>year</th>\n      <th>make</th>\n      <th>model</th>\n      <th>trim</th>\n      <th>body</th>\n      <th>transmission</th>\n      <th>vin</th>\n      <th>state</th>\n      <th>condition</th>\n      <th>odometer</th>\n      <th>...</th>\n      <th>interior</th>\n      <th>seller</th>\n      <th>mmr</th>\n      <th>sellingprice</th>\n      <th>saledate</th>\n      <th>age_at_sale</th>\n      <th>price_ratio</th>\n      <th>make_encoded</th>\n      <th>transmission_encoded</th>\n      <th>body_encoded</th>\n    </tr>\n  </thead>\n  <tbody>\n    <tr>\n      <th>0</th>\n      <td>1.0000</td>\n      <td>Kia</td>\n      <td>Sorento</td>\n      <td>LX</td>\n      <td>SUV</td>\n      <td>automatic</td>\n      <td>5xyktca69fg566472</td>\n      <td>ca</td>\n      <td>0.0833</td>\n      <td>0.0166</td>\n      <td>...</td>\n      <td>black</td>\n      <td>kia motors america  inc</td>\n      <td>0.1125</td>\n      <td>0.0935</td>\n      <td>2014-12-16 12:30:00</td>\n      <td>0.0000</td>\n      <td>0.0129</td>\n      <td>24</td>\n      <td>0</td>\n      <td>34</td>\n    </tr>\n    <tr>\n      <th>1</th>\n      <td>1.0000</td>\n      <td>Kia</td>\n      <td>Sorento</td>\n      <td>LX</td>\n      <td>SUV</td>\n      <td>automatic</td>\n      <td>5xyktca69fg561319</td>\n      <td>ca</td>\n      <td>0.0833</td>\n      <td>0.0094</td>\n      <td>...</td>\n      <td>beige</td>\n      <td>kia motors america  inc</td>\n      <td>0.1142</td>\n      <td>0.0935</td>\n      <td>2014-12-16 12:30:00</td>\n      <td>0.0000</td>\n      <td>0.0127</td>\n      <td>24</td>\n      <td>0</td>\n      <td>34</td>\n    </tr>\n    <tr>\n      <th>2</th>\n      <td>0.9600</td>\n      <td>BMW</td>\n      <td>3 Series</td>\n      <td>328i SULEV</td>\n      <td>Sedan</td>\n      <td>automatic</td>\n      <td>wba3c1c51ek116351</td>\n      <td>ca</td>\n      <td>0.9167</td>\n      <td>0.0013</td>\n      <td>...</td>\n      <td>black</td>\n      <td>financial services remarketing (lease)</td>\n      <td>0.1752</td>\n      <td>0.1304</td>\n      <td>2015-01-15 04:30:00</td>\n      <td>0.0769</td>\n      <td>0.0116</td>\n      <td>3</td>\n      <td>0</td>\n      <td>35</td>\n    </tr>\n    <tr>\n      <th>3</th>\n      <td>1.0000</td>\n      <td>Volvo</td>\n      <td>S60</td>\n      <td>T5</td>\n      <td>Sedan</td>\n      <td>automatic</td>\n      <td>yv1612tb4f1310987</td>\n      <td>ca</td>\n      <td>0.8333</td>\n      <td>0.0143</td>\n      <td>...</td>\n      <td>black</td>\n      <td>volvo na rep/world omni</td>\n      <td>0.1510</td>\n      <td>0.1206</td>\n      <td>2015-01-29 04:30:00</td>\n      <td>0.0385</td>\n      <td>0.0124</td>\n      <td>51</td>\n      <td>0</td>\n      <td>35</td>\n    </tr>\n    <tr>\n      <th>4</th>\n      <td>0.9600</td>\n      <td>BMW</td>\n      <td>6 Series Gran Coupe</td>\n      <td>650i</td>\n      <td>Sedan</td>\n      <td>automatic</td>\n      <td>wba6b2c57ed129731</td>\n      <td>ca</td>\n      <td>0.8750</td>\n      <td>0.0026</td>\n      <td>...</td>\n      <td>black</td>\n      <td>financial services remarketing (lease)</td>\n      <td>0.3625</td>\n      <td>0.2913</td>\n      <td>2014-12-18 12:30:00</td>\n      <td>0.0385</td>\n      <td>0.0125</td>\n      <td>3</td>\n      <td>0</td>\n      <td>35</td>\n    </tr>\n    <tr>\n      <th>...</th>\n      <td>...</td>\n      <td>...</td>\n      <td>...</td>\n      <td>...</td>\n      <td>...</td>\n      <td>...</td>\n      <td>...</td>\n      <td>...</td>\n      <td>...</td>\n      <td>...</td>\n      <td>...</td>\n      <td>...</td>\n      <td>...</td>\n      <td>...</td>\n      <td>...</td>\n      <td>...</td>\n      <td>...</td>\n      <td>...</td>\n      <td>...</td>\n      <td>...</td>\n      <td>...</td>\n    </tr>\n    <tr>\n      <th>440388</th>\n      <td>0.8400</td>\n      <td>BMW</td>\n      <td>5 Series</td>\n      <td>528i</td>\n      <td>Sedan</td>\n      <td>automatic</td>\n      <td>wbafr1c53bc744672</td>\n      <td>fl</td>\n      <td>0.7917</td>\n      <td>0.0664</td>\n      <td>...</td>\n      <td>brown</td>\n      <td>lauderdale imports ltd bmw pembrok pines</td>\n      <td>0.1114</td>\n      <td>0.0991</td>\n      <td>2015-07-07 06:15:00</td>\n      <td>0.1923</td>\n      <td>0.0138</td>\n      <td>3</td>\n      <td>0</td>\n      <td>35</td>\n    </tr>\n    <tr>\n      <th>440389</th>\n      <td>0.8800</td>\n      <td>Ram</td>\n      <td>2500</td>\n      <td>Power Wagon</td>\n      <td>Crew Cab</td>\n      <td>automatic</td>\n      <td>3c6td5et6cg112407</td>\n      <td>wa</td>\n      <td>0.0833</td>\n      <td>0.0544</td>\n      <td>...</td>\n      <td>black</td>\n      <td>i -5 uhlmann rv</td>\n      <td>0.1658</td>\n      <td>0.1339</td>\n      <td>2015-07-08 09:30:00</td>\n      <td>0.1538</td>\n      <td>0.0125</td>\n      <td>41</td>\n      <td>0</td>\n      <td>11</td>\n    </tr>\n    <tr>\n      <th>440390</th>\n      <td>0.8800</td>\n      <td>BMW</td>\n      <td>X5</td>\n      <td>xDrive35d</td>\n      <td>SUV</td>\n      <td>automatic</td>\n      <td>5uxzw0c58cl668465</td>\n      <td>ca</td>\n      <td>0.9792</td>\n      <td>0.0506</td>\n      <td>...</td>\n      <td>black</td>\n      <td>financial services remarketing (lease)</td>\n      <td>0.1636</td>\n      <td>0.1478</td>\n      <td>2015-07-08 09:30:00</td>\n      <td>0.1538</td>\n      <td>0.0140</td>\n      <td>3</td>\n      <td>0</td>\n      <td>34</td>\n    </tr>\n    <tr>\n      <th>440391</th>\n      <td>1.0000</td>\n      <td>Nissan</td>\n      <td>Altima</td>\n      <td>2.5 S</td>\n      <td>sedan</td>\n      <td>automatic</td>\n      <td>1n4al3ap0fc216050</td>\n      <td>ga</td>\n      <td>0.7708</td>\n      <td>0.0167</td>\n      <td>...</td>\n      <td>black</td>\n      <td>enterprise vehicle exchange / tra / rental / t...</td>\n      <td>0.0828</td>\n      <td>0.0483</td>\n      <td>2015-07-09 06:45:00</td>\n      <td>0.0385</td>\n      <td>0.0090</td>\n      <td>36</td>\n      <td>0</td>\n      <td>75</td>\n    </tr>\n    <tr>\n      <th>440392</th>\n      <td>0.9600</td>\n      <td>Ford</td>\n      <td>F-150</td>\n      <td>XLT</td>\n      <td>SuperCrew</td>\n      <td>automatic</td>\n      <td>1ftfw1et2eke87277</td>\n      <td>ca</td>\n      <td>0.6875</td>\n      <td>0.0150</td>\n      <td>...</td>\n      <td>gray</td>\n      <td>ford motor credit company llc pd</td>\n      <td>0.1625</td>\n      <td>0.1161</td>\n      <td>2015-05-28 05:30:00</td>\n      <td>0.0769</td>\n      <td>0.0111</td>\n      <td>14</td>\n      <td>0</td>\n      <td>37</td>\n    </tr>\n  </tbody>\n</table>\n<p>440393 rows × 21 columns</p>\n</div>"
     },
     "execution_count": 93,
     "metadata": {},
     "output_type": "execute_result"
    }
   ],
   "source": [
    "df_normalized"
   ],
   "metadata": {
    "collapsed": false,
    "ExecuteTime": {
     "end_time": "2025-01-06T13:36:41.104990Z",
     "start_time": "2025-01-06T13:36:40.784466Z"
    }
   },
   "id": "93d9c3fbd3140b21",
   "execution_count": 93
  },
  {
   "cell_type": "code",
   "outputs": [
    {
     "name": "stdout",
     "output_type": "stream",
     "text": [
      "<class 'pandas.core.frame.DataFrame'>\n",
      "RangeIndex: 440393 entries, 0 to 440392\n",
      "Data columns (total 21 columns):\n",
      " #   Column                Non-Null Count   Dtype         \n",
      "---  ------                --------------   -----         \n",
      " 0   year                  440393 non-null  float64       \n",
      " 1   make                  440393 non-null  object        \n",
      " 2   model                 440393 non-null  object        \n",
      " 3   trim                  440393 non-null  object        \n",
      " 4   body                  440393 non-null  object        \n",
      " 5   transmission          440393 non-null  object        \n",
      " 6   vin                   440393 non-null  object        \n",
      " 7   state                 440393 non-null  object        \n",
      " 8   condition             440393 non-null  float64       \n",
      " 9   odometer              440393 non-null  float64       \n",
      " 10  color                 440393 non-null  object        \n",
      " 11  interior              440393 non-null  object        \n",
      " 12  seller                440393 non-null  object        \n",
      " 13  mmr                   440393 non-null  float64       \n",
      " 14  sellingprice          440393 non-null  float64       \n",
      " 15  saledate              440393 non-null  datetime64[ns]\n",
      " 16  age_at_sale           440393 non-null  float64       \n",
      " 17  price_ratio           440393 non-null  float64       \n",
      " 18  make_encoded          440393 non-null  int8          \n",
      " 19  transmission_encoded  440393 non-null  int8          \n",
      " 20  body_encoded          440393 non-null  int8          \n",
      "dtypes: datetime64[ns](1), float64(7), int8(3), object(10)\n",
      "memory usage: 61.7+ MB\n"
     ]
    }
   ],
   "source": [
    "df_normalized.info()"
   ],
   "metadata": {
    "collapsed": false,
    "ExecuteTime": {
     "end_time": "2025-01-06T13:38:38.861512Z",
     "start_time": "2025-01-06T13:38:38.628659Z"
    }
   },
   "id": "bfc168863891a947",
   "execution_count": 94
  },
  {
   "cell_type": "code",
   "outputs": [
    {
     "name": "stderr",
     "output_type": "stream",
     "text": [
      "IOPub data rate exceeded.\n",
      "The Jupyter server will temporarily stop sending output\n",
      "to the client in order to avoid crashing it.\n",
      "To change this limit, set the config variable\n",
      "`--ServerApp.iopub_data_rate_limit`.\n",
      "\n",
      "Current values:\n",
      "ServerApp.iopub_data_rate_limit=1000000.0 (bytes/sec)\n",
      "ServerApp.rate_limit_window=3.0 (secs)\n",
      "\n"
     ]
    }
   ],
   "source": [
    "import pandas as pd\n",
    "\n",
    "def manual_label_encoding(df):\n",
    "    df_encoded = df_normalized.copy()\n",
    "    encoding_maps = {} \n",
    "\n",
    "    for column in df_normalized.columns:\n",
    "        if df_normalized[column].dtype == 'object':  # Verificăm dacă e coloană categorială\n",
    "            unique_values = sorted(df_normalized[column].unique())  # Sortăm pentru consistență\n",
    "            encoding_map = {val: idx for idx, val in enumerate(unique_values)}  # Mapare valori -> numere\n",
    "            df_encoded[column] = df_normalized[column].map(encoding_map)  # Aplicăm encoding-ul\n",
    "            encoding_maps[column] = encoding_map  # Salvăm maparea pentru referință\n",
    "\n",
    "    return df_encoded, encoding_maps\n",
    "\n",
    "# Aplicare pe DataFrame\n",
    "df_encoded, encoding_maps = manual_label_encoding(df_normalized)\n",
    "\n",
    "# Afișare mapare pentru referință\n",
    "for col, mapping in encoding_maps.items():\n",
    "    print(f\"Encodare pentru {col}: {mapping}\\n\")"
   ],
   "metadata": {
    "collapsed": false,
    "ExecuteTime": {
     "end_time": "2025-01-06T13:56:25.174776Z",
     "start_time": "2025-01-06T13:56:23.997951Z"
    }
   },
   "id": "754edb32869645c2",
   "execution_count": 101
  },
  {
   "cell_type": "code",
   "outputs": [
    {
     "data": {
      "text/plain": "         year  make  model  trim  body  transmission     vin  state  \\\n0      1.0000    24    634   817    34             0  319370      2   \n1      1.0000    24    634   817    34             0  319364      2   \n2      0.9600     3      8   252    35             0  402432      2   \n3      1.0000    51    572  1208    35             0  431530      2   \n4      0.9600     3     33   334    35             0  403149      2   \n...       ...   ...    ...   ...   ...           ...     ...    ...   \n440388 0.8400     3     25   315    35             0  405208      4   \n440389 0.8800    41      6   925    11             0  229759     32   \n440390 0.8800     3    719  1485    34             0  314801      2   \n440391 1.0000    36     63   102    75             0  152045      5   \n440392 0.9600    14    255  1390    37             0   63916      2   \n\n        condition  odometer  ...  interior  seller    mmr  sellingprice  \\\n0          0.0833    0.0166  ...         1    5864 0.1125        0.0935   \n1          0.0833    0.0094  ...         0    5864 0.1142        0.0935   \n2          0.9167    0.0013  ...         1    4031 0.1752        0.1304   \n3          0.8333    0.0143  ...         1   11335 0.1510        0.1206   \n4          0.8750    0.0026  ...         1    4031 0.3625        0.2913   \n...           ...       ...  ...       ...     ...    ...           ...   \n440388     0.7917    0.0664  ...         3    6135 0.1114        0.0991   \n440389     0.0833    0.0544  ...         1    5271 0.1658        0.1339   \n440390     0.9792    0.0506  ...         1    4031 0.1636        0.1478   \n440391     0.7708    0.0167  ...         1    3730 0.0828        0.0483   \n440392     0.6875    0.0150  ...         6    4288 0.1625        0.1161   \n\n                  saledate age_at_sale  price_ratio  make_encoded  \\\n0      2014-12-16 12:30:00      0.0000       0.0129            24   \n1      2014-12-16 12:30:00      0.0000       0.0127            24   \n2      2015-01-15 04:30:00      0.0769       0.0116             3   \n3      2015-01-29 04:30:00      0.0385       0.0124            51   \n4      2014-12-18 12:30:00      0.0385       0.0125             3   \n...                    ...         ...          ...           ...   \n440388 2015-07-07 06:15:00      0.1923       0.0138             3   \n440389 2015-07-08 09:30:00      0.1538       0.0125            41   \n440390 2015-07-08 09:30:00      0.1538       0.0140             3   \n440391 2015-07-09 06:45:00      0.0385       0.0090            36   \n440392 2015-05-28 05:30:00      0.0769       0.0111            14   \n\n        transmission_encoded  body_encoded  \n0                          0            34  \n1                          0            34  \n2                          0            35  \n3                          0            35  \n4                          0            35  \n...                      ...           ...  \n440388                     0            35  \n440389                     0            11  \n440390                     0            34  \n440391                     0            75  \n440392                     0            37  \n\n[440393 rows x 21 columns]",
      "text/html": "<div>\n<style scoped>\n    .dataframe tbody tr th:only-of-type {\n        vertical-align: middle;\n    }\n\n    .dataframe tbody tr th {\n        vertical-align: top;\n    }\n\n    .dataframe thead th {\n        text-align: right;\n    }\n</style>\n<table border=\"1\" class=\"dataframe\">\n  <thead>\n    <tr style=\"text-align: right;\">\n      <th></th>\n      <th>year</th>\n      <th>make</th>\n      <th>model</th>\n      <th>trim</th>\n      <th>body</th>\n      <th>transmission</th>\n      <th>vin</th>\n      <th>state</th>\n      <th>condition</th>\n      <th>odometer</th>\n      <th>...</th>\n      <th>interior</th>\n      <th>seller</th>\n      <th>mmr</th>\n      <th>sellingprice</th>\n      <th>saledate</th>\n      <th>age_at_sale</th>\n      <th>price_ratio</th>\n      <th>make_encoded</th>\n      <th>transmission_encoded</th>\n      <th>body_encoded</th>\n    </tr>\n  </thead>\n  <tbody>\n    <tr>\n      <th>0</th>\n      <td>1.0000</td>\n      <td>24</td>\n      <td>634</td>\n      <td>817</td>\n      <td>34</td>\n      <td>0</td>\n      <td>319370</td>\n      <td>2</td>\n      <td>0.0833</td>\n      <td>0.0166</td>\n      <td>...</td>\n      <td>1</td>\n      <td>5864</td>\n      <td>0.1125</td>\n      <td>0.0935</td>\n      <td>2014-12-16 12:30:00</td>\n      <td>0.0000</td>\n      <td>0.0129</td>\n      <td>24</td>\n      <td>0</td>\n      <td>34</td>\n    </tr>\n    <tr>\n      <th>1</th>\n      <td>1.0000</td>\n      <td>24</td>\n      <td>634</td>\n      <td>817</td>\n      <td>34</td>\n      <td>0</td>\n      <td>319364</td>\n      <td>2</td>\n      <td>0.0833</td>\n      <td>0.0094</td>\n      <td>...</td>\n      <td>0</td>\n      <td>5864</td>\n      <td>0.1142</td>\n      <td>0.0935</td>\n      <td>2014-12-16 12:30:00</td>\n      <td>0.0000</td>\n      <td>0.0127</td>\n      <td>24</td>\n      <td>0</td>\n      <td>34</td>\n    </tr>\n    <tr>\n      <th>2</th>\n      <td>0.9600</td>\n      <td>3</td>\n      <td>8</td>\n      <td>252</td>\n      <td>35</td>\n      <td>0</td>\n      <td>402432</td>\n      <td>2</td>\n      <td>0.9167</td>\n      <td>0.0013</td>\n      <td>...</td>\n      <td>1</td>\n      <td>4031</td>\n      <td>0.1752</td>\n      <td>0.1304</td>\n      <td>2015-01-15 04:30:00</td>\n      <td>0.0769</td>\n      <td>0.0116</td>\n      <td>3</td>\n      <td>0</td>\n      <td>35</td>\n    </tr>\n    <tr>\n      <th>3</th>\n      <td>1.0000</td>\n      <td>51</td>\n      <td>572</td>\n      <td>1208</td>\n      <td>35</td>\n      <td>0</td>\n      <td>431530</td>\n      <td>2</td>\n      <td>0.8333</td>\n      <td>0.0143</td>\n      <td>...</td>\n      <td>1</td>\n      <td>11335</td>\n      <td>0.1510</td>\n      <td>0.1206</td>\n      <td>2015-01-29 04:30:00</td>\n      <td>0.0385</td>\n      <td>0.0124</td>\n      <td>51</td>\n      <td>0</td>\n      <td>35</td>\n    </tr>\n    <tr>\n      <th>4</th>\n      <td>0.9600</td>\n      <td>3</td>\n      <td>33</td>\n      <td>334</td>\n      <td>35</td>\n      <td>0</td>\n      <td>403149</td>\n      <td>2</td>\n      <td>0.8750</td>\n      <td>0.0026</td>\n      <td>...</td>\n      <td>1</td>\n      <td>4031</td>\n      <td>0.3625</td>\n      <td>0.2913</td>\n      <td>2014-12-18 12:30:00</td>\n      <td>0.0385</td>\n      <td>0.0125</td>\n      <td>3</td>\n      <td>0</td>\n      <td>35</td>\n    </tr>\n    <tr>\n      <th>...</th>\n      <td>...</td>\n      <td>...</td>\n      <td>...</td>\n      <td>...</td>\n      <td>...</td>\n      <td>...</td>\n      <td>...</td>\n      <td>...</td>\n      <td>...</td>\n      <td>...</td>\n      <td>...</td>\n      <td>...</td>\n      <td>...</td>\n      <td>...</td>\n      <td>...</td>\n      <td>...</td>\n      <td>...</td>\n      <td>...</td>\n      <td>...</td>\n      <td>...</td>\n      <td>...</td>\n    </tr>\n    <tr>\n      <th>440388</th>\n      <td>0.8400</td>\n      <td>3</td>\n      <td>25</td>\n      <td>315</td>\n      <td>35</td>\n      <td>0</td>\n      <td>405208</td>\n      <td>4</td>\n      <td>0.7917</td>\n      <td>0.0664</td>\n      <td>...</td>\n      <td>3</td>\n      <td>6135</td>\n      <td>0.1114</td>\n      <td>0.0991</td>\n      <td>2015-07-07 06:15:00</td>\n      <td>0.1923</td>\n      <td>0.0138</td>\n      <td>3</td>\n      <td>0</td>\n      <td>35</td>\n    </tr>\n    <tr>\n      <th>440389</th>\n      <td>0.8800</td>\n      <td>41</td>\n      <td>6</td>\n      <td>925</td>\n      <td>11</td>\n      <td>0</td>\n      <td>229759</td>\n      <td>32</td>\n      <td>0.0833</td>\n      <td>0.0544</td>\n      <td>...</td>\n      <td>1</td>\n      <td>5271</td>\n      <td>0.1658</td>\n      <td>0.1339</td>\n      <td>2015-07-08 09:30:00</td>\n      <td>0.1538</td>\n      <td>0.0125</td>\n      <td>41</td>\n      <td>0</td>\n      <td>11</td>\n    </tr>\n    <tr>\n      <th>440390</th>\n      <td>0.8800</td>\n      <td>3</td>\n      <td>719</td>\n      <td>1485</td>\n      <td>34</td>\n      <td>0</td>\n      <td>314801</td>\n      <td>2</td>\n      <td>0.9792</td>\n      <td>0.0506</td>\n      <td>...</td>\n      <td>1</td>\n      <td>4031</td>\n      <td>0.1636</td>\n      <td>0.1478</td>\n      <td>2015-07-08 09:30:00</td>\n      <td>0.1538</td>\n      <td>0.0140</td>\n      <td>3</td>\n      <td>0</td>\n      <td>34</td>\n    </tr>\n    <tr>\n      <th>440391</th>\n      <td>1.0000</td>\n      <td>36</td>\n      <td>63</td>\n      <td>102</td>\n      <td>75</td>\n      <td>0</td>\n      <td>152045</td>\n      <td>5</td>\n      <td>0.7708</td>\n      <td>0.0167</td>\n      <td>...</td>\n      <td>1</td>\n      <td>3730</td>\n      <td>0.0828</td>\n      <td>0.0483</td>\n      <td>2015-07-09 06:45:00</td>\n      <td>0.0385</td>\n      <td>0.0090</td>\n      <td>36</td>\n      <td>0</td>\n      <td>75</td>\n    </tr>\n    <tr>\n      <th>440392</th>\n      <td>0.9600</td>\n      <td>14</td>\n      <td>255</td>\n      <td>1390</td>\n      <td>37</td>\n      <td>0</td>\n      <td>63916</td>\n      <td>2</td>\n      <td>0.6875</td>\n      <td>0.0150</td>\n      <td>...</td>\n      <td>6</td>\n      <td>4288</td>\n      <td>0.1625</td>\n      <td>0.1161</td>\n      <td>2015-05-28 05:30:00</td>\n      <td>0.0769</td>\n      <td>0.0111</td>\n      <td>14</td>\n      <td>0</td>\n      <td>37</td>\n    </tr>\n  </tbody>\n</table>\n<p>440393 rows × 21 columns</p>\n</div>"
     },
     "execution_count": 102,
     "metadata": {},
     "output_type": "execute_result"
    }
   ],
   "source": [
    "df_encoded"
   ],
   "metadata": {
    "collapsed": false,
    "ExecuteTime": {
     "end_time": "2025-01-06T13:56:29.293304Z",
     "start_time": "2025-01-06T13:56:28.704384Z"
    }
   },
   "id": "b830dbe8b7a7c9b0",
   "execution_count": 102
  },
  {
   "cell_type": "code",
   "outputs": [],
   "source": [
    "# Create feature matrix\n",
    "X = df_encoded[['odometer', 'price_ratio', 'make_encoded', 'age_at_sale', 'transmission_encoded', 'body_encoded']].values    "
   ],
   "metadata": {
    "collapsed": false,
    "ExecuteTime": {
     "end_time": "2025-01-06T13:56:44.247654Z",
     "start_time": "2025-01-06T13:56:44.231058Z"
    }
   },
   "id": "4dfc60b4661dc664",
   "execution_count": 103
  },
  {
   "cell_type": "code",
   "outputs": [
    {
     "data": {
      "text/plain": "<Figure size 1200x800 with 6 Axes>",
      "image/png": "[encoded data removed]"
     },
     "metadata": {},
     "output_type": "display_data"
    }
   ],
   "source": [
    "import matplotlib.pyplot as plt\n",
    "\n",
    "# Define the feature names\n",
    "feature_names = ['odometer', 'price_ratio', 'make_encoded', 'age_at_sale', 'transmission_encoded', 'body_encoded']\n",
    "\n",
    "# Convert to a DataFrame with column names\n",
    "X_df = pd.DataFrame(X, columns=feature_names)\n",
    "\n",
    "# Plot histograms with feature names\n",
    "X_df.hist(figsize=(12, 8), bins=10)\n",
    "plt.show()"
   ],
   "metadata": {
    "collapsed": false,
    "ExecuteTime": {
     "end_time": "2025-01-06T13:56:47.056410Z",
     "start_time": "2025-01-06T13:56:46.797692Z"
    }
   },
   "id": "4c3ab0e7ce4a690f",
   "execution_count": 104
  },
  {
   "cell_type": "code",
   "outputs": [],
   "source": [
    "# Split data (70-30 split)\n",
    "np.random.seed(42)\n",
    "indices = np.random.permutation(len(X))\n",
    "split = int(0.7 * len(X))\n",
    "train_idx, test_idx = indices[:split], indices[split:]\n",
    "    \n",
    "X_train, X_test = X[train_idx], X[test_idx]\n",
    "y_train, y_test = y[train_idx], y[test_idx]"
   ],
   "metadata": {
    "collapsed": false,
    "ExecuteTime": {
     "end_time": "2025-01-06T14:24:27.235274Z",
     "start_time": "2025-01-06T14:24:27.121527Z"
    }
   },
   "id": "442f1dacc411c13d",
   "execution_count": 130
  },
  {
   "cell_type": "code",
   "outputs": [],
   "source": [
    "clf = DecisionTreeClassifier(max_depth=10, min_samples=2, max_thresholds=30)"
   ],
   "metadata": {
    "collapsed": false,
    "ExecuteTime": {
     "end_time": "2025-01-06T14:07:49.104981Z",
     "start_time": "2025-01-06T14:07:49.100755Z"
    }
   },
   "id": "cab8aceeb2e0112c",
   "execution_count": 110
  },
  {
   "cell_type": "code",
   "outputs": [
    {
     "data": {
      "text/plain": "<__main__.DecisionTreeClassifier at 0x3054ff090>"
     },
     "execution_count": 114,
     "metadata": {},
     "output_type": "execute_result"
    }
   ],
   "source": [
    "clf.fit(X_train, y_train)"
   ],
   "metadata": {
    "collapsed": false,
    "ExecuteTime": {
     "end_time": "2025-01-06T14:10:52.445472Z",
     "start_time": "2025-01-06T14:10:30.415390Z"
    }
   },
   "id": "e0a2ded610d64dea",
   "execution_count": 114
  },
  {
   "cell_type": "code",
   "outputs": [
    {
     "name": "stdout",
     "output_type": "stream",
     "text": [
      "\n",
      "Final Test Set Metrics:\n",
      "accuracy: 0.1275\n",
      "precision: 0.0774\n",
      "recall: 0.1997\n",
      "sensitivity: 0.1997\n",
      "f1_score: 0.0494\n",
      "auc: 0.4992\n",
      "auprc: 0.1998\n"
     ]
    }
   ],
   "source": [
    "# Make predictions\n",
    "y_pred = best_model.predict(X_test)\n",
    "\n",
    "# Calculate and print final metrics\n",
    "final_metrics = evaluate_metrics(y_test, y_pred)\n",
    "print(\"\\nFinal Test Set Metrics:\")\n",
    "for metric, value in final_metrics.items():\n",
    "    print(f\"{metric}: {value:.4f}\")"
   ],
   "metadata": {
    "collapsed": false,
    "ExecuteTime": {
     "end_time": "2025-01-06T14:12:09.388815Z",
     "start_time": "2025-01-06T14:10:52.447900Z"
    }
   },
   "id": "f181c2033605e323",
   "execution_count": 115
  },
  {
   "cell_type": "code",
   "outputs": [],
   "source": [
    "# Pt X nenormalizat:\n",
    "clf = DecisionTreeClassifier(max_depth=10, min_samples=2, max_thresholds=30)"
   ],
   "metadata": {
    "collapsed": false,
    "ExecuteTime": {
     "end_time": "2025-01-06T14:25:09.800295Z",
     "start_time": "2025-01-06T14:25:09.781229Z"
    }
   },
   "id": "d8a09e134576ed7b",
   "execution_count": 132
  },
  {
   "cell_type": "code",
   "outputs": [
    {
     "name": "stdout",
     "output_type": "stream",
     "text": [
      "\n",
      "Final Test Set Metrics:\n",
      "accuracy: 0.4887\n",
      "precision: 0.4935\n",
      "recall: 0.4300\n",
      "sensitivity: 0.4300\n",
      "f1_score: 0.4446\n",
      "auc: 0.6454\n",
      "auprc: 0.3490\n"
     ]
    }
   ],
   "source": [
    "clf.fit(X_train, y_train)\n",
    "\n",
    "# Make predictions\n",
    "y_pred = best_model.predict(X_test)\n",
    "\n",
    "# Calculate and print final metrics\n",
    "final_metrics = evaluate_metrics(y_test, y_pred)\n",
    "print(\"\\nFinal Test Set Metrics:\")\n",
    "for metric, value in final_metrics.items():\n",
    "    print(f\"{metric}: {value:.4f}\")"
   ],
   "metadata": {
    "collapsed": false,
    "ExecuteTime": {
     "end_time": "2025-01-06T14:26:59.361730Z",
     "start_time": "2025-01-06T14:25:25.200877Z"
    }
   },
   "id": "15eb0ccd4139d2a4",
   "execution_count": 133
  },
  {
   "cell_type": "code",
   "outputs": [
    {
     "data": {
      "text/plain": "<Figure size 2000x1500 with 5 Axes>",
      "image/png": "[encoded data removed]"
     },
     "metadata": {},
     "output_type": "display_data"
    },
    {
     "data": {
      "text/plain": "<Figure size 1500x600 with 2 Axes>",
      "image/png": "[encoded data removed]"
     },
     "metadata": {},
     "output_type": "display_data"
    }
   ],
   "source": [
    "import matplotlib.pyplot as plt\n",
    "import numpy as np\n",
    "from sklearn.metrics import confusion_matrix\n",
    "\n",
    "def plot_results(y_test, y_pred, metrics):\n",
    "    \"\"\"\n",
    "    Create comprehensive visualizations for the classification results\n",
    "    \"\"\"\n",
    "    # Create a figure with subplots\n",
    "    fig = plt.figure(figsize=(20, 15))\n",
    "    \n",
    "    # 1. Confusion Matrix\n",
    "    plt.subplot(2, 2, 1)\n",
    "    cm = confusion_matrix(y_test, y_pred)\n",
    "    plt.imshow(cm, interpolation='nearest', cmap='Blues')\n",
    "    plt.colorbar()\n",
    "    # Add text annotations\n",
    "    for i in range(cm.shape[0]):\n",
    "        for j in range(cm.shape[1]):\n",
    "            plt.text(j, i, str(cm[i, j]),\n",
    "                    ha=\"center\", va=\"center\")\n",
    "    plt.title('Confusion Matrix')\n",
    "    plt.xlabel('Predicted')\n",
    "    plt.ylabel('True')\n",
    "    \n",
    "    # 2. Performance Metrics Bar Plot\n",
    "    plt.subplot(2, 2, 2)\n",
    "    metric_names = ['Accuracy', 'Precision', 'Recall', 'F-measure', 'AUC', 'AUPRC']\n",
    "    metric_values = [metrics['accuracy'], metrics['precision'], \n",
    "                    metrics['recall'], metrics['f1_score'], \n",
    "                    metrics['auc'], metrics['auprc']]\n",
    "    \n",
    "    bars = plt.bar(metric_names, metric_values)\n",
    "    plt.title('Performance Metrics')\n",
    "    plt.ylabel('Score')\n",
    "    plt.ylim(0, 1)\n",
    "    # Add value labels on top of bars\n",
    "    for bar in bars:\n",
    "        height = bar.get_height()\n",
    "        plt.text(bar.get_x() + bar.get_width()/2., height,\n",
    "                f'{height:.3f}',\n",
    "                ha='center', va='bottom')\n",
    "    plt.xticks(rotation=45)\n",
    "    \n",
    "    # 3. Class Distribution\n",
    "    plt.subplot(2, 2, 3)\n",
    "    class_counts = [np.sum(y_test == i) for i in range(1, 6)]\n",
    "    class_names = ['Poor', 'Fair', 'Good', 'Very Good', 'Excellent']\n",
    "    bars = plt.bar(class_names, class_counts)\n",
    "    plt.title('Class Distribution in Test Set')\n",
    "    plt.ylabel('Number of Samples')\n",
    "    # Add value labels on top of bars\n",
    "    for bar in bars:\n",
    "        height = bar.get_height()\n",
    "        plt.text(bar.get_x() + bar.get_width()/2., height,\n",
    "                f'{int(height)}',\n",
    "                ha='center', va='bottom')\n",
    "    plt.xticks(rotation=45)\n",
    "    \n",
    "    # 4. Per-Class Performance\n",
    "    plt.subplot(2, 2, 4)\n",
    "    per_class_accuracy = []\n",
    "    for i in range(1, 6):\n",
    "        mask = y_test == i\n",
    "        acc = np.mean(y_pred[mask] == y_test[mask])\n",
    "        per_class_accuracy.append(acc)\n",
    "    \n",
    "    bars = plt.bar(class_names, per_class_accuracy)\n",
    "    plt.title('Per-Class Accuracy')\n",
    "    plt.ylabel('Accuracy')\n",
    "    plt.ylim(0, 1)\n",
    "    # Add value labels on top of bars\n",
    "    for bar in bars:\n",
    "        height = bar.get_height()\n",
    "        plt.text(bar.get_x() + bar.get_width()/2., height,\n",
    "                f'{height:.3f}',\n",
    "                ha='center', va='bottom')\n",
    "    plt.xticks(rotation=45)\n",
    "    \n",
    "    # Adjust layout and display\n",
    "    plt.tight_layout()\n",
    "    plt.show()\n",
    "\n",
    "    # Create ROC and PR curves (new figure)\n",
    "    plt.figure(figsize=(15, 6))\n",
    "    \n",
    "    # 5. ROC Curves\n",
    "    plt.subplot(1, 2, 1)\n",
    "    for i in range(1, 6):\n",
    "        y_true_binary = (y_test == i).astype(int)\n",
    "        y_pred_binary = (y_pred == i).astype(float)\n",
    "        \n",
    "        # Calculate TPR and FPR\n",
    "        sorted_indices = np.argsort(y_pred_binary)[::-1]\n",
    "        y_true_sorted = y_true_binary[sorted_indices]\n",
    "        \n",
    "        tpr = np.zeros(len(y_true_binary) + 1)\n",
    "        fpr = np.zeros(len(y_true_binary) + 1)\n",
    "        \n",
    "        for j in range(len(y_true_binary)):\n",
    "            tpr[j+1] = np.sum(y_true_sorted[:j+1]) / np.sum(y_true_binary)\n",
    "            fpr[j+1] = np.sum(~y_true_sorted[:j+1].astype(bool)) / np.sum(~y_true_binary.astype(bool))\n",
    "        \n",
    "        plt.plot(fpr, tpr, label=f'Class {i}')\n",
    "    \n",
    "    plt.plot([0, 1], [0, 1], 'k--')\n",
    "    plt.title('ROC Curves per Class')\n",
    "    plt.xlabel('False Positive Rate')\n",
    "    plt.ylabel('True Positive Rate')\n",
    "    plt.legend()\n",
    "    \n",
    "    # 6. Precision-Recall Curves\n",
    "    plt.subplot(1, 2, 2)\n",
    "    for i in range(1, 6):\n",
    "        y_true_binary = (y_test == i).astype(int)\n",
    "        y_pred_binary = (y_pred == i).astype(float)\n",
    "        \n",
    "        # Sort by prediction scores\n",
    "        sorted_indices = np.argsort(y_pred_binary)[::-1]\n",
    "        y_true_sorted = y_true_binary[sorted_indices]\n",
    "        \n",
    "        precision_curve = []\n",
    "        recall_curve = []\n",
    "        \n",
    "        for j in range(len(y_true_binary)):\n",
    "            tp = np.sum(y_true_sorted[:j+1])\n",
    "            fp = j + 1 - tp\n",
    "            fn = np.sum(y_true_sorted[j+1:])\n",
    "            \n",
    "            precision = tp / (tp + fp) if (tp + fp) > 0 else 1\n",
    "            recall = tp / (tp + fn) if (tp + fn) > 0 else 0\n",
    "            \n",
    "            precision_curve.append(precision)\n",
    "            recall_curve.append(recall)\n",
    "        \n",
    "        plt.plot(recall_curve, precision_curve, label=f'Class {i}')\n",
    "    \n",
    "    plt.title('Precision-Recall Curves per Class')\n",
    "    plt.xlabel('Recall')\n",
    "    plt.ylabel('Precision')\n",
    "    plt.legend()\n",
    "    \n",
    "    plt.tight_layout()\n",
    "    plt.show()\n",
    "\n",
    "# After your model evaluation, use:\n",
    "plot_results(y_test, y_pred, metrics)"
   ],
   "metadata": {
    "collapsed": false,
    "ExecuteTime": {
     "end_time": "2025-01-06T14:37:15.094021Z",
     "start_time": "2025-01-06T14:35:59.613925Z"
    }
   },
   "id": "6fc74b8b78c52436",
   "execution_count": 140
  },
  {
   "cell_type": "code",
   "outputs": [
    {
     "name": "stderr",
     "output_type": "stream",
     "text": [
      "ExactExplainer explainer: 132119it [07:46, 279.12it/s]                            \n"
     ]
    },
    {
     "name": "stdout",
     "output_type": "stream",
     "text": [
      "\n",
      "Importanța procentuală a caracteristicilor bazată pe valorile SHAP:\n",
      "price_ratio            41.5138\n",
      "odometer               23.4128\n",
      "age_at_sale            22.9523\n",
      "make_encoded           12.1210\n",
      "transmission_encoded    0.0000\n",
      "body_encoded            0.0000\n",
      "dtype: float64\n"
     ]
    },
    {
     "data": {
      "text/plain": "<Figure size 800x390 with 2 Axes>",
      "image/png": "[encoded data removed]"
     },
     "metadata": {},
     "output_type": "display_data"
    }
   ],
   "source": [
    "import shap\n",
    "import numpy as np\n",
    "import pandas as pd\n",
    "\n",
    "# Wrapper pentru compatibilitatea modelului cu SHAP (opțional)\n",
    "class DecisionTreeSHAPWrapper:\n",
    "    def __init__(self, model):\n",
    "        self.model = model\n",
    "\n",
    "    def fit(self, X, y):\n",
    "        self.model.fit(X, y)\n",
    "\n",
    "    def predict(self, X):\n",
    "        return self.model.predict(X)\n",
    "\n",
    "# Pregătirea modelului și a datelor\n",
    "clf_shap = DecisionTreeSHAPWrapper(DecisionTreeClassifier(max_depth=10, min_samples=2, max_thresholds=30))\n",
    "clf_shap.fit(X_train, y_train)\n",
    "\n",
    "# SHAP Explainer\n",
    "explainer = shap.Explainer(clf_shap.predict, X_train)\n",
    "\n",
    "# Calculăm valorile SHAP\n",
    "shap_values = explainer(X_test)\n",
    "\n",
    "# Calcularea valorilor procentuale pentru caracteristici\n",
    "shap_values_df = pd.DataFrame(\n",
    "    shap_values.values,\n",
    "    columns=['odometer', 'price_ratio', 'make_encoded', 'age_at_sale', 'transmission_encoded', 'body_encoded']\n",
    ")\n",
    "\n",
    "# Calculăm importanța absolută medie și procentuală\n",
    "shap_feature_importance = shap_values_df.abs().mean()\n",
    "shap_feature_importance_percent = (shap_feature_importance / shap_feature_importance.sum()) * 100\n",
    "\n",
    "# Sortăm caracteristicile în funcție de importanță\n",
    "shap_feature_importance_percent = shap_feature_importance_percent.sort_values(ascending=False)\n",
    "\n",
    "# Afișăm importanța procentuală\n",
    "print(\"\\nImportanța procentuală a caracteristicilor bazată pe valorile SHAP:\")\n",
    "print(shap_feature_importance_percent)\n",
    "\n",
    "# Vizualizare grafică cu SHAP\n",
    "shap.summary_plot(shap_values, X_test, feature_names=['odometer', 'price_ratio', 'make_encoded', 'age_at_sale', 'transmission_encoded', 'body_encoded'])"
   ],
   "metadata": {
    "collapsed": false,
    "ExecuteTime": {
     "end_time": "2025-01-06T14:53:24.583460Z",
     "start_time": "2025-01-06T14:45:30.094696Z"
    }
   },
   "id": "20c29c20b8bec10e",
   "execution_count": 144
  },
  {
   "cell_type": "markdown",
   "source": [
    "## Decision Tree Classifier using libraries"
   ],
   "metadata": {
    "collapsed": false
   },
   "id": "d24650e676810de4"
  },
  {
   "cell_type": "code",
   "outputs": [],
   "source": [
    "import numpy as np\n",
    "import pandas as pd\n",
    "from sklearn.model_selection import train_test_split\n",
    "from sklearn.tree import DecisionTreeClassifier\n",
    "from sklearn.metrics import accuracy_score"
   ],
   "metadata": {
    "collapsed": false,
    "ExecuteTime": {
     "end_time": "2025-01-06T14:58:03.263089Z",
     "start_time": "2025-01-06T14:58:03.239223Z"
    }
   },
   "id": "63f0223d7b35ab90",
   "execution_count": 145
  },
  {
   "cell_type": "code",
   "outputs": [
    {
     "name": "stdout",
     "output_type": "stream",
     "text": [
      "Accuracy: 0.4886\n"
     ]
    }
   ],
   "source": [
    "clf = DecisionTreeClassifier(max_depth=10, min_samples_split=2, random_state=42)\n",
    "\n",
    "clf.fit(X_train, y_train)\n",
    "\n",
    "# Make predictions\n",
    "y_pred = clf.predict(X_test)\n",
    "\n",
    "# Evaluate model performance\n",
    "accuracy = accuracy_score(y_test, y_pred)\n",
    "print(f\"Accuracy: {accuracy:.4f}\")"
   ],
   "metadata": {
    "collapsed": false,
    "ExecuteTime": {
     "end_time": "2025-01-06T15:01:26.147364Z",
     "start_time": "2025-01-06T15:01:25.370260Z"
    }
   },
   "id": "1e6734b06ee5b0c3",
   "execution_count": 147
  },
  {
   "cell_type": "code",
   "outputs": [],
   "source": [
    "from sklearn.metrics import accuracy_score, precision_score, recall_score, f1_score, roc_auc_score, average_precision_score\n",
    "from sklearn.preprocessing import label_binarize\n",
    "import numpy as np"
   ],
   "metadata": {
    "collapsed": false,
    "ExecuteTime": {
     "end_time": "2025-01-06T15:17:41.068778Z",
     "start_time": "2025-01-06T15:17:41.063526Z"
    }
   },
   "id": "bdd651a248ef5c9a",
   "execution_count": 152
  },
  {
   "cell_type": "code",
   "outputs": [
    {
     "name": "stdout",
     "output_type": "stream",
     "text": [
      "Accuracy: 0.4886\n",
      "Precision: 0.4979\n",
      "Recall: 0.4886\n",
      "Sensitivity: 0.4886\n",
      "F1 Score: 0.4826\n",
      "AUC (macro-average): 0.7749\n",
      "AUPRC (macro-average): 0.4413\n"
     ]
    }
   ],
   "source": [
    "# Calculează metricele standard\n",
    "accuracy = accuracy_score(y_test, y_pred)\n",
    "precision = precision_score(y_test, y_pred, average='weighted', zero_division=0)\n",
    "recall = recall_score(y_test, y_pred, average='weighted', zero_division=0)\n",
    "f1 = f1_score(y_test, y_pred, average='weighted')\n",
    "\n",
    "# Binarizează etichetele pentru clasificarea multi-clasă\n",
    "y_test_bin = label_binarize(y_test, classes=np.unique(y_test))\n",
    "\n",
    "# Obține probabilitățile pentru fiecare clasă\n",
    "y_proba = clf.predict_proba(X_test)\n",
    "\n",
    "# Calculează AUC și AUPRC folosind media macro\n",
    "auc = roc_auc_score(y_test_bin, y_proba, average=\"macro\", multi_class=\"ovr\")\n",
    "auprc = average_precision_score(y_test_bin, y_proba, average=\"macro\")\n",
    "\n",
    "# Afișează metricele\n",
    "print(f\"Accuracy: {accuracy:.4f}\")\n",
    "print(f\"Precision: {precision:.4f}\")\n",
    "print(f\"Recall: {recall:.4f}\")\n",
    "print(f\"Sensitivity: {recall:.4f}\")  # Sensitivity este echivalent cu Recall\n",
    "print(f\"F1 Score: {f1:.4f}\")\n",
    "print(f\"AUC (macro-average): {auc:.4f}\")\n",
    "print(f\"AUPRC (macro-average): {auprc:.4f}\")"
   ],
   "metadata": {
    "collapsed": false,
    "ExecuteTime": {
     "end_time": "2025-01-06T15:17:42.175580Z",
     "start_time": "2025-01-06T15:17:41.924462Z"
    }
   },
   "id": "a8fb7f32be44d3a1",
   "execution_count": 153
  },
  {
   "cell_type": "code",
   "outputs": [],
   "source": [],
   "metadata": {
    "collapsed": false
   },
   "id": "d642c1dd33bf8291"
  }
 ],
 "metadata": {
  "kernelspec": {
   "display_name": "Python 3",
   "language": "python",
   "name": "python3"
  },
  "language_info": {
   "codemirror_mode": {
    "name": "ipython",
    "version": 2
   },
   "file_extension": ".py",
   "mimetype": "text/x-python",
   "name": "python",
   "nbconvert_exporter": "python",
   "pygments_lexer": "ipython2",
   "version": "2.7.6"
  }
 },
 "nbformat": 4,
 "nbformat_minor": 5
}
